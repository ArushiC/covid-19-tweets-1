{
 "cells": [
  {
   "cell_type": "markdown",
   "metadata": {},
   "source": [
    "## 1. Import packages"
   ]
  },
  {
   "cell_type": "code",
   "execution_count": 1,
   "metadata": {},
   "outputs": [],
   "source": [
    "#!pip install tweepy"
   ]
  },
  {
   "cell_type": "code",
   "execution_count": 2,
   "metadata": {},
   "outputs": [],
   "source": [
    "import os\n",
    "import tweepy as tw\n",
    "import pandas as pd\n",
    "from tqdm import tqdm"
   ]
  },
  {
   "cell_type": "markdown",
   "metadata": {},
   "source": [
    "## 2. Twitter API authentication"
   ]
  },
  {
   "cell_type": "code",
   "execution_count": 3,
   "metadata": {},
   "outputs": [],
   "source": [
    "consumer_api_key = os.environ[\"TWITTER_CONSUMER_API_KEY\"]\n",
    "consumer_api_secret = os.environ[\"TWITTER_CONSUMER_API_SECRET\"]"
   ]
  },
  {
   "cell_type": "code",
   "execution_count": 4,
   "metadata": {},
   "outputs": [],
   "source": [
    "auth = tw.OAuthHandler(consumer_api_key, consumer_api_secret)"
   ]
  },
  {
   "cell_type": "code",
   "execution_count": 5,
   "metadata": {},
   "outputs": [],
   "source": [
    "api = tw.API(auth, wait_on_rate_limit=True)"
   ]
  },
  {
   "cell_type": "markdown",
   "metadata": {},
   "source": [
    "## 3. Tweets query\n",
    "\n",
    "### 3.1. Define the query"
   ]
  },
  {
   "cell_type": "code",
   "execution_count": 6,
   "metadata": {},
   "outputs": [],
   "source": [
    "search_words = \"#covid19 -filter:retweets\"\n",
    "date_since = \"2020-03-01\"\n",
    "# Collect tweets\n",
    "tweets = tw.Cursor(api.search,\n",
    "              q=search_words,\n",
    "              lang=\"en\",\n",
    "              since=date_since).items(7500)"
   ]
  },
  {
   "cell_type": "markdown",
   "metadata": {},
   "source": [
    "### 3.2. Retreive the tweets"
   ]
  },
  {
   "cell_type": "code",
   "execution_count": 7,
   "metadata": {
    "scrolled": false
   },
   "outputs": [
    {
     "name": "stderr",
     "output_type": "stream",
     "text": [
      "7500it [15:32,  8.05it/s]\n"
     ]
    }
   ],
   "source": [
    "tweets_copy = []\n",
    "for tweet in tqdm(tweets):\n",
    "    tweets_copy.append(tweet)"
   ]
  },
  {
   "cell_type": "code",
   "execution_count": 8,
   "metadata": {},
   "outputs": [
    {
     "name": "stdout",
     "output_type": "stream",
     "text": [
      "new tweets retrieved: 7500\n"
     ]
    }
   ],
   "source": [
    "print(f\"new tweets retrieved: {len(tweets_copy)}\")"
   ]
  },
  {
   "cell_type": "markdown",
   "metadata": {},
   "source": [
    "## 4. Populate the dataset"
   ]
  },
  {
   "cell_type": "code",
   "execution_count": 9,
   "metadata": {
    "scrolled": false
   },
   "outputs": [
    {
     "name": "stderr",
     "output_type": "stream",
     "text": [
      "100%|██████████| 7500/7500 [01:34<00:00, 79.56it/s] \n"
     ]
    }
   ],
   "source": [
    "tweets_df = pd.DataFrame()\n",
    "for tweet in tqdm(tweets_copy):\n",
    "    hashtags = []\n",
    "    try:\n",
    "        for hashtag in tweet.entities[\"hashtags\"]:\n",
    "            hashtags.append(hashtag[\"text\"])\n",
    "    except:\n",
    "        pass\n",
    "    tweets_df = tweets_df.append(pd.DataFrame({'user_name': tweet.user.name, \n",
    "                                               'user_location': tweet.user.location,\\\n",
    "                                               'user_description': tweet.user.description,\n",
    "                                               'user_created': tweet.user.created_at,\n",
    "                                               'user_followers': tweet.user.followers_count,\n",
    "                                               'user_friends': tweet.user.friends_count,\n",
    "                                               'user_favourites': tweet.user.favourites_count,\n",
    "                                               'user_verified': tweet.user.verified,\n",
    "                                               'date': tweet.created_at,\n",
    "                                               'text': tweet.text, \n",
    "                                               'hashtags': [hashtags if hashtags else None],\n",
    "                                               'source': tweet.source,\n",
    "                                               'is_retweet': tweet.retweeted}, index=[0]))"
   ]
  },
  {
   "cell_type": "code",
   "execution_count": 10,
   "metadata": {},
   "outputs": [
    {
     "data": {
      "text/html": [
       "<div>\n",
       "<style scoped>\n",
       "    .dataframe tbody tr th:only-of-type {\n",
       "        vertical-align: middle;\n",
       "    }\n",
       "\n",
       "    .dataframe tbody tr th {\n",
       "        vertical-align: top;\n",
       "    }\n",
       "\n",
       "    .dataframe thead th {\n",
       "        text-align: right;\n",
       "    }\n",
       "</style>\n",
       "<table border=\"1\" class=\"dataframe\">\n",
       "  <thead>\n",
       "    <tr style=\"text-align: right;\">\n",
       "      <th></th>\n",
       "      <th>user_name</th>\n",
       "      <th>user_location</th>\n",
       "      <th>user_description</th>\n",
       "      <th>user_created</th>\n",
       "      <th>user_followers</th>\n",
       "      <th>user_friends</th>\n",
       "      <th>user_favourites</th>\n",
       "      <th>user_verified</th>\n",
       "      <th>date</th>\n",
       "      <th>text</th>\n",
       "      <th>hashtags</th>\n",
       "      <th>source</th>\n",
       "      <th>is_retweet</th>\n",
       "    </tr>\n",
       "  </thead>\n",
       "  <tbody>\n",
       "    <tr>\n",
       "      <th>0</th>\n",
       "      <td>Shashi Tharoor</td>\n",
       "      <td>New Delhi &amp; Thiruvananthapuram</td>\n",
       "      <td>MP for Thiruvananthapuram. Author of 20 books....</td>\n",
       "      <td>2009-03-16 15:12:51</td>\n",
       "      <td>7646971</td>\n",
       "      <td>989</td>\n",
       "      <td>18727</td>\n",
       "      <td>True</td>\n",
       "      <td>2020-08-08 14:43:07</td>\n",
       "      <td>Don't know whether to laugh or cry! Polls are ...</td>\n",
       "      <td>None</td>\n",
       "      <td>Twitter Web App</td>\n",
       "      <td>False</td>\n",
       "    </tr>\n",
       "    <tr>\n",
       "      <th>0</th>\n",
       "      <td>Journalist Siraj Noorani</td>\n",
       "      <td>mumbai</td>\n",
       "      <td>Journalist @hathodapost &amp; @4tvhyd Secretary At...</td>\n",
       "      <td>2010-08-22 10:03:30</td>\n",
       "      <td>635</td>\n",
       "      <td>2682</td>\n",
       "      <td>3386</td>\n",
       "      <td>False</td>\n",
       "      <td>2020-08-08 14:43:06</td>\n",
       "      <td>5,883 new #COVID19 positive cases and 118 deat...</td>\n",
       "      <td>[COVID19, TamilNadu]</td>\n",
       "      <td>Twitter for Android</td>\n",
       "      <td>False</td>\n",
       "    </tr>\n",
       "    <tr>\n",
       "      <th>0</th>\n",
       "      <td>André Picard</td>\n",
       "      <td>Montréal</td>\n",
       "      <td>André Picard is the health columnist at The Gl...</td>\n",
       "      <td>2011-02-15 22:51:18</td>\n",
       "      <td>112462</td>\n",
       "      <td>1809</td>\n",
       "      <td>1644</td>\n",
       "      <td>True</td>\n",
       "      <td>2020-08-08 14:43:00</td>\n",
       "      <td>Why the #Coronavirus is More Likely to ‘Supers...</td>\n",
       "      <td>[Coronavirus]</td>\n",
       "      <td>Twitter Web App</td>\n",
       "      <td>False</td>\n",
       "    </tr>\n",
       "    <tr>\n",
       "      <th>0</th>\n",
       "      <td>NYC Immigrant Affairs</td>\n",
       "      <td>New York City</td>\n",
       "      <td>Where you were born does not matter—when you'r...</td>\n",
       "      <td>2010-02-19 14:00:39</td>\n",
       "      <td>23836</td>\n",
       "      <td>1308</td>\n",
       "      <td>5503</td>\n",
       "      <td>True</td>\n",
       "      <td>2020-08-08 14:43:00</td>\n",
       "      <td>The #COVID19 fight will only be won if we work...</td>\n",
       "      <td>[COVID19]</td>\n",
       "      <td>Twitter Media Studio</td>\n",
       "      <td>False</td>\n",
       "    </tr>\n",
       "    <tr>\n",
       "      <th>0</th>\n",
       "      <td>Offeh Michael</td>\n",
       "      <td>Ghana</td>\n",
       "      <td>Physician Assistant | Global Public Health | T...</td>\n",
       "      <td>2013-06-12 22:51:51</td>\n",
       "      <td>207</td>\n",
       "      <td>871</td>\n",
       "      <td>1380</td>\n",
       "      <td>False</td>\n",
       "      <td>2020-08-08 14:42:57</td>\n",
       "      <td>Wear a mask. \\nSanitize ot wash yout hands fre...</td>\n",
       "      <td>[WearAMaskChallenge]</td>\n",
       "      <td>Twitter for Android</td>\n",
       "      <td>False</td>\n",
       "    </tr>\n",
       "  </tbody>\n",
       "</table>\n",
       "</div>"
      ],
      "text/plain": [
       "                  user_name                   user_location  \\\n",
       "0            Shashi Tharoor  New Delhi & Thiruvananthapuram   \n",
       "0  Journalist Siraj Noorani                          mumbai   \n",
       "0              André Picard                        Montréal   \n",
       "0     NYC Immigrant Affairs                   New York City   \n",
       "0             Offeh Michael                           Ghana   \n",
       "\n",
       "                                    user_description        user_created  \\\n",
       "0  MP for Thiruvananthapuram. Author of 20 books.... 2009-03-16 15:12:51   \n",
       "0  Journalist @hathodapost & @4tvhyd Secretary At... 2010-08-22 10:03:30   \n",
       "0  André Picard is the health columnist at The Gl... 2011-02-15 22:51:18   \n",
       "0  Where you were born does not matter—when you'r... 2010-02-19 14:00:39   \n",
       "0  Physician Assistant | Global Public Health | T... 2013-06-12 22:51:51   \n",
       "\n",
       "   user_followers  user_friends  user_favourites  user_verified  \\\n",
       "0         7646971           989            18727           True   \n",
       "0             635          2682             3386          False   \n",
       "0          112462          1809             1644           True   \n",
       "0           23836          1308             5503           True   \n",
       "0             207           871             1380          False   \n",
       "\n",
       "                 date                                               text  \\\n",
       "0 2020-08-08 14:43:07  Don't know whether to laugh or cry! Polls are ...   \n",
       "0 2020-08-08 14:43:06  5,883 new #COVID19 positive cases and 118 deat...   \n",
       "0 2020-08-08 14:43:00  Why the #Coronavirus is More Likely to ‘Supers...   \n",
       "0 2020-08-08 14:43:00  The #COVID19 fight will only be won if we work...   \n",
       "0 2020-08-08 14:42:57  Wear a mask. \\nSanitize ot wash yout hands fre...   \n",
       "\n",
       "               hashtags                source  is_retweet  \n",
       "0                  None       Twitter Web App       False  \n",
       "0  [COVID19, TamilNadu]   Twitter for Android       False  \n",
       "0         [Coronavirus]       Twitter Web App       False  \n",
       "0             [COVID19]  Twitter Media Studio       False  \n",
       "0  [WearAMaskChallenge]   Twitter for Android       False  "
      ]
     },
     "execution_count": 10,
     "metadata": {},
     "output_type": "execute_result"
    }
   ],
   "source": [
    "tweets_df.head()"
   ]
  },
  {
   "cell_type": "markdown",
   "metadata": {},
   "source": [
    "## 5. Save the data\n",
    "\n",
    "### 5.1. Read past data"
   ]
  },
  {
   "cell_type": "code",
   "execution_count": 11,
   "metadata": {},
   "outputs": [
    {
     "name": "stdout",
     "output_type": "stream",
     "text": [
      "past tweets: (82710, 13)\n"
     ]
    }
   ],
   "source": [
    "tweets_old_df = pd.read_csv(\"covid19_tweets.csv\")\n",
    "print(f\"past tweets: {tweets_old_df.shape}\")"
   ]
  },
  {
   "cell_type": "markdown",
   "metadata": {},
   "source": [
    "### 5.2. Merge past and present data"
   ]
  },
  {
   "cell_type": "code",
   "execution_count": 12,
   "metadata": {},
   "outputs": [
    {
     "name": "stdout",
     "output_type": "stream",
     "text": [
      "new tweets: 7500 past tweets: 82710 all tweets: 90210\n"
     ]
    }
   ],
   "source": [
    "tweets_all_df = pd.concat([tweets_old_df, tweets_df], axis=0)\n",
    "print(f\"new tweets: {tweets_df.shape[0]} past tweets: {tweets_old_df.shape[0]} all tweets: {tweets_all_df.shape[0]}\")"
   ]
  },
  {
   "cell_type": "markdown",
   "metadata": {},
   "source": [
    "### 5.3. Drop duplicates"
   ]
  },
  {
   "cell_type": "code",
   "execution_count": 13,
   "metadata": {},
   "outputs": [
    {
     "name": "stdout",
     "output_type": "stream",
     "text": [
      "all tweets: (90210, 13)\n"
     ]
    }
   ],
   "source": [
    "tweets_all_df.drop_duplicates(subset = [\"user_name\", \"date\", \"text\"], inplace=True)\n",
    "print(f\"all tweets: {tweets_all_df.shape}\")"
   ]
  },
  {
   "cell_type": "markdown",
   "metadata": {},
   "source": [
    "### 5.4. Export the updated data"
   ]
  },
  {
   "cell_type": "code",
   "execution_count": 14,
   "metadata": {},
   "outputs": [],
   "source": [
    "tweets_all_df.to_csv(\"covid19_tweets.csv\", index=False)"
   ]
  },
  {
   "cell_type": "code",
   "execution_count": null,
   "metadata": {},
   "outputs": [],
   "source": []
  }
 ],
 "metadata": {
  "kernelspec": {
   "display_name": "Python 3",
   "language": "python",
   "name": "python3"
  },
  "language_info": {
   "codemirror_mode": {
    "name": "ipython",
    "version": 3
   },
   "file_extension": ".py",
   "mimetype": "text/x-python",
   "name": "python",
   "nbconvert_exporter": "python",
   "pygments_lexer": "ipython3",
   "version": "3.7.6"
  }
 },
 "nbformat": 4,
 "nbformat_minor": 4
}
