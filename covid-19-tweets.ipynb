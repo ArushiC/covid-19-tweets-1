{
 "cells": [
  {
   "cell_type": "markdown",
   "metadata": {},
   "source": [
    "## 1. Import packages"
   ]
  },
  {
   "cell_type": "code",
   "execution_count": 1,
   "metadata": {},
   "outputs": [],
   "source": [
    "#!pip install tweepy"
   ]
  },
  {
   "cell_type": "code",
   "execution_count": 2,
   "metadata": {},
   "outputs": [],
   "source": [
    "import os\n",
    "import tweepy as tw\n",
    "import pandas as pd\n",
    "from tqdm import tqdm"
   ]
  },
  {
   "cell_type": "markdown",
   "metadata": {},
   "source": [
    "## 2. Twitter API authentication"
   ]
  },
  {
   "cell_type": "code",
   "execution_count": 3,
   "metadata": {},
   "outputs": [],
   "source": [
    "consumer_api_key = os.environ[\"TWITTER_CONSUMER_API_KEY\"]\n",
    "consumer_api_secret = os.environ[\"TWITTER_CONSUMER_API_SECRET\"]"
   ]
  },
  {
   "cell_type": "code",
   "execution_count": 4,
   "metadata": {},
   "outputs": [],
   "source": [
    "auth = tw.OAuthHandler(consumer_api_key, consumer_api_secret)"
   ]
  },
  {
   "cell_type": "code",
   "execution_count": 5,
   "metadata": {},
   "outputs": [],
   "source": [
    "api = tw.API(auth, wait_on_rate_limit=True)"
   ]
  },
  {
   "cell_type": "markdown",
   "metadata": {},
   "source": [
    "## 3. Tweets query\n",
    "\n",
    "### 3.1. Define the query"
   ]
  },
  {
   "cell_type": "code",
   "execution_count": 6,
   "metadata": {},
   "outputs": [],
   "source": [
    "search_words = \"#covid19 -filter:retweets\"\n",
    "date_since = \"2020-03-01\"\n",
    "# Collect tweets\n",
    "tweets = tw.Cursor(api.search,\n",
    "              q=search_words,\n",
    "              lang=\"en\",\n",
    "              since=date_since).items(7500)"
   ]
  },
  {
   "cell_type": "markdown",
   "metadata": {},
   "source": [
    "### 3.2. Retreive the tweets"
   ]
  },
  {
   "cell_type": "code",
   "execution_count": 7,
   "metadata": {
    "scrolled": false
   },
   "outputs": [
    {
     "name": "stderr",
     "output_type": "stream",
     "text": [
      "7500it [15:38,  7.99it/s]\n"
     ]
    }
   ],
   "source": [
    "tweets_copy = []\n",
    "for tweet in tqdm(tweets):\n",
    "    tweets_copy.append(tweet)"
   ]
  },
  {
   "cell_type": "code",
   "execution_count": 8,
   "metadata": {},
   "outputs": [
    {
     "name": "stdout",
     "output_type": "stream",
     "text": [
      "new tweets retrieved: 7500\n"
     ]
    }
   ],
   "source": [
    "print(f\"new tweets retrieved: {len(tweets_copy)}\")"
   ]
  },
  {
   "cell_type": "markdown",
   "metadata": {},
   "source": [
    "## 4. Populate the dataset"
   ]
  },
  {
   "cell_type": "code",
   "execution_count": 9,
   "metadata": {
    "scrolled": false
   },
   "outputs": [
    {
     "name": "stderr",
     "output_type": "stream",
     "text": [
      "100%|██████████| 7500/7500 [00:38<00:00, 193.52it/s]\n"
     ]
    }
   ],
   "source": [
    "tweets_df = pd.DataFrame()\n",
    "for tweet in tqdm(tweets_copy):\n",
    "    hashtags = []\n",
    "    try:\n",
    "        for hashtag in tweet.entities[\"hashtags\"]:\n",
    "            hashtags.append(hashtag[\"text\"])\n",
    "    except:\n",
    "        pass\n",
    "    tweets_df = tweets_df.append(pd.DataFrame({'user_name': tweet.user.name, \n",
    "                                               'user_location': tweet.user.location,\\\n",
    "                                               'user_description': tweet.user.description,\n",
    "                                               'user_created': tweet.user.created_at,\n",
    "                                               'user_followers': tweet.user.followers_count,\n",
    "                                               'user_friends': tweet.user.friends_count,\n",
    "                                               'user_favourites': tweet.user.favourites_count,\n",
    "                                               'user_verified': tweet.user.verified,\n",
    "                                               'date': tweet.created_at,\n",
    "                                               'text': tweet.text, \n",
    "                                               'hashtags': [hashtags if hashtags else None],\n",
    "                                               'source': tweet.source,\n",
    "                                               'is_retweet': tweet.retweeted}, index=[0]))"
   ]
  },
  {
   "cell_type": "code",
   "execution_count": 10,
   "metadata": {},
   "outputs": [
    {
     "data": {
      "text/html": [
       "<div>\n",
       "<style scoped>\n",
       "    .dataframe tbody tr th:only-of-type {\n",
       "        vertical-align: middle;\n",
       "    }\n",
       "\n",
       "    .dataframe tbody tr th {\n",
       "        vertical-align: top;\n",
       "    }\n",
       "\n",
       "    .dataframe thead th {\n",
       "        text-align: right;\n",
       "    }\n",
       "</style>\n",
       "<table border=\"1\" class=\"dataframe\">\n",
       "  <thead>\n",
       "    <tr style=\"text-align: right;\">\n",
       "      <th></th>\n",
       "      <th>user_name</th>\n",
       "      <th>user_location</th>\n",
       "      <th>user_description</th>\n",
       "      <th>user_created</th>\n",
       "      <th>user_followers</th>\n",
       "      <th>user_friends</th>\n",
       "      <th>user_favourites</th>\n",
       "      <th>user_verified</th>\n",
       "      <th>date</th>\n",
       "      <th>text</th>\n",
       "      <th>hashtags</th>\n",
       "      <th>source</th>\n",
       "      <th>is_retweet</th>\n",
       "    </tr>\n",
       "  </thead>\n",
       "  <tbody>\n",
       "    <tr>\n",
       "      <th>0</th>\n",
       "      <td>Greylupine710</td>\n",
       "      <td>New York, USA</td>\n",
       "      <td>Storyteller. Avid reader. Video gamer. Role-pl...</td>\n",
       "      <td>2017-08-12 09:19:21</td>\n",
       "      <td>2647</td>\n",
       "      <td>1969</td>\n",
       "      <td>94269</td>\n",
       "      <td>False</td>\n",
       "      <td>2020-08-02 21:51:28</td>\n",
       "      <td>It took two days since the last time I posted,...</td>\n",
       "      <td>None</td>\n",
       "      <td>Twitter Web App</td>\n",
       "      <td>False</td>\n",
       "    </tr>\n",
       "    <tr>\n",
       "      <th>0</th>\n",
       "      <td>Jon Cohen</td>\n",
       "      <td>Westchester County, NY</td>\n",
       "      <td>“I don’t mind being called a propagandist, so ...</td>\n",
       "      <td>2009-03-04 00:39:31</td>\n",
       "      <td>2600</td>\n",
       "      <td>4994</td>\n",
       "      <td>210678</td>\n",
       "      <td>False</td>\n",
       "      <td>2020-08-02 21:51:26</td>\n",
       "      <td>Coronavirus #updates: Kids make up 10% of new ...</td>\n",
       "      <td>[updates, Louisiana]</td>\n",
       "      <td>Twitter Web App</td>\n",
       "      <td>False</td>\n",
       "    </tr>\n",
       "    <tr>\n",
       "      <th>0</th>\n",
       "      <td>UJ_roc</td>\n",
       "      <td>In Cognito near Toledo</td>\n",
       "      <td></td>\n",
       "      <td>2012-06-01 13:02:30</td>\n",
       "      <td>110</td>\n",
       "      <td>359</td>\n",
       "      <td>130</td>\n",
       "      <td>False</td>\n",
       "      <td>2020-08-02 21:51:18</td>\n",
       "      <td>@marcorubio\\n\\nSort of like @realDonaldTrump's...</td>\n",
       "      <td>[Covid19]</td>\n",
       "      <td>TweetCaster for Android</td>\n",
       "      <td>False</td>\n",
       "    </tr>\n",
       "    <tr>\n",
       "      <th>0</th>\n",
       "      <td>Dustin LaPres</td>\n",
       "      <td>Reality</td>\n",
       "      <td>Beauty is Truth and Truth is Beauty...Musician...</td>\n",
       "      <td>2012-04-19 15:16:48</td>\n",
       "      <td>814</td>\n",
       "      <td>3089</td>\n",
       "      <td>85981</td>\n",
       "      <td>False</td>\n",
       "      <td>2020-08-02 21:51:15</td>\n",
       "      <td>@TheJonIverson @joshgad Foreign Assistance? I ...</td>\n",
       "      <td>None</td>\n",
       "      <td>Twitter for Android</td>\n",
       "      <td>False</td>\n",
       "    </tr>\n",
       "    <tr>\n",
       "      <th>0</th>\n",
       "      <td>Brain Treenew</td>\n",
       "      <td></td>\n",
       "      <td>We lived through Obama.  You’ll live through T...</td>\n",
       "      <td>2017-12-14 03:15:14</td>\n",
       "      <td>568</td>\n",
       "      <td>644</td>\n",
       "      <td>18724</td>\n",
       "      <td>False</td>\n",
       "      <td>2020-08-02 21:51:13</td>\n",
       "      <td>#COVID19 #AmericaFirst  I am tired of politici...</td>\n",
       "      <td>[COVID19, AmericaFirst]</td>\n",
       "      <td>Twitter for iPhone</td>\n",
       "      <td>False</td>\n",
       "    </tr>\n",
       "  </tbody>\n",
       "</table>\n",
       "</div>"
      ],
      "text/plain": [
       "       user_name           user_location  \\\n",
       "0  Greylupine710           New York, USA   \n",
       "0      Jon Cohen  Westchester County, NY   \n",
       "0         UJ_roc  In Cognito near Toledo   \n",
       "0  Dustin LaPres                 Reality   \n",
       "0  Brain Treenew                           \n",
       "\n",
       "                                    user_description        user_created  \\\n",
       "0  Storyteller. Avid reader. Video gamer. Role-pl... 2017-08-12 09:19:21   \n",
       "0  “I don’t mind being called a propagandist, so ... 2009-03-04 00:39:31   \n",
       "0                                                    2012-06-01 13:02:30   \n",
       "0  Beauty is Truth and Truth is Beauty...Musician... 2012-04-19 15:16:48   \n",
       "0  We lived through Obama.  You’ll live through T... 2017-12-14 03:15:14   \n",
       "\n",
       "   user_followers  user_friends  user_favourites  user_verified  \\\n",
       "0            2647          1969            94269          False   \n",
       "0            2600          4994           210678          False   \n",
       "0             110           359              130          False   \n",
       "0             814          3089            85981          False   \n",
       "0             568           644            18724          False   \n",
       "\n",
       "                 date                                               text  \\\n",
       "0 2020-08-02 21:51:28  It took two days since the last time I posted,...   \n",
       "0 2020-08-02 21:51:26  Coronavirus #updates: Kids make up 10% of new ...   \n",
       "0 2020-08-02 21:51:18  @marcorubio\\n\\nSort of like @realDonaldTrump's...   \n",
       "0 2020-08-02 21:51:15  @TheJonIverson @joshgad Foreign Assistance? I ...   \n",
       "0 2020-08-02 21:51:13  #COVID19 #AmericaFirst  I am tired of politici...   \n",
       "\n",
       "                  hashtags                   source  is_retweet  \n",
       "0                     None          Twitter Web App       False  \n",
       "0     [updates, Louisiana]          Twitter Web App       False  \n",
       "0                [Covid19]  TweetCaster for Android       False  \n",
       "0                     None      Twitter for Android       False  \n",
       "0  [COVID19, AmericaFirst]       Twitter for iPhone       False  "
      ]
     },
     "execution_count": 10,
     "metadata": {},
     "output_type": "execute_result"
    }
   ],
   "source": [
    "tweets_df.head()"
   ]
  },
  {
   "cell_type": "markdown",
   "metadata": {},
   "source": [
    "## 5. Save the data\n",
    "\n",
    "### 5.1. Read past data"
   ]
  },
  {
   "cell_type": "code",
   "execution_count": 11,
   "metadata": {},
   "outputs": [
    {
     "name": "stdout",
     "output_type": "stream",
     "text": [
      "past tweets: (59436, 13)\n"
     ]
    }
   ],
   "source": [
    "tweets_old_df = pd.read_csv(\"covid19_tweets.csv\")\n",
    "print(f\"past tweets: {tweets_old_df.shape}\")"
   ]
  },
  {
   "cell_type": "markdown",
   "metadata": {},
   "source": [
    "### 5.2. Merge past and present data"
   ]
  },
  {
   "cell_type": "code",
   "execution_count": 12,
   "metadata": {},
   "outputs": [
    {
     "name": "stdout",
     "output_type": "stream",
     "text": [
      "new tweets: 7500 past tweets: 59436 all tweets: 66936\n"
     ]
    }
   ],
   "source": [
    "tweets_all_df = pd.concat([tweets_old_df, tweets_df], axis=0)\n",
    "print(f\"new tweets: {tweets_df.shape[0]} past tweets: {tweets_old_df.shape[0]} all tweets: {tweets_all_df.shape[0]}\")"
   ]
  },
  {
   "cell_type": "markdown",
   "metadata": {},
   "source": [
    "### 5.3. Drop duplicates"
   ]
  },
  {
   "cell_type": "code",
   "execution_count": 13,
   "metadata": {},
   "outputs": [
    {
     "name": "stdout",
     "output_type": "stream",
     "text": [
      "all tweets: (66936, 13)\n"
     ]
    }
   ],
   "source": [
    "tweets_all_df.drop_duplicates(subset = [\"user_name\", \"date\", \"text\"], inplace=True)\n",
    "print(f\"all tweets: {tweets_all_df.shape}\")"
   ]
  },
  {
   "cell_type": "markdown",
   "metadata": {},
   "source": [
    "### 5.4. Export the updated data"
   ]
  },
  {
   "cell_type": "code",
   "execution_count": 14,
   "metadata": {},
   "outputs": [],
   "source": [
    "tweets_all_df.to_csv(\"covid19_tweets.csv\", index=False)"
   ]
  },
  {
   "cell_type": "code",
   "execution_count": null,
   "metadata": {},
   "outputs": [],
   "source": []
  }
 ],
 "metadata": {
  "kernelspec": {
   "display_name": "Python 3",
   "language": "python",
   "name": "python3"
  },
  "language_info": {
   "codemirror_mode": {
    "name": "ipython",
    "version": 3
   },
   "file_extension": ".py",
   "mimetype": "text/x-python",
   "name": "python",
   "nbconvert_exporter": "python",
   "pygments_lexer": "ipython3",
   "version": "3.7.6"
  }
 },
 "nbformat": 4,
 "nbformat_minor": 4
}
