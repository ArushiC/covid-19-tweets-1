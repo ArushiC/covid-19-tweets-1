{
 "cells": [
  {
   "cell_type": "markdown",
   "metadata": {},
   "source": [
    "## 1. Import packages"
   ]
  },
  {
   "cell_type": "code",
   "execution_count": 23,
   "metadata": {},
   "outputs": [],
   "source": [
    "#!pip install tweepy"
   ]
  },
  {
   "cell_type": "code",
   "execution_count": 24,
   "metadata": {},
   "outputs": [],
   "source": [
    "import os\n",
    "import tweepy as tw\n",
    "import pandas as pd\n",
    "from tqdm import tqdm"
   ]
  },
  {
   "cell_type": "markdown",
   "metadata": {},
   "source": [
    "## 2. Twitter API authentication"
   ]
  },
  {
   "cell_type": "code",
   "execution_count": 25,
   "metadata": {},
   "outputs": [],
   "source": [
    "consumer_api_key = os.environ[\"TWITTER_CONSUMER_API_KEY\"]\n",
    "consumer_api_secret = os.environ[\"TWITTER_CONSUMER_API_SECRET\"]"
   ]
  },
  {
   "cell_type": "code",
   "execution_count": 26,
   "metadata": {},
   "outputs": [],
   "source": [
    "auth = tw.OAuthHandler(consumer_api_key, consumer_api_secret)"
   ]
  },
  {
   "cell_type": "code",
   "execution_count": 27,
   "metadata": {},
   "outputs": [],
   "source": [
    "api = tw.API(auth, wait_on_rate_limit=True)"
   ]
  },
  {
   "cell_type": "markdown",
   "metadata": {},
   "source": [
    "## 3. Tweets query\n",
    "\n",
    "### 3.1. Define the query"
   ]
  },
  {
   "cell_type": "code",
   "execution_count": 28,
   "metadata": {},
   "outputs": [],
   "source": [
    "search_words = \"#covid19 -filter:retweets\"\n",
    "date_since = \"2020-03-01\"\n",
    "# Collect tweets\n",
    "tweets = tw.Cursor(api.search,\n",
    "              q=search_words,\n",
    "              lang=\"en\",\n",
    "              since=date_since).items(7500)"
   ]
  },
  {
   "cell_type": "markdown",
   "metadata": {},
   "source": [
    "### 3.2. Retreive the tweets"
   ]
  },
  {
   "cell_type": "code",
   "execution_count": 29,
   "metadata": {
    "scrolled": false
   },
   "outputs": [
    {
     "name": "stderr",
     "output_type": "stream",
     "text": [
      "7500it [06:57, 17.96it/s]\n"
     ]
    }
   ],
   "source": [
    "tweets_copy = []\n",
    "for tweet in tqdm(tweets):\n",
    "    tweets_copy.append(tweet)"
   ]
  },
  {
   "cell_type": "code",
   "execution_count": 30,
   "metadata": {},
   "outputs": [
    {
     "name": "stdout",
     "output_type": "stream",
     "text": [
      "new tweets retrieved: 7500\n"
     ]
    }
   ],
   "source": [
    "print(f\"new tweets retrieved: {len(tweets_copy)}\")"
   ]
  },
  {
   "cell_type": "markdown",
   "metadata": {},
   "source": [
    "## 4. Populate the dataset"
   ]
  },
  {
   "cell_type": "code",
   "execution_count": 31,
   "metadata": {
    "scrolled": false
   },
   "outputs": [
    {
     "name": "stderr",
     "output_type": "stream",
     "text": [
      "100%|██████████| 7500/7500 [00:36<00:00, 204.72it/s]\n"
     ]
    }
   ],
   "source": [
    "tweets_df = pd.DataFrame()\n",
    "for tweet in tqdm(tweets_copy):\n",
    "    hashtags = []\n",
    "    try:\n",
    "        for hashtag in tweet.entities[\"hashtags\"]:\n",
    "            hashtags.append(hashtag[\"text\"])\n",
    "    except:\n",
    "        pass\n",
    "    tweets_df = tweets_df.append(pd.DataFrame({'user_name': tweet.user.name, \n",
    "                                               'user_location': tweet.user.location,\\\n",
    "                                               'user_description': tweet.user.description,\n",
    "                                               'user_created': tweet.user.created_at,\n",
    "                                               'user_followers': tweet.user.followers_count,\n",
    "                                               'user_friends': tweet.user.friends_count,\n",
    "                                               'user_favourites': tweet.user.favourites_count,\n",
    "                                               'user_verified': tweet.user.verified,\n",
    "                                               'date': tweet.created_at,\n",
    "                                               'text': tweet.text, \n",
    "                                               'hashtags': [hashtags if hashtags else None],\n",
    "                                               'source': tweet.source,\n",
    "                                               'is_retweet': tweet.retweeted}, index=[0]))"
   ]
  },
  {
   "cell_type": "code",
   "execution_count": 32,
   "metadata": {},
   "outputs": [
    {
     "data": {
      "text/html": [
       "<div>\n",
       "<style scoped>\n",
       "    .dataframe tbody tr th:only-of-type {\n",
       "        vertical-align: middle;\n",
       "    }\n",
       "\n",
       "    .dataframe tbody tr th {\n",
       "        vertical-align: top;\n",
       "    }\n",
       "\n",
       "    .dataframe thead th {\n",
       "        text-align: right;\n",
       "    }\n",
       "</style>\n",
       "<table border=\"1\" class=\"dataframe\">\n",
       "  <thead>\n",
       "    <tr style=\"text-align: right;\">\n",
       "      <th></th>\n",
       "      <th>user_name</th>\n",
       "      <th>user_location</th>\n",
       "      <th>user_description</th>\n",
       "      <th>user_created</th>\n",
       "      <th>user_followers</th>\n",
       "      <th>user_friends</th>\n",
       "      <th>user_favourites</th>\n",
       "      <th>user_verified</th>\n",
       "      <th>date</th>\n",
       "      <th>text</th>\n",
       "      <th>hashtags</th>\n",
       "      <th>source</th>\n",
       "      <th>is_retweet</th>\n",
       "    </tr>\n",
       "  </thead>\n",
       "  <tbody>\n",
       "    <tr>\n",
       "      <th>0</th>\n",
       "      <td>Mr. Toro Güero, #WearAMask #HighTransmissibility</td>\n",
       "      <td>Blocked by @RealJamesWoods</td>\n",
       "      <td>*Blunt* #Agave #advocate #diffusist #tequila #...</td>\n",
       "      <td>2010-12-08 06:21:51</td>\n",
       "      <td>2461</td>\n",
       "      <td>1586</td>\n",
       "      <td>10362</td>\n",
       "      <td>False</td>\n",
       "      <td>2020-07-26 09:33:31</td>\n",
       "      <td>Bravo sir. You're fast becoming one of the wor...</td>\n",
       "      <td>[Mexico, failedpresident, covid19]</td>\n",
       "      <td>Twitter Web App</td>\n",
       "      <td>False</td>\n",
       "    </tr>\n",
       "    <tr>\n",
       "      <th>0</th>\n",
       "      <td>Venus Destination</td>\n",
       "      <td>Mumbai</td>\n",
       "      <td>A one stop Travel Planner thay avails the cust...</td>\n",
       "      <td>2018-08-16 20:12:44</td>\n",
       "      <td>14</td>\n",
       "      <td>13</td>\n",
       "      <td>2</td>\n",
       "      <td>False</td>\n",
       "      <td>2020-07-26 09:33:31</td>\n",
       "      <td>Grab the last hour seats to Lucknow from Dubai...</td>\n",
       "      <td>None</td>\n",
       "      <td>Twitter for Android</td>\n",
       "      <td>False</td>\n",
       "    </tr>\n",
       "    <tr>\n",
       "      <th>0</th>\n",
       "      <td>ZWkt</td>\n",
       "      <td>France</td>\n",
       "      <td>Workout music motivation</td>\n",
       "      <td>2020-01-26 11:53:45</td>\n",
       "      <td>0</td>\n",
       "      <td>0</td>\n",
       "      <td>10</td>\n",
       "      <td>False</td>\n",
       "      <td>2020-07-26 09:33:24</td>\n",
       "      <td>Pourquoi les esclaves noir porter des masques?...</td>\n",
       "      <td>[covid, Covid_19, COVIDIOTS]</td>\n",
       "      <td>Twitter Web App</td>\n",
       "      <td>False</td>\n",
       "    </tr>\n",
       "    <tr>\n",
       "      <th>0</th>\n",
       "      <td>Afrobodies</td>\n",
       "      <td>South Africa</td>\n",
       "      <td>South African recombinant alpaca antibody prod...</td>\n",
       "      <td>2015-08-20 19:10:38</td>\n",
       "      <td>195</td>\n",
       "      <td>412</td>\n",
       "      <td>66</td>\n",
       "      <td>False</td>\n",
       "      <td>2020-07-26 09:33:22</td>\n",
       "      <td>Report coming from the UK which may have impor...</td>\n",
       "      <td>[COVID19]</td>\n",
       "      <td>Twitter for Android</td>\n",
       "      <td>False</td>\n",
       "    </tr>\n",
       "    <tr>\n",
       "      <th>0</th>\n",
       "      <td>Sauk River Review</td>\n",
       "      <td>RTs are not endorsements. Views expressed are ...</td>\n",
       "      <td>American imagination artists living in PNW. Ha...</td>\n",
       "      <td>2011-09-17 04:57:07</td>\n",
       "      <td>4033</td>\n",
       "      <td>4994</td>\n",
       "      <td>102013</td>\n",
       "      <td>False</td>\n",
       "      <td>2020-07-26 09:33:19</td>\n",
       "      <td>@orblivion @klara_sjo @tsaylor Maybe that’s wh...</td>\n",
       "      <td>None</td>\n",
       "      <td>Twitter Web App</td>\n",
       "      <td>False</td>\n",
       "    </tr>\n",
       "  </tbody>\n",
       "</table>\n",
       "</div>"
      ],
      "text/plain": [
       "                                          user_name  \\\n",
       "0  Mr. Toro Güero, #WearAMask #HighTransmissibility   \n",
       "0                                 Venus Destination   \n",
       "0                                              ZWkt   \n",
       "0                                        Afrobodies   \n",
       "0                                 Sauk River Review   \n",
       "\n",
       "                                       user_location  \\\n",
       "0                         Blocked by @RealJamesWoods   \n",
       "0                                             Mumbai   \n",
       "0                                             France   \n",
       "0                                       South Africa   \n",
       "0  RTs are not endorsements. Views expressed are ...   \n",
       "\n",
       "                                    user_description        user_created  \\\n",
       "0  *Blunt* #Agave #advocate #diffusist #tequila #... 2010-12-08 06:21:51   \n",
       "0  A one stop Travel Planner thay avails the cust... 2018-08-16 20:12:44   \n",
       "0                           Workout music motivation 2020-01-26 11:53:45   \n",
       "0  South African recombinant alpaca antibody prod... 2015-08-20 19:10:38   \n",
       "0  American imagination artists living in PNW. Ha... 2011-09-17 04:57:07   \n",
       "\n",
       "   user_followers  user_friends  user_favourites  user_verified  \\\n",
       "0            2461          1586            10362          False   \n",
       "0              14            13                2          False   \n",
       "0               0             0               10          False   \n",
       "0             195           412               66          False   \n",
       "0            4033          4994           102013          False   \n",
       "\n",
       "                 date                                               text  \\\n",
       "0 2020-07-26 09:33:31  Bravo sir. You're fast becoming one of the wor...   \n",
       "0 2020-07-26 09:33:31  Grab the last hour seats to Lucknow from Dubai...   \n",
       "0 2020-07-26 09:33:24  Pourquoi les esclaves noir porter des masques?...   \n",
       "0 2020-07-26 09:33:22  Report coming from the UK which may have impor...   \n",
       "0 2020-07-26 09:33:19  @orblivion @klara_sjo @tsaylor Maybe that’s wh...   \n",
       "\n",
       "                             hashtags               source  is_retweet  \n",
       "0  [Mexico, failedpresident, covid19]      Twitter Web App       False  \n",
       "0                                None  Twitter for Android       False  \n",
       "0        [covid, Covid_19, COVIDIOTS]      Twitter Web App       False  \n",
       "0                           [COVID19]  Twitter for Android       False  \n",
       "0                                None      Twitter Web App       False  "
      ]
     },
     "execution_count": 32,
     "metadata": {},
     "output_type": "execute_result"
    }
   ],
   "source": [
    "tweets_df.head()"
   ]
  },
  {
   "cell_type": "markdown",
   "metadata": {},
   "source": [
    "## 5. Save the data\n",
    "\n",
    "### 5.1. Read past data"
   ]
  },
  {
   "cell_type": "code",
   "execution_count": 33,
   "metadata": {},
   "outputs": [
    {
     "name": "stdout",
     "output_type": "stream",
     "text": [
      "past tweets: (17176, 13)\n"
     ]
    }
   ],
   "source": [
    "tweets_old_df = pd.read_csv(\"covid19_tweets.csv\")\n",
    "print(f\"past tweets: {tweets_old_df.shape}\")"
   ]
  },
  {
   "cell_type": "markdown",
   "metadata": {},
   "source": [
    "### 5.2. Merge past and present data"
   ]
  },
  {
   "cell_type": "code",
   "execution_count": 34,
   "metadata": {},
   "outputs": [
    {
     "name": "stdout",
     "output_type": "stream",
     "text": [
      "new tweets: 7500 past tweets: 17176 all tweets: 24676\n"
     ]
    }
   ],
   "source": [
    "tweets_all_df = pd.concat([tweets_old_df, tweets_df], axis=0)\n",
    "print(f\"new tweets: {tweets_df.shape[0]} past tweets: {tweets_old_df.shape[0]} all tweets: {tweets_all_df.shape[0]}\")"
   ]
  },
  {
   "cell_type": "markdown",
   "metadata": {},
   "source": [
    "### 5.3. Drop duplicates"
   ]
  },
  {
   "cell_type": "code",
   "execution_count": 35,
   "metadata": {},
   "outputs": [
    {
     "name": "stdout",
     "output_type": "stream",
     "text": [
      "all tweets: (24676, 13)\n"
     ]
    }
   ],
   "source": [
    "tweets_all_df.drop_duplicates(subset = [\"user_name\", \"date\", \"text\"], inplace=True)\n",
    "print(f\"all tweets: {tweets_all_df.shape}\")"
   ]
  },
  {
   "cell_type": "markdown",
   "metadata": {},
   "source": [
    "### 5.4. Export the updated data"
   ]
  },
  {
   "cell_type": "code",
   "execution_count": 38,
   "metadata": {},
   "outputs": [],
   "source": [
    "tweets_all_df.to_csv(\"covid19_tweets.csv\", index=False)"
   ]
  },
  {
   "cell_type": "code",
   "execution_count": null,
   "metadata": {},
   "outputs": [],
   "source": []
  }
 ],
 "metadata": {
  "kernelspec": {
   "display_name": "Python 3",
   "language": "python",
   "name": "python3"
  },
  "language_info": {
   "codemirror_mode": {
    "name": "ipython",
    "version": 3
   },
   "file_extension": ".py",
   "mimetype": "text/x-python",
   "name": "python",
   "nbconvert_exporter": "python",
   "pygments_lexer": "ipython3",
   "version": "3.7.6"
  }
 },
 "nbformat": 4,
 "nbformat_minor": 4
}
