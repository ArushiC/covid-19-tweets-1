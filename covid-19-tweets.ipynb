{
 "cells": [
  {
   "cell_type": "markdown",
   "metadata": {},
   "source": [
    "## 1. Import packages"
   ]
  },
  {
   "cell_type": "code",
   "execution_count": 1,
   "metadata": {},
   "outputs": [],
   "source": [
    "#!pip install tweepy"
   ]
  },
  {
   "cell_type": "code",
   "execution_count": 2,
   "metadata": {},
   "outputs": [],
   "source": [
    "import os\n",
    "import tweepy as tw\n",
    "import pandas as pd\n",
    "from tqdm import tqdm"
   ]
  },
  {
   "cell_type": "markdown",
   "metadata": {},
   "source": [
    "## 2. Twitter API authentication"
   ]
  },
  {
   "cell_type": "code",
   "execution_count": 3,
   "metadata": {},
   "outputs": [],
   "source": [
    "consumer_api_key = os.environ[\"TWITTER_CONSUMER_API_KEY\"]\n",
    "consumer_api_secret = os.environ[\"TWITTER_CONSUMER_API_SECRET\"]"
   ]
  },
  {
   "cell_type": "code",
   "execution_count": 4,
   "metadata": {},
   "outputs": [],
   "source": [
    "auth = tw.OAuthHandler(consumer_api_key, consumer_api_secret)"
   ]
  },
  {
   "cell_type": "code",
   "execution_count": 5,
   "metadata": {},
   "outputs": [],
   "source": [
    "api = tw.API(auth, wait_on_rate_limit=True)"
   ]
  },
  {
   "cell_type": "markdown",
   "metadata": {},
   "source": [
    "## 3. Tweets query\n",
    "\n",
    "### 3.1. Define the query"
   ]
  },
  {
   "cell_type": "code",
   "execution_count": 6,
   "metadata": {},
   "outputs": [],
   "source": [
    "search_words = \"#covid19 -filter:retweets\"\n",
    "date_since = \"2020-03-01\"\n",
    "# Collect tweets\n",
    "tweets = tw.Cursor(api.search,\n",
    "              q=search_words,\n",
    "              lang=\"en\",\n",
    "              since=date_since).items(12452)"
   ]
  },
  {
   "cell_type": "markdown",
   "metadata": {},
   "source": [
    "### 3.2. Retreive the tweets"
   ]
  },
  {
   "cell_type": "code",
   "execution_count": 7,
   "metadata": {
    "scrolled": false
   },
   "outputs": [
    {
     "name": "stderr",
     "output_type": "stream",
     "text": [
      "11555it [17:49, 10.80it/s]\n"
     ]
    }
   ],
   "source": [
    "tweets_copy = []\n",
    "for tweet in tqdm(tweets):\n",
    "    tweets_copy.append(tweet)"
   ]
  },
  {
   "cell_type": "code",
   "execution_count": 8,
   "metadata": {},
   "outputs": [
    {
     "name": "stdout",
     "output_type": "stream",
     "text": [
      "new tweets retrieved: 11555\n"
     ]
    }
   ],
   "source": [
    "print(f\"new tweets retrieved: {len(tweets_copy)}\")"
   ]
  },
  {
   "cell_type": "markdown",
   "metadata": {},
   "source": [
    "## 4. Populate the dataset"
   ]
  },
  {
   "cell_type": "code",
   "execution_count": 9,
   "metadata": {
    "scrolled": false
   },
   "outputs": [
    {
     "name": "stderr",
     "output_type": "stream",
     "text": [
      "100%|██████████| 11555/11555 [01:11<00:00, 160.90it/s]\n"
     ]
    }
   ],
   "source": [
    "tweets_df = pd.DataFrame()\n",
    "for tweet in tqdm(tweets_copy):\n",
    "    hashtags = []\n",
    "    try:\n",
    "        for hashtag in tweet.entities[\"hashtags\"]:\n",
    "            hashtags.append(hashtag[\"text\"])\n",
    "    except:\n",
    "        pass\n",
    "    tweets_df = tweets_df.append(pd.DataFrame({'user_name': tweet.user.name, \n",
    "                                               'user_location': tweet.user.location,\\\n",
    "                                               'user_description': tweet.user.description,\n",
    "                                               'user_created': tweet.user.created_at,\n",
    "                                               'user_followers': tweet.user.followers_count,\n",
    "                                               'user_friends': tweet.user.friends_count,\n",
    "                                               'user_favourites': tweet.user.favourites_count,\n",
    "                                               'user_verified': tweet.user.verified,\n",
    "                                               'date': tweet.created_at,\n",
    "                                               'text': tweet.text, \n",
    "                                               'hashtags': [hashtags if hashtags else None],\n",
    "                                               'source': tweet.source,\n",
    "                                               'is_retweet': tweet.retweeted}, index=[0]))"
   ]
  },
  {
   "cell_type": "code",
   "execution_count": 10,
   "metadata": {},
   "outputs": [
    {
     "data": {
      "text/html": [
       "<div>\n",
       "<style scoped>\n",
       "    .dataframe tbody tr th:only-of-type {\n",
       "        vertical-align: middle;\n",
       "    }\n",
       "\n",
       "    .dataframe tbody tr th {\n",
       "        vertical-align: top;\n",
       "    }\n",
       "\n",
       "    .dataframe thead th {\n",
       "        text-align: right;\n",
       "    }\n",
       "</style>\n",
       "<table border=\"1\" class=\"dataframe\">\n",
       "  <thead>\n",
       "    <tr style=\"text-align: right;\">\n",
       "      <th></th>\n",
       "      <th>user_name</th>\n",
       "      <th>user_location</th>\n",
       "      <th>user_description</th>\n",
       "      <th>user_created</th>\n",
       "      <th>user_followers</th>\n",
       "      <th>user_friends</th>\n",
       "      <th>user_favourites</th>\n",
       "      <th>user_verified</th>\n",
       "      <th>date</th>\n",
       "      <th>text</th>\n",
       "      <th>hashtags</th>\n",
       "      <th>source</th>\n",
       "      <th>is_retweet</th>\n",
       "    </tr>\n",
       "  </thead>\n",
       "  <tbody>\n",
       "    <tr>\n",
       "      <th>0</th>\n",
       "      <td>WAM English</td>\n",
       "      <td>UAE</td>\n",
       "      <td>The official Twitter feed for Emirates News Ag...</td>\n",
       "      <td>2014-09-04 10:22:21</td>\n",
       "      <td>38476</td>\n",
       "      <td>17</td>\n",
       "      <td>8</td>\n",
       "      <td>True</td>\n",
       "      <td>2020-08-22 10:41:09</td>\n",
       "      <td>#UAE Health Ministry conducts 70,079 additiona...</td>\n",
       "      <td>[UAE, COVID19]</td>\n",
       "      <td>Twitter Web App</td>\n",
       "      <td>False</td>\n",
       "    </tr>\n",
       "    <tr>\n",
       "      <th>0</th>\n",
       "      <td>Donal Cronin</td>\n",
       "      <td>Dublin</td>\n",
       "      <td>Director, Carr Communications @Carrcommsltd Fr...</td>\n",
       "      <td>2008-05-09 13:51:25</td>\n",
       "      <td>2809</td>\n",
       "      <td>4840</td>\n",
       "      <td>15735</td>\n",
       "      <td>False</td>\n",
       "      <td>2020-08-22 10:41:04</td>\n",
       "      <td>If anyone needs a sharp reminder of just how a...</td>\n",
       "      <td>None</td>\n",
       "      <td>Twitter for iPhone</td>\n",
       "      <td>False</td>\n",
       "    </tr>\n",
       "    <tr>\n",
       "      <th>0</th>\n",
       "      <td>India TV</td>\n",
       "      <td>India</td>\n",
       "      <td>India’s most watched Hindi News Channel. Follo...</td>\n",
       "      <td>2009-04-22 11:26:34</td>\n",
       "      <td>1406497</td>\n",
       "      <td>44</td>\n",
       "      <td>239</td>\n",
       "      <td>True</td>\n",
       "      <td>2020-08-22 10:40:57</td>\n",
       "      <td>JMM chief Shibu Soren, wife test positive for ...</td>\n",
       "      <td>[ShibuSoren, JMM, CoronavirusPandemic, Covid19]</td>\n",
       "      <td>Twitter Web App</td>\n",
       "      <td>False</td>\n",
       "    </tr>\n",
       "    <tr>\n",
       "      <th>0</th>\n",
       "      <td>CraftingQueen</td>\n",
       "      <td>Arkansas, USA</td>\n",
       "      <td></td>\n",
       "      <td>2019-12-30 04:24:02</td>\n",
       "      <td>0</td>\n",
       "      <td>5</td>\n",
       "      <td>5</td>\n",
       "      <td>False</td>\n",
       "      <td>2020-08-22 10:40:56</td>\n",
       "      <td>So I did my #first #flying #experience since #...</td>\n",
       "      <td>[first, flying, experience, COVID19, one, adul...</td>\n",
       "      <td>Twitter for Android</td>\n",
       "      <td>False</td>\n",
       "    </tr>\n",
       "    <tr>\n",
       "      <th>0</th>\n",
       "      <td>Mary</td>\n",
       "      <td>United States</td>\n",
       "      <td>I'm ChristIsLight on Parler\\nMarxism and Chris...</td>\n",
       "      <td>2012-12-08 12:02:00</td>\n",
       "      <td>1020</td>\n",
       "      <td>297</td>\n",
       "      <td>11764</td>\n",
       "      <td>False</td>\n",
       "      <td>2020-08-22 10:40:53</td>\n",
       "      <td>#clifdengate \\n80 people in Govt and Judiciary...</td>\n",
       "      <td>[clifdengate]</td>\n",
       "      <td>Twitter Web App</td>\n",
       "      <td>False</td>\n",
       "    </tr>\n",
       "  </tbody>\n",
       "</table>\n",
       "</div>"
      ],
      "text/plain": [
       "       user_name  user_location  \\\n",
       "0    WAM English            UAE   \n",
       "0   Donal Cronin         Dublin   \n",
       "0       India TV          India   \n",
       "0  CraftingQueen  Arkansas, USA   \n",
       "0           Mary  United States   \n",
       "\n",
       "                                    user_description        user_created  \\\n",
       "0  The official Twitter feed for Emirates News Ag... 2014-09-04 10:22:21   \n",
       "0  Director, Carr Communications @Carrcommsltd Fr... 2008-05-09 13:51:25   \n",
       "0  India’s most watched Hindi News Channel. Follo... 2009-04-22 11:26:34   \n",
       "0                                                    2019-12-30 04:24:02   \n",
       "0  I'm ChristIsLight on Parler\\nMarxism and Chris... 2012-12-08 12:02:00   \n",
       "\n",
       "   user_followers  user_friends  user_favourites  user_verified  \\\n",
       "0           38476            17                8           True   \n",
       "0            2809          4840            15735          False   \n",
       "0         1406497            44              239           True   \n",
       "0               0             5                5          False   \n",
       "0            1020           297            11764          False   \n",
       "\n",
       "                 date                                               text  \\\n",
       "0 2020-08-22 10:41:09  #UAE Health Ministry conducts 70,079 additiona...   \n",
       "0 2020-08-22 10:41:04  If anyone needs a sharp reminder of just how a...   \n",
       "0 2020-08-22 10:40:57  JMM chief Shibu Soren, wife test positive for ...   \n",
       "0 2020-08-22 10:40:56  So I did my #first #flying #experience since #...   \n",
       "0 2020-08-22 10:40:53  #clifdengate \\n80 people in Govt and Judiciary...   \n",
       "\n",
       "                                            hashtags               source  \\\n",
       "0                                     [UAE, COVID19]      Twitter Web App   \n",
       "0                                               None   Twitter for iPhone   \n",
       "0    [ShibuSoren, JMM, CoronavirusPandemic, Covid19]      Twitter Web App   \n",
       "0  [first, flying, experience, COVID19, one, adul...  Twitter for Android   \n",
       "0                                      [clifdengate]      Twitter Web App   \n",
       "\n",
       "   is_retweet  \n",
       "0       False  \n",
       "0       False  \n",
       "0       False  \n",
       "0       False  \n",
       "0       False  "
      ]
     },
     "execution_count": 10,
     "metadata": {},
     "output_type": "execute_result"
    }
   ],
   "source": [
    "tweets_df.head()"
   ]
  },
  {
   "cell_type": "markdown",
   "metadata": {},
   "source": [
    "## 5. Save the data\n",
    "\n",
    "### 5.1. Read past data"
   ]
  },
  {
   "cell_type": "code",
   "execution_count": 11,
   "metadata": {},
   "outputs": [
    {
     "name": "stdout",
     "output_type": "stream",
     "text": [
      "past tweets: (155101, 13)\n"
     ]
    }
   ],
   "source": [
    "tweets_old_df = pd.read_csv(\"covid19_tweets.csv\")\n",
    "print(f\"past tweets: {tweets_old_df.shape}\")"
   ]
  },
  {
   "cell_type": "markdown",
   "metadata": {},
   "source": [
    "### 5.2. Merge past and present data"
   ]
  },
  {
   "cell_type": "code",
   "execution_count": 12,
   "metadata": {},
   "outputs": [
    {
     "name": "stdout",
     "output_type": "stream",
     "text": [
      "new tweets: 11555 past tweets: 155101 all tweets: 166656\n"
     ]
    }
   ],
   "source": [
    "tweets_all_df = pd.concat([tweets_old_df, tweets_df], axis=0)\n",
    "print(f\"new tweets: {tweets_df.shape[0]} past tweets: {tweets_old_df.shape[0]} all tweets: {tweets_all_df.shape[0]}\")"
   ]
  },
  {
   "cell_type": "markdown",
   "metadata": {},
   "source": [
    "### 5.3. Drop duplicates"
   ]
  },
  {
   "cell_type": "code",
   "execution_count": 13,
   "metadata": {},
   "outputs": [
    {
     "name": "stdout",
     "output_type": "stream",
     "text": [
      "all tweets: (166656, 13)\n"
     ]
    }
   ],
   "source": [
    "tweets_all_df.drop_duplicates(subset = [\"user_name\", \"date\", \"text\"], inplace=True)\n",
    "print(f\"all tweets: {tweets_all_df.shape}\")"
   ]
  },
  {
   "cell_type": "markdown",
   "metadata": {},
   "source": [
    "### 5.4. Export the updated data"
   ]
  },
  {
   "cell_type": "code",
   "execution_count": 14,
   "metadata": {},
   "outputs": [],
   "source": [
    "tweets_all_df.to_csv(\"covid19_tweets.csv\", index=False)"
   ]
  },
  {
   "cell_type": "code",
   "execution_count": null,
   "metadata": {},
   "outputs": [],
   "source": []
  }
 ],
 "metadata": {
  "kernelspec": {
   "display_name": "Python 3",
   "language": "python",
   "name": "python3"
  },
  "language_info": {
   "codemirror_mode": {
    "name": "ipython",
    "version": 3
   },
   "file_extension": ".py",
   "mimetype": "text/x-python",
   "name": "python",
   "nbconvert_exporter": "python",
   "pygments_lexer": "ipython3",
   "version": "3.7.6"
  }
 },
 "nbformat": 4,
 "nbformat_minor": 4
}
