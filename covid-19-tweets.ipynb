{
 "cells": [
  {
   "cell_type": "markdown",
   "metadata": {},
   "source": [
    "## 1. Import packages"
   ]
  },
  {
   "cell_type": "code",
   "execution_count": 1,
   "metadata": {},
   "outputs": [],
   "source": [
    "#!pip install tweepy"
   ]
  },
  {
   "cell_type": "code",
   "execution_count": 2,
   "metadata": {},
   "outputs": [],
   "source": [
    "import os\n",
    "import tweepy as tw\n",
    "import pandas as pd\n",
    "from tqdm import tqdm"
   ]
  },
  {
   "cell_type": "markdown",
   "metadata": {},
   "source": [
    "## 2. Twitter API authentication"
   ]
  },
  {
   "cell_type": "code",
   "execution_count": 3,
   "metadata": {},
   "outputs": [],
   "source": [
    "consumer_api_key = os.environ[\"TWITTER_CONSUMER_API_KEY\"]\n",
    "consumer_api_secret = os.environ[\"TWITTER_CONSUMER_API_SECRET\"]"
   ]
  },
  {
   "cell_type": "code",
   "execution_count": 4,
   "metadata": {},
   "outputs": [],
   "source": [
    "auth = tw.OAuthHandler(consumer_api_key, consumer_api_secret)"
   ]
  },
  {
   "cell_type": "code",
   "execution_count": 5,
   "metadata": {},
   "outputs": [],
   "source": [
    "api = tw.API(auth, wait_on_rate_limit=True)"
   ]
  },
  {
   "cell_type": "markdown",
   "metadata": {},
   "source": [
    "## 3. Tweets query\n",
    "\n",
    "### 3.1. Define the query"
   ]
  },
  {
   "cell_type": "code",
   "execution_count": 6,
   "metadata": {},
   "outputs": [],
   "source": [
    "search_words = \"#covid19 -filter:retweets\"\n",
    "date_since = \"2020-03-01\"\n",
    "# Collect tweets\n",
    "tweets = tw.Cursor(api.search,\n",
    "              q=search_words,\n",
    "              lang=\"en\",\n",
    "              since=date_since).items(7500)"
   ]
  },
  {
   "cell_type": "markdown",
   "metadata": {},
   "source": [
    "### 3.2. Retreive the tweets"
   ]
  },
  {
   "cell_type": "code",
   "execution_count": 7,
   "metadata": {
    "scrolled": false
   },
   "outputs": [
    {
     "name": "stderr",
     "output_type": "stream",
     "text": [
      "7500it [14:30,  8.62it/s]\n"
     ]
    }
   ],
   "source": [
    "tweets_copy = []\n",
    "for tweet in tqdm(tweets):\n",
    "    tweets_copy.append(tweet)"
   ]
  },
  {
   "cell_type": "code",
   "execution_count": 8,
   "metadata": {},
   "outputs": [
    {
     "name": "stdout",
     "output_type": "stream",
     "text": [
      "new tweets retrieved: 7500\n"
     ]
    }
   ],
   "source": [
    "print(f\"new tweets retrieved: {len(tweets_copy)}\")"
   ]
  },
  {
   "cell_type": "markdown",
   "metadata": {},
   "source": [
    "## 4. Populate the dataset"
   ]
  },
  {
   "cell_type": "code",
   "execution_count": 9,
   "metadata": {
    "scrolled": false
   },
   "outputs": [
    {
     "name": "stderr",
     "output_type": "stream",
     "text": [
      "100%|██████████| 7500/7500 [00:51<00:00, 146.35it/s]\n"
     ]
    }
   ],
   "source": [
    "tweets_df = pd.DataFrame()\n",
    "for tweet in tqdm(tweets_copy):\n",
    "    hashtags = []\n",
    "    try:\n",
    "        for hashtag in tweet.entities[\"hashtags\"]:\n",
    "            hashtags.append(hashtag[\"text\"])\n",
    "    except:\n",
    "        pass\n",
    "    tweets_df = tweets_df.append(pd.DataFrame({'user_name': tweet.user.name, \n",
    "                                               'user_location': tweet.user.location,\\\n",
    "                                               'user_description': tweet.user.description,\n",
    "                                               'user_created': tweet.user.created_at,\n",
    "                                               'user_followers': tweet.user.followers_count,\n",
    "                                               'user_friends': tweet.user.friends_count,\n",
    "                                               'user_favourites': tweet.user.favourites_count,\n",
    "                                               'user_verified': tweet.user.verified,\n",
    "                                               'date': tweet.created_at,\n",
    "                                               'text': tweet.text, \n",
    "                                               'hashtags': [hashtags if hashtags else None],\n",
    "                                               'source': tweet.source,\n",
    "                                               'is_retweet': tweet.retweeted}, index=[0]))"
   ]
  },
  {
   "cell_type": "code",
   "execution_count": 10,
   "metadata": {},
   "outputs": [
    {
     "data": {
      "text/html": [
       "<div>\n",
       "<style scoped>\n",
       "    .dataframe tbody tr th:only-of-type {\n",
       "        vertical-align: middle;\n",
       "    }\n",
       "\n",
       "    .dataframe tbody tr th {\n",
       "        vertical-align: top;\n",
       "    }\n",
       "\n",
       "    .dataframe thead th {\n",
       "        text-align: right;\n",
       "    }\n",
       "</style>\n",
       "<table border=\"1\" class=\"dataframe\">\n",
       "  <thead>\n",
       "    <tr style=\"text-align: right;\">\n",
       "      <th></th>\n",
       "      <th>user_name</th>\n",
       "      <th>user_location</th>\n",
       "      <th>user_description</th>\n",
       "      <th>user_created</th>\n",
       "      <th>user_followers</th>\n",
       "      <th>user_friends</th>\n",
       "      <th>user_favourites</th>\n",
       "      <th>user_verified</th>\n",
       "      <th>date</th>\n",
       "      <th>text</th>\n",
       "      <th>hashtags</th>\n",
       "      <th>source</th>\n",
       "      <th>is_retweet</th>\n",
       "    </tr>\n",
       "  </thead>\n",
       "  <tbody>\n",
       "    <tr>\n",
       "      <th>0</th>\n",
       "      <td>Dr Martin Daly</td>\n",
       "      <td>Ballygar, Co.Galway</td>\n",
       "      <td>Rural GP  Sports Med Doc</td>\n",
       "      <td>2012-08-24 10:48:02</td>\n",
       "      <td>2211</td>\n",
       "      <td>1726</td>\n",
       "      <td>3172</td>\n",
       "      <td>False</td>\n",
       "      <td>2020-08-17 08:24:38</td>\n",
       "      <td>@Mulliganj People breaking rules everywhere, n...</td>\n",
       "      <td>None</td>\n",
       "      <td>Twitter for iPhone</td>\n",
       "      <td>False</td>\n",
       "    </tr>\n",
       "    <tr>\n",
       "      <th>0</th>\n",
       "      <td>Mø -</td>\n",
       "      <td>LifeArtist&amp;ModernGentleman</td>\n",
       "      <td>•JLS• 1_Race:HumanRace•Free&amp;Fair•Fascist_Intol...</td>\n",
       "      <td>2012-05-30 20:57:10</td>\n",
       "      <td>1298</td>\n",
       "      <td>3690</td>\n",
       "      <td>81051</td>\n",
       "      <td>False</td>\n",
       "      <td>2020-08-17 08:24:37</td>\n",
       "      <td>@CDCgov This is major disinformation. Gently r...</td>\n",
       "      <td>None</td>\n",
       "      <td>Twitter for iPhone</td>\n",
       "      <td>False</td>\n",
       "    </tr>\n",
       "    <tr>\n",
       "      <th>0</th>\n",
       "      <td>TheZimbabweSentinel</td>\n",
       "      <td>Harare</td>\n",
       "      <td>Deeper analysis of political, #economic, socia...</td>\n",
       "      <td>2014-07-03 13:00:07</td>\n",
       "      <td>7056</td>\n",
       "      <td>4119</td>\n",
       "      <td>1742</td>\n",
       "      <td>False</td>\n",
       "      <td>2020-08-17 08:24:36</td>\n",
       "      <td>2. #Gimboki South residents committee &amp;amp; de...</td>\n",
       "      <td>[Gimboki]</td>\n",
       "      <td>Twitter Web App</td>\n",
       "      <td>False</td>\n",
       "    </tr>\n",
       "    <tr>\n",
       "      <th>0</th>\n",
       "      <td>FORTIUS Solutions</td>\n",
       "      <td>Kolkata, India</td>\n",
       "      <td>Statistical Analysts | Market Analysts | Busin...</td>\n",
       "      <td>2018-12-25 09:22:04</td>\n",
       "      <td>6</td>\n",
       "      <td>7</td>\n",
       "      <td>22</td>\n",
       "      <td>False</td>\n",
       "      <td>2020-08-17 08:24:36</td>\n",
       "      <td>Daily surge rates in Regions with over 1 lakh ...</td>\n",
       "      <td>[COVID19, India]</td>\n",
       "      <td>Twitter for Android</td>\n",
       "      <td>False</td>\n",
       "    </tr>\n",
       "    <tr>\n",
       "      <th>0</th>\n",
       "      <td>Coronavirus Updates</td>\n",
       "      <td></td>\n",
       "      <td>COVID-19 (Coronavirus) Latest News &amp; Statistic...</td>\n",
       "      <td>2020-03-07 12:52:51</td>\n",
       "      <td>502</td>\n",
       "      <td>1</td>\n",
       "      <td>0</td>\n",
       "      <td>False</td>\n",
       "      <td>2020-08-17 08:24:26</td>\n",
       "      <td>5 new cases in Slovakia \\n\\n[9:24 GMT] #corona...</td>\n",
       "      <td>[coronavirus, CoronaVirusUpdate, COVID19, Coro...</td>\n",
       "      <td>COVID19-Updates</td>\n",
       "      <td>False</td>\n",
       "    </tr>\n",
       "  </tbody>\n",
       "</table>\n",
       "</div>"
      ],
      "text/plain": [
       "             user_name               user_location  \\\n",
       "0       Dr Martin Daly         Ballygar, Co.Galway   \n",
       "0                 Mø -  LifeArtist&ModernGentleman   \n",
       "0  TheZimbabweSentinel                      Harare   \n",
       "0    FORTIUS Solutions              Kolkata, India   \n",
       "0  Coronavirus Updates                               \n",
       "\n",
       "                                    user_description        user_created  \\\n",
       "0                           Rural GP  Sports Med Doc 2012-08-24 10:48:02   \n",
       "0  •JLS• 1_Race:HumanRace•Free&Fair•Fascist_Intol... 2012-05-30 20:57:10   \n",
       "0  Deeper analysis of political, #economic, socia... 2014-07-03 13:00:07   \n",
       "0  Statistical Analysts | Market Analysts | Busin... 2018-12-25 09:22:04   \n",
       "0  COVID-19 (Coronavirus) Latest News & Statistic... 2020-03-07 12:52:51   \n",
       "\n",
       "   user_followers  user_friends  user_favourites  user_verified  \\\n",
       "0            2211          1726             3172          False   \n",
       "0            1298          3690            81051          False   \n",
       "0            7056          4119             1742          False   \n",
       "0               6             7               22          False   \n",
       "0             502             1                0          False   \n",
       "\n",
       "                 date                                               text  \\\n",
       "0 2020-08-17 08:24:38  @Mulliganj People breaking rules everywhere, n...   \n",
       "0 2020-08-17 08:24:37  @CDCgov This is major disinformation. Gently r...   \n",
       "0 2020-08-17 08:24:36  2. #Gimboki South residents committee &amp; de...   \n",
       "0 2020-08-17 08:24:36  Daily surge rates in Regions with over 1 lakh ...   \n",
       "0 2020-08-17 08:24:26  5 new cases in Slovakia \\n\\n[9:24 GMT] #corona...   \n",
       "\n",
       "                                            hashtags               source  \\\n",
       "0                                               None   Twitter for iPhone   \n",
       "0                                               None   Twitter for iPhone   \n",
       "0                                          [Gimboki]      Twitter Web App   \n",
       "0                                   [COVID19, India]  Twitter for Android   \n",
       "0  [coronavirus, CoronaVirusUpdate, COVID19, Coro...      COVID19-Updates   \n",
       "\n",
       "   is_retweet  \n",
       "0       False  \n",
       "0       False  \n",
       "0       False  \n",
       "0       False  \n",
       "0       False  "
      ]
     },
     "execution_count": 10,
     "metadata": {},
     "output_type": "execute_result"
    }
   ],
   "source": [
    "tweets_df.head()"
   ]
  },
  {
   "cell_type": "markdown",
   "metadata": {},
   "source": [
    "## 5. Save the data\n",
    "\n",
    "### 5.1. Read past data"
   ]
  },
  {
   "cell_type": "code",
   "execution_count": 11,
   "metadata": {},
   "outputs": [
    {
     "name": "stdout",
     "output_type": "stream",
     "text": [
      "past tweets: (140101, 13)\n"
     ]
    }
   ],
   "source": [
    "tweets_old_df = pd.read_csv(\"covid19_tweets.csv\")\n",
    "print(f\"past tweets: {tweets_old_df.shape}\")"
   ]
  },
  {
   "cell_type": "markdown",
   "metadata": {},
   "source": [
    "### 5.2. Merge past and present data"
   ]
  },
  {
   "cell_type": "code",
   "execution_count": 12,
   "metadata": {},
   "outputs": [
    {
     "name": "stdout",
     "output_type": "stream",
     "text": [
      "new tweets: 7500 past tweets: 140101 all tweets: 147601\n"
     ]
    }
   ],
   "source": [
    "tweets_all_df = pd.concat([tweets_old_df, tweets_df], axis=0)\n",
    "print(f\"new tweets: {tweets_df.shape[0]} past tweets: {tweets_old_df.shape[0]} all tweets: {tweets_all_df.shape[0]}\")"
   ]
  },
  {
   "cell_type": "markdown",
   "metadata": {},
   "source": [
    "### 5.3. Drop duplicates"
   ]
  },
  {
   "cell_type": "code",
   "execution_count": 13,
   "metadata": {},
   "outputs": [
    {
     "name": "stdout",
     "output_type": "stream",
     "text": [
      "all tweets: (147601, 13)\n"
     ]
    }
   ],
   "source": [
    "tweets_all_df.drop_duplicates(subset = [\"user_name\", \"date\", \"text\"], inplace=True)\n",
    "print(f\"all tweets: {tweets_all_df.shape}\")"
   ]
  },
  {
   "cell_type": "markdown",
   "metadata": {},
   "source": [
    "### 5.4. Export the updated data"
   ]
  },
  {
   "cell_type": "code",
   "execution_count": 14,
   "metadata": {},
   "outputs": [],
   "source": [
    "tweets_all_df.to_csv(\"covid19_tweets.csv\", index=False)"
   ]
  },
  {
   "cell_type": "code",
   "execution_count": null,
   "metadata": {},
   "outputs": [],
   "source": []
  }
 ],
 "metadata": {
  "kernelspec": {
   "display_name": "Python 3",
   "language": "python",
   "name": "python3"
  },
  "language_info": {
   "codemirror_mode": {
    "name": "ipython",
    "version": 3
   },
   "file_extension": ".py",
   "mimetype": "text/x-python",
   "name": "python",
   "nbconvert_exporter": "python",
   "pygments_lexer": "ipython3",
   "version": "3.7.6"
  }
 },
 "nbformat": 4,
 "nbformat_minor": 4
}
