{
 "cells": [
  {
   "cell_type": "markdown",
   "metadata": {},
   "source": [
    "## 1. Import packages"
   ]
  },
  {
   "cell_type": "code",
   "execution_count": 1,
   "metadata": {},
   "outputs": [],
   "source": [
    "#!pip install tweepy"
   ]
  },
  {
   "cell_type": "code",
   "execution_count": 2,
   "metadata": {},
   "outputs": [],
   "source": [
    "import os\n",
    "import tweepy as tw\n",
    "import pandas as pd\n",
    "from tqdm import tqdm"
   ]
  },
  {
   "cell_type": "markdown",
   "metadata": {},
   "source": [
    "## 2. Twitter API authentication"
   ]
  },
  {
   "cell_type": "code",
   "execution_count": 3,
   "metadata": {},
   "outputs": [],
   "source": [
    "consumer_api_key = os.environ[\"TWITTER_CONSUMER_API_KEY\"]\n",
    "consumer_api_secret = os.environ[\"TWITTER_CONSUMER_API_SECRET\"]"
   ]
  },
  {
   "cell_type": "code",
   "execution_count": 4,
   "metadata": {},
   "outputs": [],
   "source": [
    "auth = tw.OAuthHandler(consumer_api_key, consumer_api_secret)"
   ]
  },
  {
   "cell_type": "code",
   "execution_count": 5,
   "metadata": {},
   "outputs": [],
   "source": [
    "api = tw.API(auth, wait_on_rate_limit=True)"
   ]
  },
  {
   "cell_type": "markdown",
   "metadata": {},
   "source": [
    "## 3. Tweets query\n",
    "\n",
    "### 3.1. Define the query"
   ]
  },
  {
   "cell_type": "code",
   "execution_count": 6,
   "metadata": {},
   "outputs": [],
   "source": [
    "search_words = \"#covid19 -filter:retweets\"\n",
    "date_since = \"2020-03-01\"\n",
    "# Collect tweets\n",
    "tweets = tw.Cursor(api.search,\n",
    "              q=search_words,\n",
    "              lang=\"en\",\n",
    "              since=date_since).items(7500)"
   ]
  },
  {
   "cell_type": "markdown",
   "metadata": {},
   "source": [
    "### 3.2. Retreive the tweets"
   ]
  },
  {
   "cell_type": "code",
   "execution_count": 7,
   "metadata": {
    "scrolled": false
   },
   "outputs": [
    {
     "name": "stderr",
     "output_type": "stream",
     "text": [
      "7500it [11:03, 11.31it/s]\n"
     ]
    }
   ],
   "source": [
    "tweets_copy = []\n",
    "for tweet in tqdm(tweets):\n",
    "    tweets_copy.append(tweet)"
   ]
  },
  {
   "cell_type": "code",
   "execution_count": 8,
   "metadata": {},
   "outputs": [
    {
     "name": "stdout",
     "output_type": "stream",
     "text": [
      "new tweets retrieved: 7500\n"
     ]
    }
   ],
   "source": [
    "print(f\"new tweets retrieved: {len(tweets_copy)}\")"
   ]
  },
  {
   "cell_type": "markdown",
   "metadata": {},
   "source": [
    "## 4. Populate the dataset"
   ]
  },
  {
   "cell_type": "code",
   "execution_count": 9,
   "metadata": {
    "scrolled": false
   },
   "outputs": [
    {
     "name": "stderr",
     "output_type": "stream",
     "text": [
      "100%|█████████████████████████████████████████████████████████████████████████████| 7500/7500 [00:42<00:00, 176.54it/s]\n"
     ]
    }
   ],
   "source": [
    "tweets_df = pd.DataFrame()\n",
    "for tweet in tqdm(tweets_copy):\n",
    "    hashtags = []\n",
    "    try:\n",
    "        for hashtag in tweet.entities[\"hashtags\"]:\n",
    "            hashtags.append(hashtag[\"text\"])\n",
    "    except:\n",
    "        pass\n",
    "    tweets_df = tweets_df.append(pd.DataFrame({'user_name': tweet.user.name, \n",
    "                                               'user_location': tweet.user.location,\\\n",
    "                                               'user_description': tweet.user.description,\n",
    "                                               'user_created': tweet.user.created_at,\n",
    "                                               'user_followers': tweet.user.followers_count,\n",
    "                                               'user_friends': tweet.user.friends_count,\n",
    "                                               'user_favourites': tweet.user.favourites_count,\n",
    "                                               'user_verified': tweet.user.verified,\n",
    "                                               'date': tweet.created_at,\n",
    "                                               'text': tweet.text, \n",
    "                                               'hashtags': [hashtags if hashtags else None],\n",
    "                                               'source': tweet.source,\n",
    "                                               'is_retweet': tweet.retweeted}, index=[0]))"
   ]
  },
  {
   "cell_type": "code",
   "execution_count": 10,
   "metadata": {},
   "outputs": [
    {
     "data": {
      "text/html": [
       "<div>\n",
       "<style scoped>\n",
       "    .dataframe tbody tr th:only-of-type {\n",
       "        vertical-align: middle;\n",
       "    }\n",
       "\n",
       "    .dataframe tbody tr th {\n",
       "        vertical-align: top;\n",
       "    }\n",
       "\n",
       "    .dataframe thead th {\n",
       "        text-align: right;\n",
       "    }\n",
       "</style>\n",
       "<table border=\"1\" class=\"dataframe\">\n",
       "  <thead>\n",
       "    <tr style=\"text-align: right;\">\n",
       "      <th></th>\n",
       "      <th>user_name</th>\n",
       "      <th>user_location</th>\n",
       "      <th>user_description</th>\n",
       "      <th>user_created</th>\n",
       "      <th>user_followers</th>\n",
       "      <th>user_friends</th>\n",
       "      <th>user_favourites</th>\n",
       "      <th>user_verified</th>\n",
       "      <th>date</th>\n",
       "      <th>text</th>\n",
       "      <th>hashtags</th>\n",
       "      <th>source</th>\n",
       "      <th>is_retweet</th>\n",
       "    </tr>\n",
       "  </thead>\n",
       "  <tbody>\n",
       "    <tr>\n",
       "      <th>0</th>\n",
       "      <td>Janci</td>\n",
       "      <td></td>\n",
       "      <td></td>\n",
       "      <td>2011-07-28 15:55:21</td>\n",
       "      <td>44</td>\n",
       "      <td>117</td>\n",
       "      <td>4401</td>\n",
       "      <td>False</td>\n",
       "      <td>2020-07-31 19:20:07</td>\n",
       "      <td>Outrageous!! The dipshittery amazes me why any...</td>\n",
       "      <td>[CorruptGOP, GTFO]</td>\n",
       "      <td>Twitter for iPad</td>\n",
       "      <td>False</td>\n",
       "    </tr>\n",
       "    <tr>\n",
       "      <th>0</th>\n",
       "      <td>MNMommaof3</td>\n",
       "      <td>Minnesota, USA</td>\n",
       "      <td>Mom of 3, Democrat and many other things. 😊</td>\n",
       "      <td>2020-05-14 15:17:11</td>\n",
       "      <td>15</td>\n",
       "      <td>88</td>\n",
       "      <td>364</td>\n",
       "      <td>False</td>\n",
       "      <td>2020-07-31 19:20:05</td>\n",
       "      <td>Me: \"Ready to go to Wal-Mart!\"\\nTeenage Son: (...</td>\n",
       "      <td>None</td>\n",
       "      <td>Twitter for Android</td>\n",
       "      <td>False</td>\n",
       "    </tr>\n",
       "    <tr>\n",
       "      <th>0</th>\n",
       "      <td>All Things Travel</td>\n",
       "      <td>Worldwide</td>\n",
       "      <td>Online Travel Portal offering Special Deals fr...</td>\n",
       "      <td>2011-02-27 02:11:28</td>\n",
       "      <td>45133</td>\n",
       "      <td>24832</td>\n",
       "      <td>180</td>\n",
       "      <td>False</td>\n",
       "      <td>2020-07-31 19:20:05</td>\n",
       "      <td>If you are wondering why countries like #Croat...</td>\n",
       "      <td>[Croatia, Slovenia, macedonia, greece, USA]</td>\n",
       "      <td>LinkedIn</td>\n",
       "      <td>False</td>\n",
       "    </tr>\n",
       "    <tr>\n",
       "      <th>0</th>\n",
       "      <td>Joshua Plante</td>\n",
       "      <td>Berwick, ME</td>\n",
       "      <td>Facts matter, and I believe in them.</td>\n",
       "      <td>2014-02-19 18:47:39</td>\n",
       "      <td>175</td>\n",
       "      <td>405</td>\n",
       "      <td>9663</td>\n",
       "      <td>False</td>\n",
       "      <td>2020-07-31 19:20:05</td>\n",
       "      <td>@JoeBiden is the example to the nation about t...</td>\n",
       "      <td>[COVID19]</td>\n",
       "      <td>Twitter for iPhone</td>\n",
       "      <td>False</td>\n",
       "    </tr>\n",
       "    <tr>\n",
       "      <th>0</th>\n",
       "      <td>JCDHE</td>\n",
       "      <td>Olathe, KS</td>\n",
       "      <td>Mission: Protect the health and environment, p...</td>\n",
       "      <td>2009-06-23 18:36:49</td>\n",
       "      <td>3963</td>\n",
       "      <td>633</td>\n",
       "      <td>2638</td>\n",
       "      <td>True</td>\n",
       "      <td>2020-07-31 19:20:05</td>\n",
       "      <td>CHILD CARE PROVIDERS: Please check your provid...</td>\n",
       "      <td>None</td>\n",
       "      <td>Hootsuite Inc.</td>\n",
       "      <td>False</td>\n",
       "    </tr>\n",
       "  </tbody>\n",
       "</table>\n",
       "</div>"
      ],
      "text/plain": [
       "           user_name   user_location  \\\n",
       "0              Janci                   \n",
       "0         MNMommaof3  Minnesota, USA   \n",
       "0  All Things Travel       Worldwide   \n",
       "0      Joshua Plante     Berwick, ME   \n",
       "0              JCDHE      Olathe, KS   \n",
       "\n",
       "                                    user_description        user_created  \\\n",
       "0                                                    2011-07-28 15:55:21   \n",
       "0        Mom of 3, Democrat and many other things. 😊 2020-05-14 15:17:11   \n",
       "0  Online Travel Portal offering Special Deals fr... 2011-02-27 02:11:28   \n",
       "0               Facts matter, and I believe in them. 2014-02-19 18:47:39   \n",
       "0  Mission: Protect the health and environment, p... 2009-06-23 18:36:49   \n",
       "\n",
       "   user_followers  user_friends  user_favourites  user_verified  \\\n",
       "0              44           117             4401          False   \n",
       "0              15            88              364          False   \n",
       "0           45133         24832              180          False   \n",
       "0             175           405             9663          False   \n",
       "0            3963           633             2638           True   \n",
       "\n",
       "                 date                                               text  \\\n",
       "0 2020-07-31 19:20:07  Outrageous!! The dipshittery amazes me why any...   \n",
       "0 2020-07-31 19:20:05  Me: \"Ready to go to Wal-Mart!\"\\nTeenage Son: (...   \n",
       "0 2020-07-31 19:20:05  If you are wondering why countries like #Croat...   \n",
       "0 2020-07-31 19:20:05  @JoeBiden is the example to the nation about t...   \n",
       "0 2020-07-31 19:20:05  CHILD CARE PROVIDERS: Please check your provid...   \n",
       "\n",
       "                                      hashtags               source  \\\n",
       "0                           [CorruptGOP, GTFO]     Twitter for iPad   \n",
       "0                                         None  Twitter for Android   \n",
       "0  [Croatia, Slovenia, macedonia, greece, USA]             LinkedIn   \n",
       "0                                    [COVID19]   Twitter for iPhone   \n",
       "0                                         None       Hootsuite Inc.   \n",
       "\n",
       "   is_retweet  \n",
       "0       False  \n",
       "0       False  \n",
       "0       False  \n",
       "0       False  \n",
       "0       False  "
      ]
     },
     "execution_count": 10,
     "metadata": {},
     "output_type": "execute_result"
    }
   ],
   "source": [
    "tweets_df.head()"
   ]
  },
  {
   "cell_type": "markdown",
   "metadata": {},
   "source": [
    "## 5. Save the data\n",
    "\n",
    "### 5.1. Read past data"
   ]
  },
  {
   "cell_type": "code",
   "execution_count": 11,
   "metadata": {},
   "outputs": [
    {
     "name": "stdout",
     "output_type": "stream",
     "text": [
      "past tweets: (44436, 13)\n"
     ]
    }
   ],
   "source": [
    "tweets_old_df = pd.read_csv(\"covid19_tweets.csv\")\n",
    "print(f\"past tweets: {tweets_old_df.shape}\")"
   ]
  },
  {
   "cell_type": "markdown",
   "metadata": {},
   "source": [
    "### 5.2. Merge past and present data"
   ]
  },
  {
   "cell_type": "code",
   "execution_count": 12,
   "metadata": {},
   "outputs": [
    {
     "name": "stdout",
     "output_type": "stream",
     "text": [
      "new tweets: 7500 past tweets: 44436 all tweets: 51936\n"
     ]
    }
   ],
   "source": [
    "tweets_all_df = pd.concat([tweets_old_df, tweets_df], axis=0)\n",
    "print(f\"new tweets: {tweets_df.shape[0]} past tweets: {tweets_old_df.shape[0]} all tweets: {tweets_all_df.shape[0]}\")"
   ]
  },
  {
   "cell_type": "markdown",
   "metadata": {},
   "source": [
    "### 5.3. Drop duplicates"
   ]
  },
  {
   "cell_type": "code",
   "execution_count": 13,
   "metadata": {},
   "outputs": [
    {
     "name": "stdout",
     "output_type": "stream",
     "text": [
      "all tweets: (51936, 13)\n"
     ]
    }
   ],
   "source": [
    "tweets_all_df.drop_duplicates(subset = [\"user_name\", \"date\", \"text\"], inplace=True)\n",
    "print(f\"all tweets: {tweets_all_df.shape}\")"
   ]
  },
  {
   "cell_type": "markdown",
   "metadata": {},
   "source": [
    "### 5.4. Export the updated data"
   ]
  },
  {
   "cell_type": "code",
   "execution_count": 14,
   "metadata": {},
   "outputs": [],
   "source": [
    "tweets_all_df.to_csv(\"covid19_tweets.csv\", index=False)"
   ]
  },
  {
   "cell_type": "code",
   "execution_count": null,
   "metadata": {},
   "outputs": [],
   "source": []
  }
 ],
 "metadata": {
  "kernelspec": {
   "display_name": "Python 3",
   "language": "python",
   "name": "python3"
  },
  "language_info": {
   "codemirror_mode": {
    "name": "ipython",
    "version": 3
   },
   "file_extension": ".py",
   "mimetype": "text/x-python",
   "name": "python",
   "nbconvert_exporter": "python",
   "pygments_lexer": "ipython3",
   "version": "3.7.6"
  }
 },
 "nbformat": 4,
 "nbformat_minor": 4
}
