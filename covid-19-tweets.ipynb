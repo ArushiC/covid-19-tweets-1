{
 "cells": [
  {
   "cell_type": "markdown",
   "metadata": {},
   "source": [
    "## 1. Import packages"
   ]
  },
  {
   "cell_type": "code",
   "execution_count": 1,
   "metadata": {},
   "outputs": [],
   "source": [
    "#!pip install tweepy"
   ]
  },
  {
   "cell_type": "code",
   "execution_count": 2,
   "metadata": {},
   "outputs": [],
   "source": [
    "import os\n",
    "import tweepy as tw\n",
    "import pandas as pd\n",
    "from tqdm import tqdm"
   ]
  },
  {
   "cell_type": "markdown",
   "metadata": {},
   "source": [
    "## 2. Twitter API authentication"
   ]
  },
  {
   "cell_type": "code",
   "execution_count": 3,
   "metadata": {},
   "outputs": [],
   "source": [
    "consumer_api_key = os.environ[\"TWITTER_CONSUMER_API_KEY\"]\n",
    "consumer_api_secret = os.environ[\"TWITTER_CONSUMER_API_SECRET\"]"
   ]
  },
  {
   "cell_type": "code",
   "execution_count": 4,
   "metadata": {},
   "outputs": [],
   "source": [
    "auth = tw.OAuthHandler(consumer_api_key, consumer_api_secret)"
   ]
  },
  {
   "cell_type": "code",
   "execution_count": 5,
   "metadata": {},
   "outputs": [],
   "source": [
    "api = tw.API(auth, wait_on_rate_limit=True)"
   ]
  },
  {
   "cell_type": "markdown",
   "metadata": {},
   "source": [
    "## 3. Tweets query\n",
    "\n",
    "### 3.1. Define the query"
   ]
  },
  {
   "cell_type": "code",
   "execution_count": 6,
   "metadata": {},
   "outputs": [],
   "source": [
    "search_words = \"#covid19 -filter:retweets\"\n",
    "date_since = \"2020-03-01\"\n",
    "# Collect tweets\n",
    "tweets = tw.Cursor(api.search,\n",
    "              q=search_words,\n",
    "              lang=\"en\",\n",
    "              since=date_since).items(7500)"
   ]
  },
  {
   "cell_type": "markdown",
   "metadata": {},
   "source": [
    "### 3.2. Retreive the tweets"
   ]
  },
  {
   "cell_type": "code",
   "execution_count": 7,
   "metadata": {
    "scrolled": false
   },
   "outputs": [
    {
     "name": "stderr",
     "output_type": "stream",
     "text": [
      "7500it [15:44,  7.94it/s]\n"
     ]
    }
   ],
   "source": [
    "tweets_copy = []\n",
    "for tweet in tqdm(tweets):\n",
    "    tweets_copy.append(tweet)"
   ]
  },
  {
   "cell_type": "code",
   "execution_count": 8,
   "metadata": {},
   "outputs": [
    {
     "name": "stdout",
     "output_type": "stream",
     "text": [
      "new tweets retrieved: 7500\n"
     ]
    }
   ],
   "source": [
    "print(f\"new tweets retrieved: {len(tweets_copy)}\")"
   ]
  },
  {
   "cell_type": "markdown",
   "metadata": {},
   "source": [
    "## 4. Populate the dataset"
   ]
  },
  {
   "cell_type": "code",
   "execution_count": 9,
   "metadata": {
    "scrolled": false
   },
   "outputs": [
    {
     "name": "stderr",
     "output_type": "stream",
     "text": [
      "100%|██████████| 7500/7500 [00:39<00:00, 190.82it/s]\n"
     ]
    }
   ],
   "source": [
    "tweets_df = pd.DataFrame()\n",
    "for tweet in tqdm(tweets_copy):\n",
    "    hashtags = []\n",
    "    try:\n",
    "        for hashtag in tweet.entities[\"hashtags\"]:\n",
    "            hashtags.append(hashtag[\"text\"])\n",
    "    except:\n",
    "        pass\n",
    "    tweets_df = tweets_df.append(pd.DataFrame({'user_name': tweet.user.name, \n",
    "                                               'user_location': tweet.user.location,\\\n",
    "                                               'user_description': tweet.user.description,\n",
    "                                               'user_created': tweet.user.created_at,\n",
    "                                               'user_followers': tweet.user.followers_count,\n",
    "                                               'user_friends': tweet.user.friends_count,\n",
    "                                               'user_favourites': tweet.user.favourites_count,\n",
    "                                               'user_verified': tweet.user.verified,\n",
    "                                               'date': tweet.created_at,\n",
    "                                               'text': tweet.text, \n",
    "                                               'hashtags': [hashtags if hashtags else None],\n",
    "                                               'source': tweet.source,\n",
    "                                               'is_retweet': tweet.retweeted}, index=[0]))"
   ]
  },
  {
   "cell_type": "code",
   "execution_count": 10,
   "metadata": {},
   "outputs": [
    {
     "data": {
      "text/html": [
       "<div>\n",
       "<style scoped>\n",
       "    .dataframe tbody tr th:only-of-type {\n",
       "        vertical-align: middle;\n",
       "    }\n",
       "\n",
       "    .dataframe tbody tr th {\n",
       "        vertical-align: top;\n",
       "    }\n",
       "\n",
       "    .dataframe thead th {\n",
       "        text-align: right;\n",
       "    }\n",
       "</style>\n",
       "<table border=\"1\" class=\"dataframe\">\n",
       "  <thead>\n",
       "    <tr style=\"text-align: right;\">\n",
       "      <th></th>\n",
       "      <th>user_name</th>\n",
       "      <th>user_location</th>\n",
       "      <th>user_description</th>\n",
       "      <th>user_created</th>\n",
       "      <th>user_followers</th>\n",
       "      <th>user_friends</th>\n",
       "      <th>user_favourites</th>\n",
       "      <th>user_verified</th>\n",
       "      <th>date</th>\n",
       "      <th>text</th>\n",
       "      <th>hashtags</th>\n",
       "      <th>source</th>\n",
       "      <th>is_retweet</th>\n",
       "    </tr>\n",
       "  </thead>\n",
       "  <tbody>\n",
       "    <tr>\n",
       "      <th>0</th>\n",
       "      <td>FinancialXpress</td>\n",
       "      <td>New Delhi, India</td>\n",
       "      <td>A complete up-to-date source for biz news, #fi...</td>\n",
       "      <td>2009-06-24 11:29:19</td>\n",
       "      <td>660388</td>\n",
       "      <td>37</td>\n",
       "      <td>98</td>\n",
       "      <td>True</td>\n",
       "      <td>2020-07-28 06:40:35</td>\n",
       "      <td>#Odisha’s #COVID19 tally breached the 28,000 m...</td>\n",
       "      <td>[Odisha, COVID19]</td>\n",
       "      <td>Twitter Web App</td>\n",
       "      <td>False</td>\n",
       "    </tr>\n",
       "    <tr>\n",
       "      <th>0</th>\n",
       "      <td>Service</td>\n",
       "      <td>Uk</td>\n",
       "      <td>Listening and still active for a better place....</td>\n",
       "      <td>2012-05-16 08:29:37</td>\n",
       "      <td>1475</td>\n",
       "      <td>1872</td>\n",
       "      <td>47807</td>\n",
       "      <td>False</td>\n",
       "      <td>2020-07-28 06:40:35</td>\n",
       "      <td>Media challenges in #COVID19 @BBCBreakfast @GM...</td>\n",
       "      <td>[COVID19]</td>\n",
       "      <td>Twitter for iPad</td>\n",
       "      <td>False</td>\n",
       "    </tr>\n",
       "    <tr>\n",
       "      <th>0</th>\n",
       "      <td>Fluffy House</td>\n",
       "      <td></td>\n",
       "      <td>Web Shop: https://t.co/2pvY2iKhWv</td>\n",
       "      <td>2014-05-08 15:25:34</td>\n",
       "      <td>597</td>\n",
       "      <td>57</td>\n",
       "      <td>243</td>\n",
       "      <td>False</td>\n",
       "      <td>2020-07-28 06:40:34</td>\n",
       "      <td>Listen to Mr. White Cloud 💬\\nStay Home, Stay S...</td>\n",
       "      <td>[fluffyhouse, フラッフィーハウス, 플러피하우스, stayhome]</td>\n",
       "      <td>Twitter Web App</td>\n",
       "      <td>False</td>\n",
       "    </tr>\n",
       "    <tr>\n",
       "      <th>0</th>\n",
       "      <td>covidnews.ch</td>\n",
       "      <td>Switzerland</td>\n",
       "      <td>Coronavirus Statistics, Information &amp; News</td>\n",
       "      <td>2020-03-21 16:13:52</td>\n",
       "      <td>353</td>\n",
       "      <td>1882</td>\n",
       "      <td>148</td>\n",
       "      <td>False</td>\n",
       "      <td>2020-07-28 06:40:33</td>\n",
       "      <td>#CoronaInfoCH #COVID19 #corona #us \\nAs COVID-...</td>\n",
       "      <td>[CoronaInfoCH, COVID19, corona, us]</td>\n",
       "      <td>FS Poster</td>\n",
       "      <td>False</td>\n",
       "    </tr>\n",
       "    <tr>\n",
       "      <th>0</th>\n",
       "      <td>Sarah J Black</td>\n",
       "      <td></td>\n",
       "      <td>wife, mother, educator, advocate</td>\n",
       "      <td>2015-06-19 12:00:57</td>\n",
       "      <td>89</td>\n",
       "      <td>282</td>\n",
       "      <td>7065</td>\n",
       "      <td>False</td>\n",
       "      <td>2020-07-28 06:40:31</td>\n",
       "      <td>⁦@WSHHF_Malawi⁩ ⁦@FriendsMalawi⁩ be grateful f...</td>\n",
       "      <td>None</td>\n",
       "      <td>Twitter for iPhone</td>\n",
       "      <td>False</td>\n",
       "    </tr>\n",
       "  </tbody>\n",
       "</table>\n",
       "</div>"
      ],
      "text/plain": [
       "         user_name     user_location  \\\n",
       "0  FinancialXpress  New Delhi, India   \n",
       "0          Service                Uk   \n",
       "0     Fluffy House                     \n",
       "0     covidnews.ch       Switzerland   \n",
       "0    Sarah J Black                     \n",
       "\n",
       "                                    user_description        user_created  \\\n",
       "0  A complete up-to-date source for biz news, #fi... 2009-06-24 11:29:19   \n",
       "0  Listening and still active for a better place.... 2012-05-16 08:29:37   \n",
       "0                  Web Shop: https://t.co/2pvY2iKhWv 2014-05-08 15:25:34   \n",
       "0         Coronavirus Statistics, Information & News 2020-03-21 16:13:52   \n",
       "0                   wife, mother, educator, advocate 2015-06-19 12:00:57   \n",
       "\n",
       "   user_followers  user_friends  user_favourites  user_verified  \\\n",
       "0          660388            37               98           True   \n",
       "0            1475          1872            47807          False   \n",
       "0             597            57              243          False   \n",
       "0             353          1882              148          False   \n",
       "0              89           282             7065          False   \n",
       "\n",
       "                 date                                               text  \\\n",
       "0 2020-07-28 06:40:35  #Odisha’s #COVID19 tally breached the 28,000 m...   \n",
       "0 2020-07-28 06:40:35  Media challenges in #COVID19 @BBCBreakfast @GM...   \n",
       "0 2020-07-28 06:40:34  Listen to Mr. White Cloud 💬\\nStay Home, Stay S...   \n",
       "0 2020-07-28 06:40:33  #CoronaInfoCH #COVID19 #corona #us \\nAs COVID-...   \n",
       "0 2020-07-28 06:40:31  ⁦@WSHHF_Malawi⁩ ⁦@FriendsMalawi⁩ be grateful f...   \n",
       "\n",
       "                                     hashtags              source  is_retweet  \n",
       "0                           [Odisha, COVID19]     Twitter Web App       False  \n",
       "0                                   [COVID19]    Twitter for iPad       False  \n",
       "0  [fluffyhouse, フラッフィーハウス, 플러피하우스, stayhome]     Twitter Web App       False  \n",
       "0         [CoronaInfoCH, COVID19, corona, us]           FS Poster       False  \n",
       "0                                        None  Twitter for iPhone       False  "
      ]
     },
     "execution_count": 10,
     "metadata": {},
     "output_type": "execute_result"
    }
   ],
   "source": [
    "tweets_df.head()"
   ]
  },
  {
   "cell_type": "markdown",
   "metadata": {},
   "source": [
    "## 5. Save the data\n",
    "\n",
    "### 5.1. Read past data"
   ]
  },
  {
   "cell_type": "code",
   "execution_count": 11,
   "metadata": {},
   "outputs": [
    {
     "name": "stdout",
     "output_type": "stream",
     "text": [
      "past tweets: (32176, 13)\n"
     ]
    }
   ],
   "source": [
    "tweets_old_df = pd.read_csv(\"covid19_tweets.csv\")\n",
    "print(f\"past tweets: {tweets_old_df.shape}\")"
   ]
  },
  {
   "cell_type": "markdown",
   "metadata": {},
   "source": [
    "### 5.2. Merge past and present data"
   ]
  },
  {
   "cell_type": "code",
   "execution_count": 12,
   "metadata": {},
   "outputs": [
    {
     "name": "stdout",
     "output_type": "stream",
     "text": [
      "new tweets: 7500 past tweets: 32176 all tweets: 39676\n"
     ]
    }
   ],
   "source": [
    "tweets_all_df = pd.concat([tweets_old_df, tweets_df], axis=0)\n",
    "print(f\"new tweets: {tweets_df.shape[0]} past tweets: {tweets_old_df.shape[0]} all tweets: {tweets_all_df.shape[0]}\")"
   ]
  },
  {
   "cell_type": "markdown",
   "metadata": {},
   "source": [
    "### 5.3. Drop duplicates"
   ]
  },
  {
   "cell_type": "code",
   "execution_count": 13,
   "metadata": {},
   "outputs": [
    {
     "name": "stdout",
     "output_type": "stream",
     "text": [
      "all tweets: (39676, 13)\n"
     ]
    }
   ],
   "source": [
    "tweets_all_df.drop_duplicates(subset = [\"user_name\", \"date\", \"text\"], inplace=True)\n",
    "print(f\"all tweets: {tweets_all_df.shape}\")"
   ]
  },
  {
   "cell_type": "markdown",
   "metadata": {},
   "source": [
    "### 5.4. Export the updated data"
   ]
  },
  {
   "cell_type": "code",
   "execution_count": 14,
   "metadata": {},
   "outputs": [],
   "source": [
    "tweets_all_df.to_csv(\"covid19_tweets.csv\", index=False)"
   ]
  },
  {
   "cell_type": "code",
   "execution_count": null,
   "metadata": {},
   "outputs": [],
   "source": []
  }
 ],
 "metadata": {
  "kernelspec": {
   "display_name": "Python 3",
   "language": "python",
   "name": "python3"
  },
  "language_info": {
   "codemirror_mode": {
    "name": "ipython",
    "version": 3
   },
   "file_extension": ".py",
   "mimetype": "text/x-python",
   "name": "python",
   "nbconvert_exporter": "python",
   "pygments_lexer": "ipython3",
   "version": "3.7.6"
  }
 },
 "nbformat": 4,
 "nbformat_minor": 4
}
