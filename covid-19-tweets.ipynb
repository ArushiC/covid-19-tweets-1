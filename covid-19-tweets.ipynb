{
 "cells": [
  {
   "cell_type": "markdown",
   "metadata": {},
   "source": [
    "## 1. Import packages"
   ]
  },
  {
   "cell_type": "code",
   "execution_count": 1,
   "metadata": {},
   "outputs": [],
   "source": [
    "#!pip install tweepy"
   ]
  },
  {
   "cell_type": "code",
   "execution_count": 2,
   "metadata": {},
   "outputs": [],
   "source": [
    "import os\n",
    "import tweepy as tw\n",
    "import pandas as pd\n",
    "from tqdm import tqdm"
   ]
  },
  {
   "cell_type": "markdown",
   "metadata": {},
   "source": [
    "## 2. Twitter API authentication"
   ]
  },
  {
   "cell_type": "code",
   "execution_count": 3,
   "metadata": {},
   "outputs": [],
   "source": [
    "consumer_api_key = os.environ[\"TWITTER_CONSUMER_API_KEY\"]\n",
    "consumer_api_secret = os.environ[\"TWITTER_CONSUMER_API_SECRET\"]"
   ]
  },
  {
   "cell_type": "code",
   "execution_count": 4,
   "metadata": {},
   "outputs": [],
   "source": [
    "auth = tw.OAuthHandler(consumer_api_key, consumer_api_secret)"
   ]
  },
  {
   "cell_type": "code",
   "execution_count": 5,
   "metadata": {},
   "outputs": [],
   "source": [
    "api = tw.API(auth, wait_on_rate_limit=True)"
   ]
  },
  {
   "cell_type": "markdown",
   "metadata": {},
   "source": [
    "## 3. Tweets query\n",
    "\n",
    "### 3.1. Define the query"
   ]
  },
  {
   "cell_type": "code",
   "execution_count": 6,
   "metadata": {},
   "outputs": [],
   "source": [
    "search_words = \"#covid19 -filter:retweets\"\n",
    "date_since = \"2020-03-01\"\n",
    "# Collect tweets\n",
    "tweets = tw.Cursor(api.search,\n",
    "              q=search_words,\n",
    "              lang=\"en\",\n",
    "              since=date_since).items(7500)"
   ]
  },
  {
   "cell_type": "markdown",
   "metadata": {},
   "source": [
    "### 3.2. Retreive the tweets"
   ]
  },
  {
   "cell_type": "code",
   "execution_count": 7,
   "metadata": {
    "scrolled": false
   },
   "outputs": [
    {
     "name": "stderr",
     "output_type": "stream",
     "text": [
      "1060it [00:32, 32.88it/s]\n"
     ]
    }
   ],
   "source": [
    "tweets_copy = []\n",
    "for tweet in tqdm(tweets):\n",
    "    tweets_copy.append(tweet)"
   ]
  },
  {
   "cell_type": "code",
   "execution_count": 8,
   "metadata": {},
   "outputs": [
    {
     "name": "stdout",
     "output_type": "stream",
     "text": [
      "new tweets retrieved: 1060\n"
     ]
    }
   ],
   "source": [
    "print(f\"new tweets retrieved: {len(tweets_copy)}\")"
   ]
  },
  {
   "cell_type": "markdown",
   "metadata": {},
   "source": [
    "## 4. Populate the dataset"
   ]
  },
  {
   "cell_type": "code",
   "execution_count": 9,
   "metadata": {
    "scrolled": false
   },
   "outputs": [
    {
     "name": "stderr",
     "output_type": "stream",
     "text": [
      "100%|██████████| 1060/1060 [00:04<00:00, 247.04it/s]\n"
     ]
    }
   ],
   "source": [
    "tweets_df = pd.DataFrame()\n",
    "for tweet in tqdm(tweets_copy):\n",
    "    hashtags = []\n",
    "    try:\n",
    "        for hashtag in tweet.entities[\"hashtags\"]:\n",
    "            hashtags.append(hashtag[\"text\"])\n",
    "    except:\n",
    "        pass\n",
    "    tweets_df = tweets_df.append(pd.DataFrame({'user_name': tweet.user.name, \n",
    "                                               'user_location': tweet.user.location,\\\n",
    "                                               'user_description': tweet.user.description,\n",
    "                                               'user_created': tweet.user.created_at,\n",
    "                                               'user_followers': tweet.user.followers_count,\n",
    "                                               'user_friends': tweet.user.friends_count,\n",
    "                                               'user_favourites': tweet.user.favourites_count,\n",
    "                                               'user_verified': tweet.user.verified,\n",
    "                                               'date': tweet.created_at,\n",
    "                                               'text': tweet.text, \n",
    "                                               'hashtags': [hashtags if hashtags else None],\n",
    "                                               'source': tweet.source,\n",
    "                                               'is_retweet': tweet.retweeted}, index=[0]))"
   ]
  },
  {
   "cell_type": "code",
   "execution_count": 10,
   "metadata": {},
   "outputs": [
    {
     "data": {
      "text/html": [
       "<div>\n",
       "<style scoped>\n",
       "    .dataframe tbody tr th:only-of-type {\n",
       "        vertical-align: middle;\n",
       "    }\n",
       "\n",
       "    .dataframe tbody tr th {\n",
       "        vertical-align: top;\n",
       "    }\n",
       "\n",
       "    .dataframe thead th {\n",
       "        text-align: right;\n",
       "    }\n",
       "</style>\n",
       "<table border=\"1\" class=\"dataframe\">\n",
       "  <thead>\n",
       "    <tr style=\"text-align: right;\">\n",
       "      <th></th>\n",
       "      <th>user_name</th>\n",
       "      <th>user_location</th>\n",
       "      <th>user_description</th>\n",
       "      <th>user_created</th>\n",
       "      <th>user_followers</th>\n",
       "      <th>user_friends</th>\n",
       "      <th>user_favourites</th>\n",
       "      <th>user_verified</th>\n",
       "      <th>date</th>\n",
       "      <th>text</th>\n",
       "      <th>hashtags</th>\n",
       "      <th>source</th>\n",
       "      <th>is_retweet</th>\n",
       "    </tr>\n",
       "  </thead>\n",
       "  <tbody>\n",
       "    <tr>\n",
       "      <th>0</th>\n",
       "      <td>A K KAUSHAL</td>\n",
       "      <td>ashokaushal@gmail.com</td>\n",
       "      <td>Cost Accountant,CCA Rules RTI&amp; Sexual Harassme...</td>\n",
       "      <td>2013-09-06 08:24:36</td>\n",
       "      <td>410</td>\n",
       "      <td>3115</td>\n",
       "      <td>2507</td>\n",
       "      <td>False</td>\n",
       "      <td>2020-08-07 13:08:52</td>\n",
       "      <td>#20LakhCoronaPackage \\nTests have reached 2,27...</td>\n",
       "      <td>[20LakhCoronaPackage]</td>\n",
       "      <td>Twitter Web App</td>\n",
       "      <td>False</td>\n",
       "    </tr>\n",
       "    <tr>\n",
       "      <th>0</th>\n",
       "      <td>Andrea D. Furlan MD PhD</td>\n",
       "      <td>Toronto, Ontario, Canada</td>\n",
       "      <td>I'm a physician trying to improve the person t...</td>\n",
       "      <td>2009-08-01 14:29:02</td>\n",
       "      <td>3847</td>\n",
       "      <td>1732</td>\n",
       "      <td>11053</td>\n",
       "      <td>False</td>\n",
       "      <td>2020-08-07 13:08:49</td>\n",
       "      <td>Vitamin D: A Low-Hanging Fruit in COVID-19? ht...</td>\n",
       "      <td>[VitaminD, Covid19]</td>\n",
       "      <td>Twitter Web App</td>\n",
       "      <td>False</td>\n",
       "    </tr>\n",
       "    <tr>\n",
       "      <th>0</th>\n",
       "      <td>Superlexify</td>\n",
       "      <td>Wiradjuri country</td>\n",
       "      <td>Treaty, gender equality, LGBTIQ rights, disabi...</td>\n",
       "      <td>2013-08-20 04:11:12</td>\n",
       "      <td>363</td>\n",
       "      <td>1444</td>\n",
       "      <td>25176</td>\n",
       "      <td>False</td>\n",
       "      <td>2020-08-07 13:08:48</td>\n",
       "      <td>#NSW residents, time to show some spirit. No m...</td>\n",
       "      <td>[NSW]</td>\n",
       "      <td>Twitter for iPhone</td>\n",
       "      <td>False</td>\n",
       "    </tr>\n",
       "    <tr>\n",
       "      <th>0</th>\n",
       "      <td>'Women's Power' Book</td>\n",
       "      <td>UK</td>\n",
       "      <td>Inspired by JohnGreen's #book topping NewYork ...</td>\n",
       "      <td>2011-07-03 19:08:35</td>\n",
       "      <td>29786</td>\n",
       "      <td>19509</td>\n",
       "      <td>207</td>\n",
       "      <td>False</td>\n",
       "      <td>2020-08-07 13:08:47</td>\n",
       "      <td>@MaximeBernier Wrong: #covid19 GLOBALLY spread...</td>\n",
       "      <td>[covid19, lifeonearth, Foodie]</td>\n",
       "      <td>Twitter Web App</td>\n",
       "      <td>False</td>\n",
       "    </tr>\n",
       "    <tr>\n",
       "      <th>0</th>\n",
       "      <td>The Hon. Tony Clement</td>\n",
       "      <td>Muskoka Ontario</td>\n",
       "      <td>🇨🇦 Tech Entrepreneur; International Advisor; C...</td>\n",
       "      <td>2010-03-09 16:56:20</td>\n",
       "      <td>72663</td>\n",
       "      <td>55161</td>\n",
       "      <td>2797</td>\n",
       "      <td>True</td>\n",
       "      <td>2020-08-07 13:08:47</td>\n",
       "      <td>This Sunday on @AAThingPodcast we interview Dr...</td>\n",
       "      <td>None</td>\n",
       "      <td>Twitter for iPhone</td>\n",
       "      <td>False</td>\n",
       "    </tr>\n",
       "  </tbody>\n",
       "</table>\n",
       "</div>"
      ],
      "text/plain": [
       "                 user_name             user_location  \\\n",
       "0              A K KAUSHAL     ashokaushal@gmail.com   \n",
       "0  Andrea D. Furlan MD PhD  Toronto, Ontario, Canada   \n",
       "0              Superlexify         Wiradjuri country   \n",
       "0     'Women's Power' Book                        UK   \n",
       "0    The Hon. Tony Clement           Muskoka Ontario   \n",
       "\n",
       "                                    user_description        user_created  \\\n",
       "0  Cost Accountant,CCA Rules RTI& Sexual Harassme... 2013-09-06 08:24:36   \n",
       "0  I'm a physician trying to improve the person t... 2009-08-01 14:29:02   \n",
       "0  Treaty, gender equality, LGBTIQ rights, disabi... 2013-08-20 04:11:12   \n",
       "0  Inspired by JohnGreen's #book topping NewYork ... 2011-07-03 19:08:35   \n",
       "0  🇨🇦 Tech Entrepreneur; International Advisor; C... 2010-03-09 16:56:20   \n",
       "\n",
       "   user_followers  user_friends  user_favourites  user_verified  \\\n",
       "0             410          3115             2507          False   \n",
       "0            3847          1732            11053          False   \n",
       "0             363          1444            25176          False   \n",
       "0           29786         19509              207          False   \n",
       "0           72663         55161             2797           True   \n",
       "\n",
       "                 date                                               text  \\\n",
       "0 2020-08-07 13:08:52  #20LakhCoronaPackage \\nTests have reached 2,27...   \n",
       "0 2020-08-07 13:08:49  Vitamin D: A Low-Hanging Fruit in COVID-19? ht...   \n",
       "0 2020-08-07 13:08:48  #NSW residents, time to show some spirit. No m...   \n",
       "0 2020-08-07 13:08:47  @MaximeBernier Wrong: #covid19 GLOBALLY spread...   \n",
       "0 2020-08-07 13:08:47  This Sunday on @AAThingPodcast we interview Dr...   \n",
       "\n",
       "                         hashtags              source  is_retweet  \n",
       "0           [20LakhCoronaPackage]     Twitter Web App       False  \n",
       "0             [VitaminD, Covid19]     Twitter Web App       False  \n",
       "0                           [NSW]  Twitter for iPhone       False  \n",
       "0  [covid19, lifeonearth, Foodie]     Twitter Web App       False  \n",
       "0                            None  Twitter for iPhone       False  "
      ]
     },
     "execution_count": 10,
     "metadata": {},
     "output_type": "execute_result"
    }
   ],
   "source": [
    "tweets_df.head()"
   ]
  },
  {
   "cell_type": "markdown",
   "metadata": {},
   "source": [
    "## 5. Save the data\n",
    "\n",
    "### 5.1. Read past data"
   ]
  },
  {
   "cell_type": "code",
   "execution_count": 11,
   "metadata": {},
   "outputs": [
    {
     "name": "stdout",
     "output_type": "stream",
     "text": [
      "past tweets: (81650, 13)\n"
     ]
    }
   ],
   "source": [
    "tweets_old_df = pd.read_csv(\"covid19_tweets.csv\")\n",
    "print(f\"past tweets: {tweets_old_df.shape}\")"
   ]
  },
  {
   "cell_type": "markdown",
   "metadata": {},
   "source": [
    "### 5.2. Merge past and present data"
   ]
  },
  {
   "cell_type": "code",
   "execution_count": 12,
   "metadata": {},
   "outputs": [
    {
     "name": "stdout",
     "output_type": "stream",
     "text": [
      "new tweets: 1060 past tweets: 81650 all tweets: 82710\n"
     ]
    }
   ],
   "source": [
    "tweets_all_df = pd.concat([tweets_old_df, tweets_df], axis=0)\n",
    "print(f\"new tweets: {tweets_df.shape[0]} past tweets: {tweets_old_df.shape[0]} all tweets: {tweets_all_df.shape[0]}\")"
   ]
  },
  {
   "cell_type": "markdown",
   "metadata": {},
   "source": [
    "### 5.3. Drop duplicates"
   ]
  },
  {
   "cell_type": "code",
   "execution_count": 13,
   "metadata": {},
   "outputs": [
    {
     "name": "stdout",
     "output_type": "stream",
     "text": [
      "all tweets: (82710, 13)\n"
     ]
    }
   ],
   "source": [
    "tweets_all_df.drop_duplicates(subset = [\"user_name\", \"date\", \"text\"], inplace=True)\n",
    "print(f\"all tweets: {tweets_all_df.shape}\")"
   ]
  },
  {
   "cell_type": "markdown",
   "metadata": {},
   "source": [
    "### 5.4. Export the updated data"
   ]
  },
  {
   "cell_type": "code",
   "execution_count": 14,
   "metadata": {},
   "outputs": [],
   "source": [
    "tweets_all_df.to_csv(\"covid19_tweets.csv\", index=False)"
   ]
  },
  {
   "cell_type": "code",
   "execution_count": null,
   "metadata": {},
   "outputs": [],
   "source": []
  }
 ],
 "metadata": {
  "kernelspec": {
   "display_name": "Python 3",
   "language": "python",
   "name": "python3"
  },
  "language_info": {
   "codemirror_mode": {
    "name": "ipython",
    "version": 3
   },
   "file_extension": ".py",
   "mimetype": "text/x-python",
   "name": "python",
   "nbconvert_exporter": "python",
   "pygments_lexer": "ipython3",
   "version": "3.7.6"
  }
 },
 "nbformat": 4,
 "nbformat_minor": 4
}
