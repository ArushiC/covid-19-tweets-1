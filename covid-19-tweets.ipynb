{
 "cells": [
  {
   "cell_type": "markdown",
   "metadata": {},
   "source": [
    "## 1. Import packages"
   ]
  },
  {
   "cell_type": "code",
   "execution_count": 1,
   "metadata": {},
   "outputs": [],
   "source": [
    "#!pip install tweepy"
   ]
  },
  {
   "cell_type": "code",
   "execution_count": 2,
   "metadata": {},
   "outputs": [],
   "source": [
    "import os\n",
    "import tweepy as tw\n",
    "import pandas as pd\n",
    "from tqdm import tqdm"
   ]
  },
  {
   "cell_type": "markdown",
   "metadata": {},
   "source": [
    "## 2. Twitter API authentication"
   ]
  },
  {
   "cell_type": "code",
   "execution_count": 3,
   "metadata": {},
   "outputs": [],
   "source": [
    "consumer_api_key = os.environ[\"TWITTER_CONSUMER_API_KEY\"]\n",
    "consumer_api_secret = os.environ[\"TWITTER_CONSUMER_API_SECRET\"]"
   ]
  },
  {
   "cell_type": "code",
   "execution_count": 4,
   "metadata": {},
   "outputs": [],
   "source": [
    "auth = tw.OAuthHandler(consumer_api_key, consumer_api_secret)"
   ]
  },
  {
   "cell_type": "code",
   "execution_count": 5,
   "metadata": {},
   "outputs": [],
   "source": [
    "api = tw.API(auth, wait_on_rate_limit=True)"
   ]
  },
  {
   "cell_type": "markdown",
   "metadata": {},
   "source": [
    "## 3. Tweets query\n",
    "\n",
    "### 3.1. Define the query"
   ]
  },
  {
   "cell_type": "code",
   "execution_count": 6,
   "metadata": {},
   "outputs": [],
   "source": [
    "search_words = \"#covid19 -filter:retweets\"\n",
    "date_since = \"2020-03-01\"\n",
    "# Collect tweets\n",
    "tweets = tw.Cursor(api.search,\n",
    "              q=search_words,\n",
    "              lang=\"en\",\n",
    "              since=date_since).items(7500)"
   ]
  },
  {
   "cell_type": "markdown",
   "metadata": {},
   "source": [
    "### 3.2. Retreive the tweets"
   ]
  },
  {
   "cell_type": "code",
   "execution_count": 7,
   "metadata": {
    "scrolled": false
   },
   "outputs": [
    {
     "name": "stderr",
     "output_type": "stream",
     "text": [
      "7500it [14:27,  8.64it/s]\n"
     ]
    }
   ],
   "source": [
    "tweets_copy = []\n",
    "for tweet in tqdm(tweets):\n",
    "    tweets_copy.append(tweet)"
   ]
  },
  {
   "cell_type": "code",
   "execution_count": 8,
   "metadata": {},
   "outputs": [
    {
     "name": "stdout",
     "output_type": "stream",
     "text": [
      "new tweets retrieved: 7500\n"
     ]
    }
   ],
   "source": [
    "print(f\"new tweets retrieved: {len(tweets_copy)}\")"
   ]
  },
  {
   "cell_type": "markdown",
   "metadata": {},
   "source": [
    "## 4. Populate the dataset"
   ]
  },
  {
   "cell_type": "code",
   "execution_count": 9,
   "metadata": {
    "scrolled": false
   },
   "outputs": [
    {
     "name": "stderr",
     "output_type": "stream",
     "text": [
      "100%|██████████| 7500/7500 [00:39<00:00, 188.05it/s]\n"
     ]
    }
   ],
   "source": [
    "tweets_df = pd.DataFrame()\n",
    "for tweet in tqdm(tweets_copy):\n",
    "    hashtags = []\n",
    "    try:\n",
    "        for hashtag in tweet.entities[\"hashtags\"]:\n",
    "            hashtags.append(hashtag[\"text\"])\n",
    "    except:\n",
    "        pass\n",
    "    tweets_df = tweets_df.append(pd.DataFrame({'user_name': tweet.user.name, \n",
    "                                               'user_location': tweet.user.location,\\\n",
    "                                               'user_description': tweet.user.description,\n",
    "                                               'user_created': tweet.user.created_at,\n",
    "                                               'user_followers': tweet.user.followers_count,\n",
    "                                               'user_friends': tweet.user.friends_count,\n",
    "                                               'user_favourites': tweet.user.favourites_count,\n",
    "                                               'user_verified': tweet.user.verified,\n",
    "                                               'date': tweet.created_at,\n",
    "                                               'text': tweet.text, \n",
    "                                               'hashtags': [hashtags if hashtags else None],\n",
    "                                               'source': tweet.source,\n",
    "                                               'is_retweet': tweet.retweeted}, index=[0]))"
   ]
  },
  {
   "cell_type": "code",
   "execution_count": 10,
   "metadata": {},
   "outputs": [
    {
     "data": {
      "text/html": [
       "<div>\n",
       "<style scoped>\n",
       "    .dataframe tbody tr th:only-of-type {\n",
       "        vertical-align: middle;\n",
       "    }\n",
       "\n",
       "    .dataframe tbody tr th {\n",
       "        vertical-align: top;\n",
       "    }\n",
       "\n",
       "    .dataframe thead th {\n",
       "        text-align: right;\n",
       "    }\n",
       "</style>\n",
       "<table border=\"1\" class=\"dataframe\">\n",
       "  <thead>\n",
       "    <tr style=\"text-align: right;\">\n",
       "      <th></th>\n",
       "      <th>user_name</th>\n",
       "      <th>user_location</th>\n",
       "      <th>user_description</th>\n",
       "      <th>user_created</th>\n",
       "      <th>user_followers</th>\n",
       "      <th>user_friends</th>\n",
       "      <th>user_favourites</th>\n",
       "      <th>user_verified</th>\n",
       "      <th>date</th>\n",
       "      <th>text</th>\n",
       "      <th>hashtags</th>\n",
       "      <th>source</th>\n",
       "      <th>is_retweet</th>\n",
       "    </tr>\n",
       "  </thead>\n",
       "  <tbody>\n",
       "    <tr>\n",
       "      <th>0</th>\n",
       "      <td>Homeboy</td>\n",
       "      <td>Indiana</td>\n",
       "      <td>Love charts, Supply &amp; Demand and now the OTC m...</td>\n",
       "      <td>2015-10-13 16:08:09</td>\n",
       "      <td>1360</td>\n",
       "      <td>989</td>\n",
       "      <td>6236</td>\n",
       "      <td>False</td>\n",
       "      <td>2020-08-13 10:46:14</td>\n",
       "      <td>$ATWT has a huge chart correction yesterday an...</td>\n",
       "      <td>None</td>\n",
       "      <td>Twitter for iPhone</td>\n",
       "      <td>False</td>\n",
       "    </tr>\n",
       "    <tr>\n",
       "      <th>0</th>\n",
       "      <td>❌ Romulus ❌</td>\n",
       "      <td>❌</td>\n",
       "      <td>#MAGA Hardworking American living in U.S. wher...</td>\n",
       "      <td>2013-01-30 09:14:18</td>\n",
       "      <td>3312</td>\n",
       "      <td>4967</td>\n",
       "      <td>26367</td>\n",
       "      <td>False</td>\n",
       "      <td>2020-08-13 10:46:13</td>\n",
       "      <td>@DSteinhardtEsq @Aikens_Josh Election is a cor...</td>\n",
       "      <td>None</td>\n",
       "      <td>Twitter Web App</td>\n",
       "      <td>False</td>\n",
       "    </tr>\n",
       "    <tr>\n",
       "      <th>0</th>\n",
       "      <td>Kent Page</td>\n",
       "      <td>UNICEF Headquarters New York</td>\n",
       "      <td>🇺🇳UNICEF Strategic Communication Advisor, Emer...</td>\n",
       "      <td>2009-03-14 00:20:10</td>\n",
       "      <td>88564</td>\n",
       "      <td>36813</td>\n",
       "      <td>19321</td>\n",
       "      <td>True</td>\n",
       "      <td>2020-08-13 10:46:12</td>\n",
       "      <td>This little one proudly wears their mask in th...</td>\n",
       "      <td>[Covid19, Bangladesh]</td>\n",
       "      <td>Twitter Web App</td>\n",
       "      <td>False</td>\n",
       "    </tr>\n",
       "    <tr>\n",
       "      <th>0</th>\n",
       "      <td>DhakaTribune</td>\n",
       "      <td>Dhaka, Bangladesh</td>\n",
       "      <td>Dhaka Tribune is the fastest growing English d...</td>\n",
       "      <td>2012-08-14 09:01:02</td>\n",
       "      <td>316940</td>\n",
       "      <td>190</td>\n",
       "      <td>55</td>\n",
       "      <td>False</td>\n",
       "      <td>2020-08-13 10:46:07</td>\n",
       "      <td>Sweden, #UNFPA help #Bangladesh in #Covid19 re...</td>\n",
       "      <td>[UNFPA, Bangladesh, Covid19]</td>\n",
       "      <td>Twitter for Android</td>\n",
       "      <td>False</td>\n",
       "    </tr>\n",
       "    <tr>\n",
       "      <th>0</th>\n",
       "      <td>💧BlotReport</td>\n",
       "      <td>Australia</td>\n",
       "      <td>Research scientist, progressive, for evidence ...</td>\n",
       "      <td>2017-01-08 01:37:20</td>\n",
       "      <td>2579</td>\n",
       "      <td>1959</td>\n",
       "      <td>27923</td>\n",
       "      <td>False</td>\n",
       "      <td>2020-08-13 10:46:04</td>\n",
       "      <td>Hey brassica, @realDonaldTrump, there are 169,...</td>\n",
       "      <td>[COVID19]</td>\n",
       "      <td>Twitter Web App</td>\n",
       "      <td>False</td>\n",
       "    </tr>\n",
       "  </tbody>\n",
       "</table>\n",
       "</div>"
      ],
      "text/plain": [
       "      user_name                 user_location  \\\n",
       "0       Homeboy                       Indiana   \n",
       "0   ❌ Romulus ❌                             ❌   \n",
       "0     Kent Page  UNICEF Headquarters New York   \n",
       "0  DhakaTribune             Dhaka, Bangladesh   \n",
       "0   💧BlotReport                     Australia   \n",
       "\n",
       "                                    user_description        user_created  \\\n",
       "0  Love charts, Supply & Demand and now the OTC m... 2015-10-13 16:08:09   \n",
       "0  #MAGA Hardworking American living in U.S. wher... 2013-01-30 09:14:18   \n",
       "0  🇺🇳UNICEF Strategic Communication Advisor, Emer... 2009-03-14 00:20:10   \n",
       "0  Dhaka Tribune is the fastest growing English d... 2012-08-14 09:01:02   \n",
       "0  Research scientist, progressive, for evidence ... 2017-01-08 01:37:20   \n",
       "\n",
       "   user_followers  user_friends  user_favourites  user_verified  \\\n",
       "0            1360           989             6236          False   \n",
       "0            3312          4967            26367          False   \n",
       "0           88564         36813            19321           True   \n",
       "0          316940           190               55          False   \n",
       "0            2579          1959            27923          False   \n",
       "\n",
       "                 date                                               text  \\\n",
       "0 2020-08-13 10:46:14  $ATWT has a huge chart correction yesterday an...   \n",
       "0 2020-08-13 10:46:13  @DSteinhardtEsq @Aikens_Josh Election is a cor...   \n",
       "0 2020-08-13 10:46:12  This little one proudly wears their mask in th...   \n",
       "0 2020-08-13 10:46:07  Sweden, #UNFPA help #Bangladesh in #Covid19 re...   \n",
       "0 2020-08-13 10:46:04  Hey brassica, @realDonaldTrump, there are 169,...   \n",
       "\n",
       "                       hashtags               source  is_retweet  \n",
       "0                          None   Twitter for iPhone       False  \n",
       "0                          None      Twitter Web App       False  \n",
       "0         [Covid19, Bangladesh]      Twitter Web App       False  \n",
       "0  [UNFPA, Bangladesh, Covid19]  Twitter for Android       False  \n",
       "0                     [COVID19]      Twitter Web App       False  "
      ]
     },
     "execution_count": 10,
     "metadata": {},
     "output_type": "execute_result"
    }
   ],
   "source": [
    "tweets_df.head()"
   ]
  },
  {
   "cell_type": "markdown",
   "metadata": {},
   "source": [
    "## 5. Save the data\n",
    "\n",
    "### 5.1. Read past data"
   ]
  },
  {
   "cell_type": "code",
   "execution_count": 11,
   "metadata": {},
   "outputs": [
    {
     "name": "stdout",
     "output_type": "stream",
     "text": [
      "past tweets: (117601, 13)\n"
     ]
    }
   ],
   "source": [
    "tweets_old_df = pd.read_csv(\"covid19_tweets.csv\")\n",
    "print(f\"past tweets: {tweets_old_df.shape}\")"
   ]
  },
  {
   "cell_type": "markdown",
   "metadata": {},
   "source": [
    "### 5.2. Merge past and present data"
   ]
  },
  {
   "cell_type": "code",
   "execution_count": 12,
   "metadata": {},
   "outputs": [
    {
     "name": "stdout",
     "output_type": "stream",
     "text": [
      "new tweets: 7500 past tweets: 117601 all tweets: 125101\n"
     ]
    }
   ],
   "source": [
    "tweets_all_df = pd.concat([tweets_old_df, tweets_df], axis=0)\n",
    "print(f\"new tweets: {tweets_df.shape[0]} past tweets: {tweets_old_df.shape[0]} all tweets: {tweets_all_df.shape[0]}\")"
   ]
  },
  {
   "cell_type": "markdown",
   "metadata": {},
   "source": [
    "### 5.3. Drop duplicates"
   ]
  },
  {
   "cell_type": "code",
   "execution_count": 13,
   "metadata": {},
   "outputs": [
    {
     "name": "stdout",
     "output_type": "stream",
     "text": [
      "all tweets: (125101, 13)\n"
     ]
    }
   ],
   "source": [
    "tweets_all_df.drop_duplicates(subset = [\"user_name\", \"date\", \"text\"], inplace=True)\n",
    "print(f\"all tweets: {tweets_all_df.shape}\")"
   ]
  },
  {
   "cell_type": "markdown",
   "metadata": {},
   "source": [
    "### 5.4. Export the updated data"
   ]
  },
  {
   "cell_type": "code",
   "execution_count": 14,
   "metadata": {},
   "outputs": [],
   "source": [
    "tweets_all_df.to_csv(\"covid19_tweets.csv\", index=False)"
   ]
  },
  {
   "cell_type": "code",
   "execution_count": null,
   "metadata": {},
   "outputs": [],
   "source": []
  }
 ],
 "metadata": {
  "kernelspec": {
   "display_name": "Python 3",
   "language": "python",
   "name": "python3"
  },
  "language_info": {
   "codemirror_mode": {
    "name": "ipython",
    "version": 3
   },
   "file_extension": ".py",
   "mimetype": "text/x-python",
   "name": "python",
   "nbconvert_exporter": "python",
   "pygments_lexer": "ipython3",
   "version": "3.7.6"
  }
 },
 "nbformat": 4,
 "nbformat_minor": 4
}
