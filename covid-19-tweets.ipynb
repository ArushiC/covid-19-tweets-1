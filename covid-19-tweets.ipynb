{
 "cells": [
  {
   "cell_type": "markdown",
   "metadata": {},
   "source": [
    "## 1. Import packages"
   ]
  },
  {
   "cell_type": "code",
   "execution_count": 1,
   "metadata": {},
   "outputs": [],
   "source": [
    "#!pip install tweepy"
   ]
  },
  {
   "cell_type": "code",
   "execution_count": 2,
   "metadata": {},
   "outputs": [],
   "source": [
    "import os\n",
    "import tweepy as tw\n",
    "import pandas as pd\n",
    "from tqdm import tqdm"
   ]
  },
  {
   "cell_type": "markdown",
   "metadata": {},
   "source": [
    "## 2. Twitter API authentication"
   ]
  },
  {
   "cell_type": "code",
   "execution_count": 3,
   "metadata": {},
   "outputs": [],
   "source": [
    "consumer_api_key = os.environ[\"TWITTER_CONSUMER_API_KEY\"]\n",
    "consumer_api_secret = os.environ[\"TWITTER_CONSUMER_API_SECRET\"]"
   ]
  },
  {
   "cell_type": "code",
   "execution_count": 4,
   "metadata": {},
   "outputs": [],
   "source": [
    "auth = tw.OAuthHandler(consumer_api_key, consumer_api_secret)"
   ]
  },
  {
   "cell_type": "code",
   "execution_count": 5,
   "metadata": {},
   "outputs": [],
   "source": [
    "api = tw.API(auth, wait_on_rate_limit=True)"
   ]
  },
  {
   "cell_type": "markdown",
   "metadata": {},
   "source": [
    "## 3. Tweets query\n",
    "\n",
    "### 3.1. Define the query"
   ]
  },
  {
   "cell_type": "code",
   "execution_count": 6,
   "metadata": {},
   "outputs": [],
   "source": [
    "search_words = \"#covid19 -filter:retweets\"\n",
    "date_since = \"2020-03-01\"\n",
    "# Collect tweets\n",
    "tweets = tw.Cursor(api.search,\n",
    "              q=search_words,\n",
    "              lang=\"en\",\n",
    "              since=date_since).items(7500)"
   ]
  },
  {
   "cell_type": "markdown",
   "metadata": {},
   "source": [
    "### 3.2. Retreive the tweets"
   ]
  },
  {
   "cell_type": "code",
   "execution_count": 7,
   "metadata": {
    "scrolled": false
   },
   "outputs": [
    {
     "name": "stderr",
     "output_type": "stream",
     "text": [
      "7500it [14:02,  8.91it/s]\n"
     ]
    }
   ],
   "source": [
    "tweets_copy = []\n",
    "for tweet in tqdm(tweets):\n",
    "    tweets_copy.append(tweet)"
   ]
  },
  {
   "cell_type": "code",
   "execution_count": 8,
   "metadata": {},
   "outputs": [
    {
     "name": "stdout",
     "output_type": "stream",
     "text": [
      "new tweets retrieved: 7500\n"
     ]
    }
   ],
   "source": [
    "print(f\"new tweets retrieved: {len(tweets_copy)}\")"
   ]
  },
  {
   "cell_type": "markdown",
   "metadata": {},
   "source": [
    "## 4. Populate the dataset"
   ]
  },
  {
   "cell_type": "code",
   "execution_count": 9,
   "metadata": {
    "scrolled": false
   },
   "outputs": [
    {
     "name": "stderr",
     "output_type": "stream",
     "text": [
      "100%|██████████| 7500/7500 [00:38<00:00, 194.16it/s]\n"
     ]
    }
   ],
   "source": [
    "tweets_df = pd.DataFrame()\n",
    "for tweet in tqdm(tweets_copy):\n",
    "    hashtags = []\n",
    "    try:\n",
    "        for hashtag in tweet.entities[\"hashtags\"]:\n",
    "            hashtags.append(hashtag[\"text\"])\n",
    "    except:\n",
    "        pass\n",
    "    tweets_df = tweets_df.append(pd.DataFrame({'user_name': tweet.user.name, \n",
    "                                               'user_location': tweet.user.location,\\\n",
    "                                               'user_description': tweet.user.description,\n",
    "                                               'user_created': tweet.user.created_at,\n",
    "                                               'user_followers': tweet.user.followers_count,\n",
    "                                               'user_friends': tweet.user.friends_count,\n",
    "                                               'user_favourites': tweet.user.favourites_count,\n",
    "                                               'user_verified': tweet.user.verified,\n",
    "                                               'date': tweet.created_at,\n",
    "                                               'text': tweet.text, \n",
    "                                               'hashtags': [hashtags if hashtags else None],\n",
    "                                               'source': tweet.source,\n",
    "                                               'is_retweet': tweet.retweeted}, index=[0]))"
   ]
  },
  {
   "cell_type": "code",
   "execution_count": 10,
   "metadata": {},
   "outputs": [
    {
     "data": {
      "text/html": [
       "<div>\n",
       "<style scoped>\n",
       "    .dataframe tbody tr th:only-of-type {\n",
       "        vertical-align: middle;\n",
       "    }\n",
       "\n",
       "    .dataframe tbody tr th {\n",
       "        vertical-align: top;\n",
       "    }\n",
       "\n",
       "    .dataframe thead th {\n",
       "        text-align: right;\n",
       "    }\n",
       "</style>\n",
       "<table border=\"1\" class=\"dataframe\">\n",
       "  <thead>\n",
       "    <tr style=\"text-align: right;\">\n",
       "      <th></th>\n",
       "      <th>user_name</th>\n",
       "      <th>user_location</th>\n",
       "      <th>user_description</th>\n",
       "      <th>user_created</th>\n",
       "      <th>user_followers</th>\n",
       "      <th>user_friends</th>\n",
       "      <th>user_favourites</th>\n",
       "      <th>user_verified</th>\n",
       "      <th>date</th>\n",
       "      <th>text</th>\n",
       "      <th>hashtags</th>\n",
       "      <th>source</th>\n",
       "      <th>is_retweet</th>\n",
       "    </tr>\n",
       "  </thead>\n",
       "  <tbody>\n",
       "    <tr>\n",
       "      <th>0</th>\n",
       "      <td>saffat</td>\n",
       "      <td>Asansol, India</td>\n",
       "      <td></td>\n",
       "      <td>2017-08-22 18:33:21</td>\n",
       "      <td>5</td>\n",
       "      <td>31</td>\n",
       "      <td>46</td>\n",
       "      <td>False</td>\n",
       "      <td>2020-08-09 09:22:09</td>\n",
       "      <td>@mybmc kurla East to West one an only sabway. ...</td>\n",
       "      <td>[pollutedwater, last4dyas, COVID19]</td>\n",
       "      <td>Twitter for Android</td>\n",
       "      <td>False</td>\n",
       "    </tr>\n",
       "    <tr>\n",
       "      <th>0</th>\n",
       "      <td>DT Next</td>\n",
       "      <td>Chennai, India</td>\n",
       "      <td>English language newspaper by the Daily Thanth...</td>\n",
       "      <td>2015-10-23 12:33:47</td>\n",
       "      <td>6224</td>\n",
       "      <td>415</td>\n",
       "      <td>144</td>\n",
       "      <td>True</td>\n",
       "      <td>2020-08-09 09:22:08</td>\n",
       "      <td>Some 45 people were discharged on Saturday and...</td>\n",
       "      <td>None</td>\n",
       "      <td>Twitter Web App</td>\n",
       "      <td>False</td>\n",
       "    </tr>\n",
       "    <tr>\n",
       "      <th>0</th>\n",
       "      <td>Stephen McDonald</td>\n",
       "      <td>Asia-Pacific &amp; Global</td>\n",
       "      <td>Co-founder &amp; Director, Partnerships, Policy an...</td>\n",
       "      <td>2009-09-02 09:21:16</td>\n",
       "      <td>919</td>\n",
       "      <td>1396</td>\n",
       "      <td>3411</td>\n",
       "      <td>False</td>\n",
       "      <td>2020-08-09 09:22:05</td>\n",
       "      <td>If the findings in this @TheLancet paper hold ...</td>\n",
       "      <td>None</td>\n",
       "      <td>Twitter Web App</td>\n",
       "      <td>False</td>\n",
       "    </tr>\n",
       "    <tr>\n",
       "      <th>0</th>\n",
       "      <td>spud</td>\n",
       "      <td>Nelson City, New Zealand</td>\n",
       "      <td>You can find me on Facebook page healthytips4u...</td>\n",
       "      <td>2015-01-07 20:02:04</td>\n",
       "      <td>47</td>\n",
       "      <td>368</td>\n",
       "      <td>537</td>\n",
       "      <td>False</td>\n",
       "      <td>2020-08-09 09:22:04</td>\n",
       "      <td>I loved catching up with Monni from Juice-plus...</td>\n",
       "      <td>[teamlove, healthy]</td>\n",
       "      <td>Instagram</td>\n",
       "      <td>False</td>\n",
       "    </tr>\n",
       "    <tr>\n",
       "      <th>0</th>\n",
       "      <td>Will de Banbury</td>\n",
       "      <td></td>\n",
       "      <td></td>\n",
       "      <td>2020-04-04 15:55:58</td>\n",
       "      <td>7</td>\n",
       "      <td>60</td>\n",
       "      <td>476</td>\n",
       "      <td>False</td>\n",
       "      <td>2020-08-09 09:21:57</td>\n",
       "      <td>I've just heard on BBC Radio that Oxford unive...</td>\n",
       "      <td>[Budesonide]</td>\n",
       "      <td>Twitter for Android</td>\n",
       "      <td>False</td>\n",
       "    </tr>\n",
       "  </tbody>\n",
       "</table>\n",
       "</div>"
      ],
      "text/plain": [
       "          user_name             user_location  \\\n",
       "0            saffat            Asansol, India   \n",
       "0           DT Next            Chennai, India   \n",
       "0  Stephen McDonald     Asia-Pacific & Global   \n",
       "0              spud  Nelson City, New Zealand   \n",
       "0   Will de Banbury                             \n",
       "\n",
       "                                    user_description        user_created  \\\n",
       "0                                                    2017-08-22 18:33:21   \n",
       "0  English language newspaper by the Daily Thanth... 2015-10-23 12:33:47   \n",
       "0  Co-founder & Director, Partnerships, Policy an... 2009-09-02 09:21:16   \n",
       "0  You can find me on Facebook page healthytips4u... 2015-01-07 20:02:04   \n",
       "0                                                    2020-04-04 15:55:58   \n",
       "\n",
       "   user_followers  user_friends  user_favourites  user_verified  \\\n",
       "0               5            31               46          False   \n",
       "0            6224           415              144           True   \n",
       "0             919          1396             3411          False   \n",
       "0              47           368              537          False   \n",
       "0               7            60              476          False   \n",
       "\n",
       "                 date                                               text  \\\n",
       "0 2020-08-09 09:22:09  @mybmc kurla East to West one an only sabway. ...   \n",
       "0 2020-08-09 09:22:08  Some 45 people were discharged on Saturday and...   \n",
       "0 2020-08-09 09:22:05  If the findings in this @TheLancet paper hold ...   \n",
       "0 2020-08-09 09:22:04  I loved catching up with Monni from Juice-plus...   \n",
       "0 2020-08-09 09:21:57  I've just heard on BBC Radio that Oxford unive...   \n",
       "\n",
       "                              hashtags               source  is_retweet  \n",
       "0  [pollutedwater, last4dyas, COVID19]  Twitter for Android       False  \n",
       "0                                 None      Twitter Web App       False  \n",
       "0                                 None      Twitter Web App       False  \n",
       "0                  [teamlove, healthy]            Instagram       False  \n",
       "0                         [Budesonide]  Twitter for Android       False  "
      ]
     },
     "execution_count": 10,
     "metadata": {},
     "output_type": "execute_result"
    }
   ],
   "source": [
    "tweets_df.head()"
   ]
  },
  {
   "cell_type": "markdown",
   "metadata": {},
   "source": [
    "## 5. Save the data\n",
    "\n",
    "### 5.1. Read past data"
   ]
  },
  {
   "cell_type": "code",
   "execution_count": 11,
   "metadata": {},
   "outputs": [
    {
     "name": "stdout",
     "output_type": "stream",
     "text": [
      "past tweets: (90210, 13)\n"
     ]
    }
   ],
   "source": [
    "tweets_old_df = pd.read_csv(\"covid19_tweets.csv\")\n",
    "print(f\"past tweets: {tweets_old_df.shape}\")"
   ]
  },
  {
   "cell_type": "markdown",
   "metadata": {},
   "source": [
    "### 5.2. Merge past and present data"
   ]
  },
  {
   "cell_type": "code",
   "execution_count": 12,
   "metadata": {},
   "outputs": [
    {
     "name": "stdout",
     "output_type": "stream",
     "text": [
      "new tweets: 7500 past tweets: 90210 all tweets: 97710\n"
     ]
    }
   ],
   "source": [
    "tweets_all_df = pd.concat([tweets_old_df, tweets_df], axis=0)\n",
    "print(f\"new tweets: {tweets_df.shape[0]} past tweets: {tweets_old_df.shape[0]} all tweets: {tweets_all_df.shape[0]}\")"
   ]
  },
  {
   "cell_type": "markdown",
   "metadata": {},
   "source": [
    "### 5.3. Drop duplicates"
   ]
  },
  {
   "cell_type": "code",
   "execution_count": 13,
   "metadata": {},
   "outputs": [
    {
     "name": "stdout",
     "output_type": "stream",
     "text": [
      "all tweets: (97710, 13)\n"
     ]
    }
   ],
   "source": [
    "tweets_all_df.drop_duplicates(subset = [\"user_name\", \"date\", \"text\"], inplace=True)\n",
    "print(f\"all tweets: {tweets_all_df.shape}\")"
   ]
  },
  {
   "cell_type": "markdown",
   "metadata": {},
   "source": [
    "### 5.4. Export the updated data"
   ]
  },
  {
   "cell_type": "code",
   "execution_count": 14,
   "metadata": {},
   "outputs": [],
   "source": [
    "tweets_all_df.to_csv(\"covid19_tweets.csv\", index=False)"
   ]
  },
  {
   "cell_type": "code",
   "execution_count": null,
   "metadata": {},
   "outputs": [],
   "source": []
  }
 ],
 "metadata": {
  "kernelspec": {
   "display_name": "Python 3",
   "language": "python",
   "name": "python3"
  },
  "language_info": {
   "codemirror_mode": {
    "name": "ipython",
    "version": 3
   },
   "file_extension": ".py",
   "mimetype": "text/x-python",
   "name": "python",
   "nbconvert_exporter": "python",
   "pygments_lexer": "ipython3",
   "version": "3.7.6"
  }
 },
 "nbformat": 4,
 "nbformat_minor": 4
}
