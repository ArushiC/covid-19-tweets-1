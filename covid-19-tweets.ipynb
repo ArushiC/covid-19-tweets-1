{
 "cells": [
  {
   "cell_type": "markdown",
   "metadata": {},
   "source": [
    "## 1. Import packages"
   ]
  },
  {
   "cell_type": "code",
   "execution_count": 1,
   "metadata": {},
   "outputs": [],
   "source": [
    "#!pip install tweepy"
   ]
  },
  {
   "cell_type": "code",
   "execution_count": 2,
   "metadata": {},
   "outputs": [],
   "source": [
    "import os\n",
    "import tweepy as tw\n",
    "import pandas as pd\n",
    "from tqdm import tqdm"
   ]
  },
  {
   "cell_type": "markdown",
   "metadata": {},
   "source": [
    "## 2. Twitter API authentication"
   ]
  },
  {
   "cell_type": "code",
   "execution_count": 3,
   "metadata": {},
   "outputs": [],
   "source": [
    "consumer_api_key = os.environ[\"TWITTER_CONSUMER_API_KEY\"]\n",
    "consumer_api_secret = os.environ[\"TWITTER_CONSUMER_API_SECRET\"]"
   ]
  },
  {
   "cell_type": "code",
   "execution_count": 4,
   "metadata": {},
   "outputs": [],
   "source": [
    "auth = tw.OAuthHandler(consumer_api_key, consumer_api_secret)"
   ]
  },
  {
   "cell_type": "code",
   "execution_count": 5,
   "metadata": {},
   "outputs": [],
   "source": [
    "api = tw.API(auth, wait_on_rate_limit=True)"
   ]
  },
  {
   "cell_type": "markdown",
   "metadata": {},
   "source": [
    "## 3. Tweets query\n",
    "\n",
    "### 3.1. Define the query"
   ]
  },
  {
   "cell_type": "code",
   "execution_count": 6,
   "metadata": {},
   "outputs": [],
   "source": [
    "search_words = \"#covid19 -filter:retweets\"\n",
    "date_since = \"2020-03-01\"\n",
    "# Collect tweets\n",
    "tweets = tw.Cursor(api.search,\n",
    "              q=search_words,\n",
    "              lang=\"en\",\n",
    "              since=date_since).items(7500)"
   ]
  },
  {
   "cell_type": "markdown",
   "metadata": {},
   "source": [
    "### 3.2. Retreive the tweets"
   ]
  },
  {
   "cell_type": "code",
   "execution_count": 7,
   "metadata": {
    "scrolled": false
   },
   "outputs": [
    {
     "name": "stderr",
     "output_type": "stream",
     "text": [
      "4891it [02:37, 31.00it/s]\n"
     ]
    }
   ],
   "source": [
    "tweets_copy = []\n",
    "for tweet in tqdm(tweets):\n",
    "    tweets_copy.append(tweet)"
   ]
  },
  {
   "cell_type": "code",
   "execution_count": 8,
   "metadata": {},
   "outputs": [
    {
     "name": "stdout",
     "output_type": "stream",
     "text": [
      "new tweets retrieved: 4891\n"
     ]
    }
   ],
   "source": [
    "print(f\"new tweets retrieved: {len(tweets_copy)}\")"
   ]
  },
  {
   "cell_type": "markdown",
   "metadata": {},
   "source": [
    "## 4. Populate the dataset"
   ]
  },
  {
   "cell_type": "code",
   "execution_count": 9,
   "metadata": {
    "scrolled": false
   },
   "outputs": [
    {
     "name": "stderr",
     "output_type": "stream",
     "text": [
      "100%|██████████| 4891/4891 [00:21<00:00, 223.13it/s]\n"
     ]
    }
   ],
   "source": [
    "tweets_df = pd.DataFrame()\n",
    "for tweet in tqdm(tweets_copy):\n",
    "    hashtags = []\n",
    "    try:\n",
    "        for hashtag in tweet.entities[\"hashtags\"]:\n",
    "            hashtags.append(hashtag[\"text\"])\n",
    "    except:\n",
    "        pass\n",
    "    tweets_df = tweets_df.append(pd.DataFrame({'user_name': tweet.user.name, \n",
    "                                               'user_location': tweet.user.location,\\\n",
    "                                               'user_description': tweet.user.description,\n",
    "                                               'user_created': tweet.user.created_at,\n",
    "                                               'user_followers': tweet.user.followers_count,\n",
    "                                               'user_friends': tweet.user.friends_count,\n",
    "                                               'user_favourites': tweet.user.favourites_count,\n",
    "                                               'user_verified': tweet.user.verified,\n",
    "                                               'date': tweet.created_at,\n",
    "                                               'text': tweet.text, \n",
    "                                               'hashtags': [hashtags if hashtags else None],\n",
    "                                               'source': tweet.source,\n",
    "                                               'is_retweet': tweet.retweeted}, index=[0]))"
   ]
  },
  {
   "cell_type": "code",
   "execution_count": 10,
   "metadata": {},
   "outputs": [
    {
     "data": {
      "text/html": [
       "<div>\n",
       "<style scoped>\n",
       "    .dataframe tbody tr th:only-of-type {\n",
       "        vertical-align: middle;\n",
       "    }\n",
       "\n",
       "    .dataframe tbody tr th {\n",
       "        vertical-align: top;\n",
       "    }\n",
       "\n",
       "    .dataframe thead th {\n",
       "        text-align: right;\n",
       "    }\n",
       "</style>\n",
       "<table border=\"1\" class=\"dataframe\">\n",
       "  <thead>\n",
       "    <tr style=\"text-align: right;\">\n",
       "      <th></th>\n",
       "      <th>user_name</th>\n",
       "      <th>user_location</th>\n",
       "      <th>user_description</th>\n",
       "      <th>user_created</th>\n",
       "      <th>user_followers</th>\n",
       "      <th>user_friends</th>\n",
       "      <th>user_favourites</th>\n",
       "      <th>user_verified</th>\n",
       "      <th>date</th>\n",
       "      <th>text</th>\n",
       "      <th>hashtags</th>\n",
       "      <th>source</th>\n",
       "      <th>is_retweet</th>\n",
       "    </tr>\n",
       "  </thead>\n",
       "  <tbody>\n",
       "    <tr>\n",
       "      <th>0</th>\n",
       "      <td>InvestmentCanvas</td>\n",
       "      <td>Berlin</td>\n",
       "      <td>Stop listening to your bank ❌👂🏦. Use our free ...</td>\n",
       "      <td>2019-01-30 18:40:17</td>\n",
       "      <td>249</td>\n",
       "      <td>47</td>\n",
       "      <td>12</td>\n",
       "      <td>False</td>\n",
       "      <td>2020-08-10 16:28:02</td>\n",
       "      <td>S&amp;amp;P 500 is back at pre-corona highs.📉📈 Do ...</td>\n",
       "      <td>[COVID19, investing]</td>\n",
       "      <td>Buffer</td>\n",
       "      <td>False</td>\n",
       "    </tr>\n",
       "    <tr>\n",
       "      <th>0</th>\n",
       "      <td>April Thompson</td>\n",
       "      <td></td>\n",
       "      <td>Married mother of 2 beautiful bad ass women &amp; ...</td>\n",
       "      <td>2009-09-05 04:46:50</td>\n",
       "      <td>1031</td>\n",
       "      <td>1250</td>\n",
       "      <td>3356</td>\n",
       "      <td>False</td>\n",
       "      <td>2020-08-10 16:28:02</td>\n",
       "      <td>In case you needed a little chuckle this Monda...</td>\n",
       "      <td>[kayleighmcenany, CuomoPrimeTime, COVID19]</td>\n",
       "      <td>Twitter for Android</td>\n",
       "      <td>False</td>\n",
       "    </tr>\n",
       "    <tr>\n",
       "      <th>0</th>\n",
       "      <td>Institut Montaigne_EN</td>\n",
       "      <td>Paris, France</td>\n",
       "      <td>French nonpartisan &amp; nonprofit #thinktank comm...</td>\n",
       "      <td>2017-10-10 08:47:22</td>\n",
       "      <td>26164</td>\n",
       "      <td>296</td>\n",
       "      <td>3306</td>\n",
       "      <td>False</td>\n",
       "      <td>2020-08-10 16:28:01</td>\n",
       "      <td>🦠  #Covid19: \"#Psychiatry is in a permanent st...</td>\n",
       "      <td>[Covid19, Psychiatry]</td>\n",
       "      <td>Sprout Social</td>\n",
       "      <td>False</td>\n",
       "    </tr>\n",
       "    <tr>\n",
       "      <th>0</th>\n",
       "      <td>DC Health</td>\n",
       "      <td>District of Columbia</td>\n",
       "      <td>The DC Department of Health promotes health, w...</td>\n",
       "      <td>2010-02-26 16:50:13</td>\n",
       "      <td>10074</td>\n",
       "      <td>4252</td>\n",
       "      <td>667</td>\n",
       "      <td>True</td>\n",
       "      <td>2020-08-10 16:28:00</td>\n",
       "      <td>Updated Ward-level data for positive coronavir...</td>\n",
       "      <td>[COVID19]</td>\n",
       "      <td>Twitter Web App</td>\n",
       "      <td>False</td>\n",
       "    </tr>\n",
       "    <tr>\n",
       "      <th>0</th>\n",
       "      <td>Hamzat Lawal💡Hamzy! {Etim} 🔦</td>\n",
       "      <td>Village Square</td>\n",
       "      <td>Grassroots @CODEActivist Campaigner leading @C...</td>\n",
       "      <td>2010-07-26 09:13:51</td>\n",
       "      <td>100580</td>\n",
       "      <td>7242</td>\n",
       "      <td>26320</td>\n",
       "      <td>True</td>\n",
       "      <td>2020-08-10 16:27:59</td>\n",
       "      <td>While conscious of the exposures of being on g...</td>\n",
       "      <td>None</td>\n",
       "      <td>Twitter for iPhone</td>\n",
       "      <td>False</td>\n",
       "    </tr>\n",
       "  </tbody>\n",
       "</table>\n",
       "</div>"
      ],
      "text/plain": [
       "                      user_name         user_location  \\\n",
       "0              InvestmentCanvas                Berlin   \n",
       "0                April Thompson                         \n",
       "0         Institut Montaigne_EN         Paris, France   \n",
       "0                     DC Health  District of Columbia   \n",
       "0  Hamzat Lawal💡Hamzy! {Etim} 🔦        Village Square   \n",
       "\n",
       "                                    user_description        user_created  \\\n",
       "0  Stop listening to your bank ❌👂🏦. Use our free ... 2019-01-30 18:40:17   \n",
       "0  Married mother of 2 beautiful bad ass women & ... 2009-09-05 04:46:50   \n",
       "0  French nonpartisan & nonprofit #thinktank comm... 2017-10-10 08:47:22   \n",
       "0  The DC Department of Health promotes health, w... 2010-02-26 16:50:13   \n",
       "0  Grassroots @CODEActivist Campaigner leading @C... 2010-07-26 09:13:51   \n",
       "\n",
       "   user_followers  user_friends  user_favourites  user_verified  \\\n",
       "0             249            47               12          False   \n",
       "0            1031          1250             3356          False   \n",
       "0           26164           296             3306          False   \n",
       "0           10074          4252              667           True   \n",
       "0          100580          7242            26320           True   \n",
       "\n",
       "                 date                                               text  \\\n",
       "0 2020-08-10 16:28:02  S&amp;P 500 is back at pre-corona highs.📉📈 Do ...   \n",
       "0 2020-08-10 16:28:02  In case you needed a little chuckle this Monda...   \n",
       "0 2020-08-10 16:28:01  🦠  #Covid19: \"#Psychiatry is in a permanent st...   \n",
       "0 2020-08-10 16:28:00  Updated Ward-level data for positive coronavir...   \n",
       "0 2020-08-10 16:27:59  While conscious of the exposures of being on g...   \n",
       "\n",
       "                                     hashtags               source  is_retweet  \n",
       "0                        [COVID19, investing]               Buffer       False  \n",
       "0  [kayleighmcenany, CuomoPrimeTime, COVID19]  Twitter for Android       False  \n",
       "0                       [Covid19, Psychiatry]        Sprout Social       False  \n",
       "0                                   [COVID19]      Twitter Web App       False  \n",
       "0                                        None   Twitter for iPhone       False  "
      ]
     },
     "execution_count": 10,
     "metadata": {},
     "output_type": "execute_result"
    }
   ],
   "source": [
    "tweets_df.head()"
   ]
  },
  {
   "cell_type": "markdown",
   "metadata": {},
   "source": [
    "## 5. Save the data\n",
    "\n",
    "### 5.1. Read past data"
   ]
  },
  {
   "cell_type": "code",
   "execution_count": 11,
   "metadata": {},
   "outputs": [
    {
     "name": "stdout",
     "output_type": "stream",
     "text": [
      "past tweets: (97710, 13)\n"
     ]
    }
   ],
   "source": [
    "tweets_old_df = pd.read_csv(\"covid19_tweets.csv\")\n",
    "print(f\"past tweets: {tweets_old_df.shape}\")"
   ]
  },
  {
   "cell_type": "markdown",
   "metadata": {},
   "source": [
    "### 5.2. Merge past and present data"
   ]
  },
  {
   "cell_type": "code",
   "execution_count": 12,
   "metadata": {},
   "outputs": [
    {
     "name": "stdout",
     "output_type": "stream",
     "text": [
      "new tweets: 4891 past tweets: 97710 all tweets: 102601\n"
     ]
    }
   ],
   "source": [
    "tweets_all_df = pd.concat([tweets_old_df, tweets_df], axis=0)\n",
    "print(f\"new tweets: {tweets_df.shape[0]} past tweets: {tweets_old_df.shape[0]} all tweets: {tweets_all_df.shape[0]}\")"
   ]
  },
  {
   "cell_type": "markdown",
   "metadata": {},
   "source": [
    "### 5.3. Drop duplicates"
   ]
  },
  {
   "cell_type": "code",
   "execution_count": 13,
   "metadata": {},
   "outputs": [
    {
     "name": "stdout",
     "output_type": "stream",
     "text": [
      "all tweets: (102601, 13)\n"
     ]
    }
   ],
   "source": [
    "tweets_all_df.drop_duplicates(subset = [\"user_name\", \"date\", \"text\"], inplace=True)\n",
    "print(f\"all tweets: {tweets_all_df.shape}\")"
   ]
  },
  {
   "cell_type": "markdown",
   "metadata": {},
   "source": [
    "### 5.4. Export the updated data"
   ]
  },
  {
   "cell_type": "code",
   "execution_count": 14,
   "metadata": {},
   "outputs": [],
   "source": [
    "tweets_all_df.to_csv(\"covid19_tweets.csv\", index=False)"
   ]
  },
  {
   "cell_type": "code",
   "execution_count": null,
   "metadata": {},
   "outputs": [],
   "source": []
  }
 ],
 "metadata": {
  "kernelspec": {
   "display_name": "Python 3",
   "language": "python",
   "name": "python3"
  },
  "language_info": {
   "codemirror_mode": {
    "name": "ipython",
    "version": 3
   },
   "file_extension": ".py",
   "mimetype": "text/x-python",
   "name": "python",
   "nbconvert_exporter": "python",
   "pygments_lexer": "ipython3",
   "version": "3.7.6"
  }
 },
 "nbformat": 4,
 "nbformat_minor": 4
}
