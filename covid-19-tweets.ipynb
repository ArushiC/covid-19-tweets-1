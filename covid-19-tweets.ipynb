{
 "cells": [
  {
   "cell_type": "markdown",
   "metadata": {},
   "source": [
    "## 1. Import packages"
   ]
  },
  {
   "cell_type": "code",
   "execution_count": 1,
   "metadata": {},
   "outputs": [],
   "source": [
    "#!pip install tweepy"
   ]
  },
  {
   "cell_type": "code",
   "execution_count": 2,
   "metadata": {},
   "outputs": [],
   "source": [
    "import os\n",
    "import tweepy as tw\n",
    "import pandas as pd\n",
    "from tqdm import tqdm"
   ]
  },
  {
   "cell_type": "markdown",
   "metadata": {},
   "source": [
    "## 2. Twitter API authentication"
   ]
  },
  {
   "cell_type": "code",
   "execution_count": 3,
   "metadata": {},
   "outputs": [],
   "source": [
    "consumer_api_key = os.environ[\"TWITTER_CONSUMER_API_KEY\"]\n",
    "consumer_api_secret = os.environ[\"TWITTER_CONSUMER_API_SECRET\"]"
   ]
  },
  {
   "cell_type": "code",
   "execution_count": 4,
   "metadata": {},
   "outputs": [],
   "source": [
    "auth = tw.OAuthHandler(consumer_api_key, consumer_api_secret)"
   ]
  },
  {
   "cell_type": "code",
   "execution_count": 5,
   "metadata": {},
   "outputs": [],
   "source": [
    "api = tw.API(auth, wait_on_rate_limit=True)"
   ]
  },
  {
   "cell_type": "markdown",
   "metadata": {},
   "source": [
    "## 3. Tweets query\n",
    "\n",
    "### 3.1. Define the query"
   ]
  },
  {
   "cell_type": "code",
   "execution_count": 6,
   "metadata": {},
   "outputs": [],
   "source": [
    "search_words = \"#covid19 -filter:retweets\"\n",
    "date_since = \"2020-03-01\"\n",
    "# Collect tweets\n",
    "tweets = tw.Cursor(api.search,\n",
    "              q=search_words,\n",
    "              lang=\"en\",\n",
    "              since=date_since).items(7500)"
   ]
  },
  {
   "cell_type": "markdown",
   "metadata": {},
   "source": [
    "### 3.2. Retreive the tweets"
   ]
  },
  {
   "cell_type": "code",
   "execution_count": 7,
   "metadata": {
    "scrolled": false
   },
   "outputs": [
    {
     "name": "stderr",
     "output_type": "stream",
     "text": [
      "7500it [15:12,  8.22it/s]\n"
     ]
    }
   ],
   "source": [
    "tweets_copy = []\n",
    "for tweet in tqdm(tweets):\n",
    "    tweets_copy.append(tweet)"
   ]
  },
  {
   "cell_type": "code",
   "execution_count": 8,
   "metadata": {},
   "outputs": [
    {
     "name": "stdout",
     "output_type": "stream",
     "text": [
      "new tweets retrieved: 7500\n"
     ]
    }
   ],
   "source": [
    "print(f\"new tweets retrieved: {len(tweets_copy)}\")"
   ]
  },
  {
   "cell_type": "markdown",
   "metadata": {},
   "source": [
    "## 4. Populate the dataset"
   ]
  },
  {
   "cell_type": "code",
   "execution_count": 9,
   "metadata": {
    "scrolled": false
   },
   "outputs": [
    {
     "name": "stderr",
     "output_type": "stream",
     "text": [
      "100%|██████████| 7500/7500 [00:36<00:00, 203.45it/s]\n"
     ]
    }
   ],
   "source": [
    "tweets_df = pd.DataFrame()\n",
    "for tweet in tqdm(tweets_copy):\n",
    "    hashtags = []\n",
    "    try:\n",
    "        for hashtag in tweet.entities[\"hashtags\"]:\n",
    "            hashtags.append(hashtag[\"text\"])\n",
    "    except:\n",
    "        pass\n",
    "    tweets_df = tweets_df.append(pd.DataFrame({'user_name': tweet.user.name, \n",
    "                                               'user_location': tweet.user.location,\\\n",
    "                                               'user_description': tweet.user.description,\n",
    "                                               'user_created': tweet.user.created_at,\n",
    "                                               'user_followers': tweet.user.followers_count,\n",
    "                                               'user_friends': tweet.user.friends_count,\n",
    "                                               'user_favourites': tweet.user.favourites_count,\n",
    "                                               'user_verified': tweet.user.verified,\n",
    "                                               'date': tweet.created_at,\n",
    "                                               'text': tweet.text, \n",
    "                                               'hashtags': [hashtags if hashtags else None],\n",
    "                                               'source': tweet.source,\n",
    "                                               'is_retweet': tweet.retweeted}, index=[0]))"
   ]
  },
  {
   "cell_type": "code",
   "execution_count": 10,
   "metadata": {},
   "outputs": [
    {
     "data": {
      "text/html": [
       "<div>\n",
       "<style scoped>\n",
       "    .dataframe tbody tr th:only-of-type {\n",
       "        vertical-align: middle;\n",
       "    }\n",
       "\n",
       "    .dataframe tbody tr th {\n",
       "        vertical-align: top;\n",
       "    }\n",
       "\n",
       "    .dataframe thead th {\n",
       "        text-align: right;\n",
       "    }\n",
       "</style>\n",
       "<table border=\"1\" class=\"dataframe\">\n",
       "  <thead>\n",
       "    <tr style=\"text-align: right;\">\n",
       "      <th></th>\n",
       "      <th>user_name</th>\n",
       "      <th>user_location</th>\n",
       "      <th>user_description</th>\n",
       "      <th>user_created</th>\n",
       "      <th>user_followers</th>\n",
       "      <th>user_friends</th>\n",
       "      <th>user_favourites</th>\n",
       "      <th>user_verified</th>\n",
       "      <th>date</th>\n",
       "      <th>text</th>\n",
       "      <th>hashtags</th>\n",
       "      <th>source</th>\n",
       "      <th>is_retweet</th>\n",
       "    </tr>\n",
       "  </thead>\n",
       "  <tbody>\n",
       "    <tr>\n",
       "      <th>0</th>\n",
       "      <td>NHS B'ham &amp; Solihull CCG</td>\n",
       "      <td>Birmingham, England</td>\n",
       "      <td>NHS Birmingham and Solihull CCG became the lar...</td>\n",
       "      <td>2009-03-03 14:53:03</td>\n",
       "      <td>12032</td>\n",
       "      <td>3132</td>\n",
       "      <td>2493</td>\n",
       "      <td>True</td>\n",
       "      <td>2020-08-16 09:28:04</td>\n",
       "      <td>If you feel unwell before you're meant to go o...</td>\n",
       "      <td>[COVID19]</td>\n",
       "      <td>Sprout Social</td>\n",
       "      <td>False</td>\n",
       "    </tr>\n",
       "    <tr>\n",
       "      <th>0</th>\n",
       "      <td>CGTN</td>\n",
       "      <td>Beijing, China</td>\n",
       "      <td>#SeeTheDifference with CGTN as we bring you st...</td>\n",
       "      <td>2013-01-24 03:18:59</td>\n",
       "      <td>13870120</td>\n",
       "      <td>69</td>\n",
       "      <td>126</td>\n",
       "      <td>True</td>\n",
       "      <td>2020-08-16 09:28:02</td>\n",
       "      <td>Guangzhou, S #China's Guangdong Province, anno...</td>\n",
       "      <td>[China]</td>\n",
       "      <td>Twitter Web App</td>\n",
       "      <td>False</td>\n",
       "    </tr>\n",
       "    <tr>\n",
       "      <th>0</th>\n",
       "      <td>Migrants' Rights Network</td>\n",
       "      <td>London</td>\n",
       "      <td>A UK charity campaigning for the rights &amp; just...</td>\n",
       "      <td>2010-02-04 17:16:31</td>\n",
       "      <td>31488</td>\n",
       "      <td>3140</td>\n",
       "      <td>4969</td>\n",
       "      <td>False</td>\n",
       "      <td>2020-08-16 09:28:00</td>\n",
       "      <td>Are you a person of colour, EU citizen or migr...</td>\n",
       "      <td>None</td>\n",
       "      <td>TweetDeck</td>\n",
       "      <td>False</td>\n",
       "    </tr>\n",
       "    <tr>\n",
       "      <th>0</th>\n",
       "      <td>XRKettering</td>\n",
       "      <td>Kettering, England</td>\n",
       "      <td>Official twitter of Extinction Rebellion Kette...</td>\n",
       "      <td>2019-07-21 00:49:22</td>\n",
       "      <td>519</td>\n",
       "      <td>353</td>\n",
       "      <td>1733</td>\n",
       "      <td>False</td>\n",
       "      <td>2020-08-16 09:27:59</td>\n",
       "      <td>Why should it be a death sentence if you live ...</td>\n",
       "      <td>[COVID19]</td>\n",
       "      <td>TweetDeck</td>\n",
       "      <td>False</td>\n",
       "    </tr>\n",
       "    <tr>\n",
       "      <th>0</th>\n",
       "      <td>Jules Berkhof</td>\n",
       "      <td></td>\n",
       "      <td></td>\n",
       "      <td>2010-01-16 08:24:51</td>\n",
       "      <td>56</td>\n",
       "      <td>291</td>\n",
       "      <td>682</td>\n",
       "      <td>False</td>\n",
       "      <td>2020-08-16 09:27:57</td>\n",
       "      <td>@JumboVismaRoad @rogla Bad luck day for cyclin...</td>\n",
       "      <td>None</td>\n",
       "      <td>Twitter for iPhone</td>\n",
       "      <td>False</td>\n",
       "    </tr>\n",
       "  </tbody>\n",
       "</table>\n",
       "</div>"
      ],
      "text/plain": [
       "                  user_name        user_location  \\\n",
       "0  NHS B'ham & Solihull CCG  Birmingham, England   \n",
       "0                      CGTN       Beijing, China   \n",
       "0  Migrants' Rights Network               London   \n",
       "0               XRKettering   Kettering, England   \n",
       "0             Jules Berkhof                        \n",
       "\n",
       "                                    user_description        user_created  \\\n",
       "0  NHS Birmingham and Solihull CCG became the lar... 2009-03-03 14:53:03   \n",
       "0  #SeeTheDifference with CGTN as we bring you st... 2013-01-24 03:18:59   \n",
       "0  A UK charity campaigning for the rights & just... 2010-02-04 17:16:31   \n",
       "0  Official twitter of Extinction Rebellion Kette... 2019-07-21 00:49:22   \n",
       "0                                                    2010-01-16 08:24:51   \n",
       "\n",
       "   user_followers  user_friends  user_favourites  user_verified  \\\n",
       "0           12032          3132             2493           True   \n",
       "0        13870120            69              126           True   \n",
       "0           31488          3140             4969          False   \n",
       "0             519           353             1733          False   \n",
       "0              56           291              682          False   \n",
       "\n",
       "                 date                                               text  \\\n",
       "0 2020-08-16 09:28:04  If you feel unwell before you're meant to go o...   \n",
       "0 2020-08-16 09:28:02  Guangzhou, S #China's Guangdong Province, anno...   \n",
       "0 2020-08-16 09:28:00  Are you a person of colour, EU citizen or migr...   \n",
       "0 2020-08-16 09:27:59  Why should it be a death sentence if you live ...   \n",
       "0 2020-08-16 09:27:57  @JumboVismaRoad @rogla Bad luck day for cyclin...   \n",
       "\n",
       "    hashtags              source  is_retweet  \n",
       "0  [COVID19]       Sprout Social       False  \n",
       "0    [China]     Twitter Web App       False  \n",
       "0       None           TweetDeck       False  \n",
       "0  [COVID19]           TweetDeck       False  \n",
       "0       None  Twitter for iPhone       False  "
      ]
     },
     "execution_count": 10,
     "metadata": {},
     "output_type": "execute_result"
    }
   ],
   "source": [
    "tweets_df.head()"
   ]
  },
  {
   "cell_type": "markdown",
   "metadata": {},
   "source": [
    "## 5. Save the data\n",
    "\n",
    "### 5.1. Read past data"
   ]
  },
  {
   "cell_type": "code",
   "execution_count": 11,
   "metadata": {},
   "outputs": [
    {
     "name": "stdout",
     "output_type": "stream",
     "text": [
      "past tweets: (132601, 13)\n"
     ]
    }
   ],
   "source": [
    "tweets_old_df = pd.read_csv(\"covid19_tweets.csv\")\n",
    "print(f\"past tweets: {tweets_old_df.shape}\")"
   ]
  },
  {
   "cell_type": "markdown",
   "metadata": {},
   "source": [
    "### 5.2. Merge past and present data"
   ]
  },
  {
   "cell_type": "code",
   "execution_count": 12,
   "metadata": {},
   "outputs": [
    {
     "name": "stdout",
     "output_type": "stream",
     "text": [
      "new tweets: 7500 past tweets: 132601 all tweets: 140101\n"
     ]
    }
   ],
   "source": [
    "tweets_all_df = pd.concat([tweets_old_df, tweets_df], axis=0)\n",
    "print(f\"new tweets: {tweets_df.shape[0]} past tweets: {tweets_old_df.shape[0]} all tweets: {tweets_all_df.shape[0]}\")"
   ]
  },
  {
   "cell_type": "markdown",
   "metadata": {},
   "source": [
    "### 5.3. Drop duplicates"
   ]
  },
  {
   "cell_type": "code",
   "execution_count": 13,
   "metadata": {},
   "outputs": [
    {
     "name": "stdout",
     "output_type": "stream",
     "text": [
      "all tweets: (140101, 13)\n"
     ]
    }
   ],
   "source": [
    "tweets_all_df.drop_duplicates(subset = [\"user_name\", \"date\", \"text\"], inplace=True)\n",
    "print(f\"all tweets: {tweets_all_df.shape}\")"
   ]
  },
  {
   "cell_type": "markdown",
   "metadata": {},
   "source": [
    "### 5.4. Export the updated data"
   ]
  },
  {
   "cell_type": "code",
   "execution_count": 14,
   "metadata": {},
   "outputs": [],
   "source": [
    "tweets_all_df.to_csv(\"covid19_tweets.csv\", index=False)"
   ]
  },
  {
   "cell_type": "code",
   "execution_count": null,
   "metadata": {},
   "outputs": [],
   "source": []
  }
 ],
 "metadata": {
  "kernelspec": {
   "display_name": "Python 3",
   "language": "python",
   "name": "python3"
  },
  "language_info": {
   "codemirror_mode": {
    "name": "ipython",
    "version": 3
   },
   "file_extension": ".py",
   "mimetype": "text/x-python",
   "name": "python",
   "nbconvert_exporter": "python",
   "pygments_lexer": "ipython3",
   "version": "3.7.6"
  }
 },
 "nbformat": 4,
 "nbformat_minor": 4
}
