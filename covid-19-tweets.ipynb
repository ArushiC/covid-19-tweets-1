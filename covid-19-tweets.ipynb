{
 "cells": [
  {
   "cell_type": "markdown",
   "metadata": {},
   "source": [
    "## 1. Import packages"
   ]
  },
  {
   "cell_type": "code",
   "execution_count": 1,
   "metadata": {},
   "outputs": [],
   "source": [
    "#!pip install tweepy"
   ]
  },
  {
   "cell_type": "code",
   "execution_count": 2,
   "metadata": {},
   "outputs": [],
   "source": [
    "import os\n",
    "import tweepy as tw\n",
    "import pandas as pd\n",
    "from tqdm import tqdm"
   ]
  },
  {
   "cell_type": "markdown",
   "metadata": {},
   "source": [
    "## 2. Twitter API authentication"
   ]
  },
  {
   "cell_type": "code",
   "execution_count": 3,
   "metadata": {},
   "outputs": [],
   "source": [
    "consumer_api_key = os.environ[\"TWITTER_CONSUMER_API_KEY\"]\n",
    "consumer_api_secret = os.environ[\"TWITTER_CONSUMER_API_SECRET\"]"
   ]
  },
  {
   "cell_type": "code",
   "execution_count": 4,
   "metadata": {},
   "outputs": [],
   "source": [
    "auth = tw.OAuthHandler(consumer_api_key, consumer_api_secret)"
   ]
  },
  {
   "cell_type": "code",
   "execution_count": 5,
   "metadata": {},
   "outputs": [],
   "source": [
    "api = tw.API(auth, wait_on_rate_limit=True)"
   ]
  },
  {
   "cell_type": "markdown",
   "metadata": {},
   "source": [
    "## 3. Tweets query\n",
    "\n",
    "### 3.1. Define the query"
   ]
  },
  {
   "cell_type": "code",
   "execution_count": 6,
   "metadata": {},
   "outputs": [],
   "source": [
    "search_words = \"#covid19 -filter:retweets\"\n",
    "date_since = \"2020-03-01\"\n",
    "# Collect tweets\n",
    "tweets = tw.Cursor(api.search,\n",
    "              q=search_words,\n",
    "              lang=\"en\",\n",
    "              since=date_since).items(7500)"
   ]
  },
  {
   "cell_type": "markdown",
   "metadata": {},
   "source": [
    "### 3.2. Retreive the tweets"
   ]
  },
  {
   "cell_type": "code",
   "execution_count": 7,
   "metadata": {
    "scrolled": false
   },
   "outputs": [
    {
     "name": "stderr",
     "output_type": "stream",
     "text": [
      "7500it [15:35,  8.02it/s]\n"
     ]
    }
   ],
   "source": [
    "tweets_copy = []\n",
    "for tweet in tqdm(tweets):\n",
    "    tweets_copy.append(tweet)"
   ]
  },
  {
   "cell_type": "code",
   "execution_count": 8,
   "metadata": {},
   "outputs": [
    {
     "name": "stdout",
     "output_type": "stream",
     "text": [
      "new tweets retrieved: 7500\n"
     ]
    }
   ],
   "source": [
    "print(f\"new tweets retrieved: {len(tweets_copy)}\")"
   ]
  },
  {
   "cell_type": "markdown",
   "metadata": {},
   "source": [
    "## 4. Populate the dataset"
   ]
  },
  {
   "cell_type": "code",
   "execution_count": 9,
   "metadata": {
    "scrolled": false
   },
   "outputs": [
    {
     "name": "stderr",
     "output_type": "stream",
     "text": [
      "100%|██████████| 7500/7500 [00:36<00:00, 203.41it/s]\n"
     ]
    }
   ],
   "source": [
    "tweets_df = pd.DataFrame()\n",
    "for tweet in tqdm(tweets_copy):\n",
    "    hashtags = []\n",
    "    try:\n",
    "        for hashtag in tweet.entities[\"hashtags\"]:\n",
    "            hashtags.append(hashtag[\"text\"])\n",
    "    except:\n",
    "        pass\n",
    "    tweets_df = tweets_df.append(pd.DataFrame({'user_name': tweet.user.name, \n",
    "                                               'user_location': tweet.user.location,\\\n",
    "                                               'user_description': tweet.user.description,\n",
    "                                               'user_created': tweet.user.created_at,\n",
    "                                               'user_followers': tweet.user.followers_count,\n",
    "                                               'user_friends': tweet.user.friends_count,\n",
    "                                               'user_favourites': tweet.user.favourites_count,\n",
    "                                               'user_verified': tweet.user.verified,\n",
    "                                               'date': tweet.created_at,\n",
    "                                               'text': tweet.text, \n",
    "                                               'hashtags': [hashtags if hashtags else None],\n",
    "                                               'source': tweet.source,\n",
    "                                               'is_retweet': tweet.retweeted}, index=[0]))"
   ]
  },
  {
   "cell_type": "code",
   "execution_count": 10,
   "metadata": {},
   "outputs": [
    {
     "data": {
      "text/html": [
       "<div>\n",
       "<style scoped>\n",
       "    .dataframe tbody tr th:only-of-type {\n",
       "        vertical-align: middle;\n",
       "    }\n",
       "\n",
       "    .dataframe tbody tr th {\n",
       "        vertical-align: top;\n",
       "    }\n",
       "\n",
       "    .dataframe thead th {\n",
       "        text-align: right;\n",
       "    }\n",
       "</style>\n",
       "<table border=\"1\" class=\"dataframe\">\n",
       "  <thead>\n",
       "    <tr style=\"text-align: right;\">\n",
       "      <th></th>\n",
       "      <th>user_name</th>\n",
       "      <th>user_location</th>\n",
       "      <th>user_description</th>\n",
       "      <th>user_created</th>\n",
       "      <th>user_followers</th>\n",
       "      <th>user_friends</th>\n",
       "      <th>user_favourites</th>\n",
       "      <th>user_verified</th>\n",
       "      <th>date</th>\n",
       "      <th>text</th>\n",
       "      <th>hashtags</th>\n",
       "      <th>source</th>\n",
       "      <th>is_retweet</th>\n",
       "    </tr>\n",
       "  </thead>\n",
       "  <tbody>\n",
       "    <tr>\n",
       "      <th>0</th>\n",
       "      <td>Matthew Hocter</td>\n",
       "      <td>Australia</td>\n",
       "      <td>Writer.</td>\n",
       "      <td>2020-06-01 12:58:50</td>\n",
       "      <td>11</td>\n",
       "      <td>75</td>\n",
       "      <td>370</td>\n",
       "      <td>False</td>\n",
       "      <td>2020-08-04 07:57:03</td>\n",
       "      <td>Hearing of friends in Brazil losing family to ...</td>\n",
       "      <td>[COVID19]</td>\n",
       "      <td>Twitter Web App</td>\n",
       "      <td>False</td>\n",
       "    </tr>\n",
       "    <tr>\n",
       "      <th>0</th>\n",
       "      <td>WEF Energy</td>\n",
       "      <td>Geneva</td>\n",
       "      <td>Tweets from the World Economic Forum on energy...</td>\n",
       "      <td>2012-11-07 17:08:47</td>\n",
       "      <td>2575</td>\n",
       "      <td>839</td>\n",
       "      <td>1370</td>\n",
       "      <td>False</td>\n",
       "      <td>2020-08-04 07:57:01</td>\n",
       "      <td>This powerful tool can help drive Europe's gre...</td>\n",
       "      <td>None</td>\n",
       "      <td>Buffer</td>\n",
       "      <td>False</td>\n",
       "    </tr>\n",
       "    <tr>\n",
       "      <th>0</th>\n",
       "      <td>Carles Dijous (AAlb)</td>\n",
       "      <td>Barcelona, Spain</td>\n",
       "      <td>Colaborador docente UOC (Universitat Oberta de...</td>\n",
       "      <td>2008-12-28 11:08:16</td>\n",
       "      <td>8968</td>\n",
       "      <td>5534</td>\n",
       "      <td>701</td>\n",
       "      <td>False</td>\n",
       "      <td>2020-08-04 07:57:00</td>\n",
       "      <td>Science Round-Up • #Coronavirus experts: #Seco...</td>\n",
       "      <td>[Coronavirus, SecondWave, Covid19]</td>\n",
       "      <td>TweetDeck</td>\n",
       "      <td>False</td>\n",
       "    </tr>\n",
       "    <tr>\n",
       "      <th>0</th>\n",
       "      <td>Rajprasong_News</td>\n",
       "      <td>Bangkok, Thailand</td>\n",
       "      <td>Aka Sean Boonpracong: Pol analyst, fmr Thai Tr...</td>\n",
       "      <td>2010-01-22 15:23:08</td>\n",
       "      <td>12546</td>\n",
       "      <td>966</td>\n",
       "      <td>8591</td>\n",
       "      <td>False</td>\n",
       "      <td>2020-08-04 07:56:55</td>\n",
       "      <td>#Vietnam #Covid19 spreads to 10 different plac...</td>\n",
       "      <td>[Vietnam, Covid19, Hanoi, HoChiMinhCity]</td>\n",
       "      <td>Twitter for iPhone</td>\n",
       "      <td>False</td>\n",
       "    </tr>\n",
       "    <tr>\n",
       "      <th>0</th>\n",
       "      <td>Premier Lubabalo Oscar Mabuyane</td>\n",
       "      <td>Bhisho, EC South Africa</td>\n",
       "      <td>Official Twitter of Premier Lubabalo Oscar Mab...</td>\n",
       "      <td>2018-10-02 18:03:01</td>\n",
       "      <td>10239</td>\n",
       "      <td>478</td>\n",
       "      <td>654</td>\n",
       "      <td>False</td>\n",
       "      <td>2020-08-04 07:56:52</td>\n",
       "      <td>Today, we’re in #NelsonMandelaBay visiting all...</td>\n",
       "      <td>[NelsonMandelaBay]</td>\n",
       "      <td>Twitter for iPhone</td>\n",
       "      <td>False</td>\n",
       "    </tr>\n",
       "  </tbody>\n",
       "</table>\n",
       "</div>"
      ],
      "text/plain": [
       "                         user_name            user_location  \\\n",
       "0                   Matthew Hocter                Australia   \n",
       "0                       WEF Energy                   Geneva   \n",
       "0             Carles Dijous (AAlb)         Barcelona, Spain   \n",
       "0                  Rajprasong_News        Bangkok, Thailand   \n",
       "0  Premier Lubabalo Oscar Mabuyane  Bhisho, EC South Africa   \n",
       "\n",
       "                                    user_description        user_created  \\\n",
       "0                                            Writer. 2020-06-01 12:58:50   \n",
       "0  Tweets from the World Economic Forum on energy... 2012-11-07 17:08:47   \n",
       "0  Colaborador docente UOC (Universitat Oberta de... 2008-12-28 11:08:16   \n",
       "0  Aka Sean Boonpracong: Pol analyst, fmr Thai Tr... 2010-01-22 15:23:08   \n",
       "0  Official Twitter of Premier Lubabalo Oscar Mab... 2018-10-02 18:03:01   \n",
       "\n",
       "   user_followers  user_friends  user_favourites  user_verified  \\\n",
       "0              11            75              370          False   \n",
       "0            2575           839             1370          False   \n",
       "0            8968          5534              701          False   \n",
       "0           12546           966             8591          False   \n",
       "0           10239           478              654          False   \n",
       "\n",
       "                 date                                               text  \\\n",
       "0 2020-08-04 07:57:03  Hearing of friends in Brazil losing family to ...   \n",
       "0 2020-08-04 07:57:01  This powerful tool can help drive Europe's gre...   \n",
       "0 2020-08-04 07:57:00  Science Round-Up • #Coronavirus experts: #Seco...   \n",
       "0 2020-08-04 07:56:55  #Vietnam #Covid19 spreads to 10 different plac...   \n",
       "0 2020-08-04 07:56:52  Today, we’re in #NelsonMandelaBay visiting all...   \n",
       "\n",
       "                                   hashtags              source  is_retweet  \n",
       "0                                 [COVID19]     Twitter Web App       False  \n",
       "0                                      None              Buffer       False  \n",
       "0        [Coronavirus, SecondWave, Covid19]           TweetDeck       False  \n",
       "0  [Vietnam, Covid19, Hanoi, HoChiMinhCity]  Twitter for iPhone       False  \n",
       "0                        [NelsonMandelaBay]  Twitter for iPhone       False  "
      ]
     },
     "execution_count": 10,
     "metadata": {},
     "output_type": "execute_result"
    }
   ],
   "source": [
    "tweets_df.head()"
   ]
  },
  {
   "cell_type": "markdown",
   "metadata": {},
   "source": [
    "## 5. Save the data\n",
    "\n",
    "### 5.1. Read past data"
   ]
  },
  {
   "cell_type": "code",
   "execution_count": 11,
   "metadata": {},
   "outputs": [
    {
     "name": "stdout",
     "output_type": "stream",
     "text": [
      "past tweets: (66936, 13)\n"
     ]
    }
   ],
   "source": [
    "tweets_old_df = pd.read_csv(\"covid19_tweets.csv\")\n",
    "print(f\"past tweets: {tweets_old_df.shape}\")"
   ]
  },
  {
   "cell_type": "markdown",
   "metadata": {},
   "source": [
    "### 5.2. Merge past and present data"
   ]
  },
  {
   "cell_type": "code",
   "execution_count": 12,
   "metadata": {},
   "outputs": [
    {
     "name": "stdout",
     "output_type": "stream",
     "text": [
      "new tweets: 7500 past tweets: 66936 all tweets: 74436\n"
     ]
    }
   ],
   "source": [
    "tweets_all_df = pd.concat([tweets_old_df, tweets_df], axis=0)\n",
    "print(f\"new tweets: {tweets_df.shape[0]} past tweets: {tweets_old_df.shape[0]} all tweets: {tweets_all_df.shape[0]}\")"
   ]
  },
  {
   "cell_type": "markdown",
   "metadata": {},
   "source": [
    "### 5.3. Drop duplicates"
   ]
  },
  {
   "cell_type": "code",
   "execution_count": 13,
   "metadata": {},
   "outputs": [
    {
     "name": "stdout",
     "output_type": "stream",
     "text": [
      "all tweets: (74436, 13)\n"
     ]
    }
   ],
   "source": [
    "tweets_all_df.drop_duplicates(subset = [\"user_name\", \"date\", \"text\"], inplace=True)\n",
    "print(f\"all tweets: {tweets_all_df.shape}\")"
   ]
  },
  {
   "cell_type": "markdown",
   "metadata": {},
   "source": [
    "### 5.4. Export the updated data"
   ]
  },
  {
   "cell_type": "code",
   "execution_count": 14,
   "metadata": {},
   "outputs": [],
   "source": [
    "tweets_all_df.to_csv(\"covid19_tweets.csv\", index=False)"
   ]
  },
  {
   "cell_type": "code",
   "execution_count": null,
   "metadata": {},
   "outputs": [],
   "source": []
  }
 ],
 "metadata": {
  "kernelspec": {
   "display_name": "Python 3",
   "language": "python",
   "name": "python3"
  },
  "language_info": {
   "codemirror_mode": {
    "name": "ipython",
    "version": 3
   },
   "file_extension": ".py",
   "mimetype": "text/x-python",
   "name": "python",
   "nbconvert_exporter": "python",
   "pygments_lexer": "ipython3",
   "version": "3.7.6"
  }
 },
 "nbformat": 4,
 "nbformat_minor": 4
}
