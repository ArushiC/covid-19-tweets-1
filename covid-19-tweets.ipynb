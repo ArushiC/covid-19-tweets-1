{
 "cells": [
  {
   "cell_type": "markdown",
   "metadata": {},
   "source": [
    "## 1. Import packages"
   ]
  },
  {
   "cell_type": "code",
   "execution_count": 1,
   "metadata": {},
   "outputs": [],
   "source": [
    "#!pip install tweepy"
   ]
  },
  {
   "cell_type": "code",
   "execution_count": 2,
   "metadata": {},
   "outputs": [],
   "source": [
    "import os\n",
    "import tweepy as tw\n",
    "import pandas as pd\n",
    "from tqdm import tqdm"
   ]
  },
  {
   "cell_type": "markdown",
   "metadata": {},
   "source": [
    "## 2. Twitter API authentication"
   ]
  },
  {
   "cell_type": "code",
   "execution_count": 3,
   "metadata": {},
   "outputs": [],
   "source": [
    "consumer_api_key = os.environ[\"TWITTER_CONSUMER_API_KEY\"]\n",
    "consumer_api_secret = os.environ[\"TWITTER_CONSUMER_API_SECRET\"]"
   ]
  },
  {
   "cell_type": "code",
   "execution_count": 4,
   "metadata": {},
   "outputs": [],
   "source": [
    "auth = tw.OAuthHandler(consumer_api_key, consumer_api_secret)"
   ]
  },
  {
   "cell_type": "code",
   "execution_count": 5,
   "metadata": {},
   "outputs": [],
   "source": [
    "api = tw.API(auth, wait_on_rate_limit=True)"
   ]
  },
  {
   "cell_type": "markdown",
   "metadata": {},
   "source": [
    "## 3. Tweets query\n",
    "\n",
    "### 3.1. Define the query"
   ]
  },
  {
   "cell_type": "code",
   "execution_count": 6,
   "metadata": {},
   "outputs": [],
   "source": [
    "search_words = \"#covid19 -filter:retweets\"\n",
    "date_since = \"2020-03-01\"\n",
    "# Collect tweets\n",
    "tweets = tw.Cursor(api.search,\n",
    "              q=search_words,\n",
    "              lang=\"en\",\n",
    "              since=date_since).items(7500)"
   ]
  },
  {
   "cell_type": "markdown",
   "metadata": {},
   "source": [
    "### 3.2. Retreive the tweets"
   ]
  },
  {
   "cell_type": "code",
   "execution_count": 7,
   "metadata": {
    "scrolled": false
   },
   "outputs": [
    {
     "name": "stderr",
     "output_type": "stream",
     "text": [
      "7214it [14:56,  8.05it/s]\n"
     ]
    }
   ],
   "source": [
    "tweets_copy = []\n",
    "for tweet in tqdm(tweets):\n",
    "    tweets_copy.append(tweet)"
   ]
  },
  {
   "cell_type": "code",
   "execution_count": 8,
   "metadata": {},
   "outputs": [
    {
     "name": "stdout",
     "output_type": "stream",
     "text": [
      "new tweets retrieved: 7214\n"
     ]
    }
   ],
   "source": [
    "print(f\"new tweets retrieved: {len(tweets_copy)}\")"
   ]
  },
  {
   "cell_type": "markdown",
   "metadata": {},
   "source": [
    "## 4. Populate the dataset"
   ]
  },
  {
   "cell_type": "code",
   "execution_count": 9,
   "metadata": {
    "scrolled": false
   },
   "outputs": [
    {
     "name": "stderr",
     "output_type": "stream",
     "text": [
      "100%|██████████| 7214/7214 [00:38<00:00, 188.00it/s]\n"
     ]
    }
   ],
   "source": [
    "tweets_df = pd.DataFrame()\n",
    "for tweet in tqdm(tweets_copy):\n",
    "    hashtags = []\n",
    "    try:\n",
    "        for hashtag in tweet.entities[\"hashtags\"]:\n",
    "            hashtags.append(hashtag[\"text\"])\n",
    "    except:\n",
    "        pass\n",
    "    tweets_df = tweets_df.append(pd.DataFrame({'user_name': tweet.user.name, \n",
    "                                               'user_location': tweet.user.location,\\\n",
    "                                               'user_description': tweet.user.description,\n",
    "                                               'user_created': tweet.user.created_at,\n",
    "                                               'user_followers': tweet.user.followers_count,\n",
    "                                               'user_friends': tweet.user.friends_count,\n",
    "                                               'user_favourites': tweet.user.favourites_count,\n",
    "                                               'user_verified': tweet.user.verified,\n",
    "                                               'date': tweet.created_at,\n",
    "                                               'text': tweet.text, \n",
    "                                               'hashtags': [hashtags if hashtags else None],\n",
    "                                               'source': tweet.source,\n",
    "                                               'is_retweet': tweet.retweeted}, index=[0]))"
   ]
  },
  {
   "cell_type": "code",
   "execution_count": 10,
   "metadata": {},
   "outputs": [
    {
     "data": {
      "text/html": [
       "<div>\n",
       "<style scoped>\n",
       "    .dataframe tbody tr th:only-of-type {\n",
       "        vertical-align: middle;\n",
       "    }\n",
       "\n",
       "    .dataframe tbody tr th {\n",
       "        vertical-align: top;\n",
       "    }\n",
       "\n",
       "    .dataframe thead th {\n",
       "        text-align: right;\n",
       "    }\n",
       "</style>\n",
       "<table border=\"1\" class=\"dataframe\">\n",
       "  <thead>\n",
       "    <tr style=\"text-align: right;\">\n",
       "      <th></th>\n",
       "      <th>user_name</th>\n",
       "      <th>user_location</th>\n",
       "      <th>user_description</th>\n",
       "      <th>user_created</th>\n",
       "      <th>user_followers</th>\n",
       "      <th>user_friends</th>\n",
       "      <th>user_favourites</th>\n",
       "      <th>user_verified</th>\n",
       "      <th>date</th>\n",
       "      <th>text</th>\n",
       "      <th>hashtags</th>\n",
       "      <th>source</th>\n",
       "      <th>is_retweet</th>\n",
       "    </tr>\n",
       "  </thead>\n",
       "  <tbody>\n",
       "    <tr>\n",
       "      <th>0</th>\n",
       "      <td>Hassaan Ahmed Siddiqui</td>\n",
       "      <td>Islamabad, Pakistan</td>\n",
       "      <td>Deutsch studentin, Arzt zu sein 👨‍⚕️</td>\n",
       "      <td>2016-03-23 06:49:23</td>\n",
       "      <td>29</td>\n",
       "      <td>16</td>\n",
       "      <td>94</td>\n",
       "      <td>False</td>\n",
       "      <td>2020-08-06 16:40:36</td>\n",
       "      <td>Lockdown Ends, but it doesn't mean that we all...</td>\n",
       "      <td>None</td>\n",
       "      <td>Twitter for iPhone</td>\n",
       "      <td>False</td>\n",
       "    </tr>\n",
       "    <tr>\n",
       "      <th>0</th>\n",
       "      <td>Jonah Currie</td>\n",
       "      <td>Surrey , BC, Canada</td>\n",
       "      <td>healer, teacher, alchemist, nature lover, ligh...</td>\n",
       "      <td>2013-01-31 01:55:58</td>\n",
       "      <td>2547</td>\n",
       "      <td>5000</td>\n",
       "      <td>2337</td>\n",
       "      <td>False</td>\n",
       "      <td>2020-08-06 16:40:35</td>\n",
       "      <td>\"Our New Normal\" Is Code for the New World Ord...</td>\n",
       "      <td>[COVID19, coronavirus, EndTheNightmare]</td>\n",
       "      <td>Twitter for iPad</td>\n",
       "      <td>False</td>\n",
       "    </tr>\n",
       "    <tr>\n",
       "      <th>0</th>\n",
       "      <td>State Representative Natalie M. Blais</td>\n",
       "      <td>Sunderland, MA</td>\n",
       "      <td>Official twitter account for State Representat...</td>\n",
       "      <td>2017-08-30 19:54:05</td>\n",
       "      <td>764</td>\n",
       "      <td>803</td>\n",
       "      <td>1359</td>\n",
       "      <td>False</td>\n",
       "      <td>2020-08-06 16:40:34</td>\n",
       "      <td>Just as we in the state legislature have made ...</td>\n",
       "      <td>[COVID19]</td>\n",
       "      <td>TweetDeck</td>\n",
       "      <td>False</td>\n",
       "    </tr>\n",
       "    <tr>\n",
       "      <th>0</th>\n",
       "      <td>Hal Newnan</td>\n",
       "      <td></td>\n",
       "      <td>School Board Trustee and Sierra Club Activist</td>\n",
       "      <td>2012-05-06 11:52:50</td>\n",
       "      <td>543</td>\n",
       "      <td>1712</td>\n",
       "      <td>19960</td>\n",
       "      <td>False</td>\n",
       "      <td>2020-08-06 16:40:34</td>\n",
       "      <td>This could be a school district; this wouldn’t...</td>\n",
       "      <td>[UnitedShore]</td>\n",
       "      <td>Twitter for iPhone</td>\n",
       "      <td>False</td>\n",
       "    </tr>\n",
       "    <tr>\n",
       "      <th>0</th>\n",
       "      <td>hairandyoga</td>\n",
       "      <td>Dallas</td>\n",
       "      <td>Hairstylist at Anderson,Cox, and Company at St...</td>\n",
       "      <td>2013-03-28 12:37:46</td>\n",
       "      <td>95</td>\n",
       "      <td>367</td>\n",
       "      <td>6189</td>\n",
       "      <td>False</td>\n",
       "      <td>2020-08-06 16:40:33</td>\n",
       "      <td>I'm standing with @DoorDash to support my loca...</td>\n",
       "      <td>None</td>\n",
       "      <td>Twitter for iPad</td>\n",
       "      <td>False</td>\n",
       "    </tr>\n",
       "  </tbody>\n",
       "</table>\n",
       "</div>"
      ],
      "text/plain": [
       "                               user_name        user_location  \\\n",
       "0                 Hassaan Ahmed Siddiqui  Islamabad, Pakistan   \n",
       "0                           Jonah Currie  Surrey , BC, Canada   \n",
       "0  State Representative Natalie M. Blais       Sunderland, MA   \n",
       "0                             Hal Newnan                        \n",
       "0                            hairandyoga               Dallas   \n",
       "\n",
       "                                    user_description        user_created  \\\n",
       "0               Deutsch studentin, Arzt zu sein 👨‍⚕️ 2016-03-23 06:49:23   \n",
       "0  healer, teacher, alchemist, nature lover, ligh... 2013-01-31 01:55:58   \n",
       "0  Official twitter account for State Representat... 2017-08-30 19:54:05   \n",
       "0      School Board Trustee and Sierra Club Activist 2012-05-06 11:52:50   \n",
       "0  Hairstylist at Anderson,Cox, and Company at St... 2013-03-28 12:37:46   \n",
       "\n",
       "   user_followers  user_friends  user_favourites  user_verified  \\\n",
       "0              29            16               94          False   \n",
       "0            2547          5000             2337          False   \n",
       "0             764           803             1359          False   \n",
       "0             543          1712            19960          False   \n",
       "0              95           367             6189          False   \n",
       "\n",
       "                 date                                               text  \\\n",
       "0 2020-08-06 16:40:36  Lockdown Ends, but it doesn't mean that we all...   \n",
       "0 2020-08-06 16:40:35  \"Our New Normal\" Is Code for the New World Ord...   \n",
       "0 2020-08-06 16:40:34  Just as we in the state legislature have made ...   \n",
       "0 2020-08-06 16:40:34  This could be a school district; this wouldn’t...   \n",
       "0 2020-08-06 16:40:33  I'm standing with @DoorDash to support my loca...   \n",
       "\n",
       "                                  hashtags              source  is_retweet  \n",
       "0                                     None  Twitter for iPhone       False  \n",
       "0  [COVID19, coronavirus, EndTheNightmare]    Twitter for iPad       False  \n",
       "0                                [COVID19]           TweetDeck       False  \n",
       "0                            [UnitedShore]  Twitter for iPhone       False  \n",
       "0                                     None    Twitter for iPad       False  "
      ]
     },
     "execution_count": 10,
     "metadata": {},
     "output_type": "execute_result"
    }
   ],
   "source": [
    "tweets_df.head()"
   ]
  },
  {
   "cell_type": "markdown",
   "metadata": {},
   "source": [
    "## 5. Save the data\n",
    "\n",
    "### 5.1. Read past data"
   ]
  },
  {
   "cell_type": "code",
   "execution_count": 11,
   "metadata": {},
   "outputs": [
    {
     "name": "stdout",
     "output_type": "stream",
     "text": [
      "past tweets: (74436, 13)\n"
     ]
    }
   ],
   "source": [
    "tweets_old_df = pd.read_csv(\"covid19_tweets.csv\")\n",
    "print(f\"past tweets: {tweets_old_df.shape}\")"
   ]
  },
  {
   "cell_type": "markdown",
   "metadata": {},
   "source": [
    "### 5.2. Merge past and present data"
   ]
  },
  {
   "cell_type": "code",
   "execution_count": 12,
   "metadata": {},
   "outputs": [
    {
     "name": "stdout",
     "output_type": "stream",
     "text": [
      "new tweets: 7214 past tweets: 74436 all tweets: 81650\n"
     ]
    }
   ],
   "source": [
    "tweets_all_df = pd.concat([tweets_old_df, tweets_df], axis=0)\n",
    "print(f\"new tweets: {tweets_df.shape[0]} past tweets: {tweets_old_df.shape[0]} all tweets: {tweets_all_df.shape[0]}\")"
   ]
  },
  {
   "cell_type": "markdown",
   "metadata": {},
   "source": [
    "### 5.3. Drop duplicates"
   ]
  },
  {
   "cell_type": "code",
   "execution_count": 13,
   "metadata": {},
   "outputs": [
    {
     "name": "stdout",
     "output_type": "stream",
     "text": [
      "all tweets: (81650, 13)\n"
     ]
    }
   ],
   "source": [
    "tweets_all_df.drop_duplicates(subset = [\"user_name\", \"date\", \"text\"], inplace=True)\n",
    "print(f\"all tweets: {tweets_all_df.shape}\")"
   ]
  },
  {
   "cell_type": "markdown",
   "metadata": {},
   "source": [
    "### 5.4. Export the updated data"
   ]
  },
  {
   "cell_type": "code",
   "execution_count": 14,
   "metadata": {},
   "outputs": [],
   "source": [
    "tweets_all_df.to_csv(\"covid19_tweets.csv\", index=False)"
   ]
  },
  {
   "cell_type": "code",
   "execution_count": null,
   "metadata": {},
   "outputs": [],
   "source": []
  }
 ],
 "metadata": {
  "kernelspec": {
   "display_name": "Python 3",
   "language": "python",
   "name": "python3"
  },
  "language_info": {
   "codemirror_mode": {
    "name": "ipython",
    "version": 3
   },
   "file_extension": ".py",
   "mimetype": "text/x-python",
   "name": "python",
   "nbconvert_exporter": "python",
   "pygments_lexer": "ipython3",
   "version": "3.7.6"
  }
 },
 "nbformat": 4,
 "nbformat_minor": 4
}
