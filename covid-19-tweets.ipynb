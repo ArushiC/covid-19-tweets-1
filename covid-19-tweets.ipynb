{
 "cells": [
  {
   "cell_type": "markdown",
   "metadata": {},
   "source": [
    "## 1. Import packages"
   ]
  },
  {
   "cell_type": "code",
   "execution_count": 1,
   "metadata": {},
   "outputs": [],
   "source": [
    "#!pip install tweepy"
   ]
  },
  {
   "cell_type": "code",
   "execution_count": 2,
   "metadata": {},
   "outputs": [],
   "source": [
    "import os\n",
    "import tweepy as tw\n",
    "import pandas as pd\n",
    "from tqdm import tqdm"
   ]
  },
  {
   "cell_type": "markdown",
   "metadata": {},
   "source": [
    "## 2. Twitter API authentication"
   ]
  },
  {
   "cell_type": "code",
   "execution_count": 3,
   "metadata": {},
   "outputs": [],
   "source": [
    "consumer_api_key = os.environ[\"TWITTER_CONSUMER_API_KEY\"]\n",
    "consumer_api_secret = os.environ[\"TWITTER_CONSUMER_API_SECRET\"]"
   ]
  },
  {
   "cell_type": "code",
   "execution_count": 4,
   "metadata": {},
   "outputs": [],
   "source": [
    "auth = tw.OAuthHandler(consumer_api_key, consumer_api_secret)"
   ]
  },
  {
   "cell_type": "code",
   "execution_count": 5,
   "metadata": {},
   "outputs": [],
   "source": [
    "api = tw.API(auth, wait_on_rate_limit=True)"
   ]
  },
  {
   "cell_type": "markdown",
   "metadata": {},
   "source": [
    "## 3. Tweets query\n",
    "\n",
    "### 3.1. Define the query"
   ]
  },
  {
   "cell_type": "code",
   "execution_count": 6,
   "metadata": {},
   "outputs": [],
   "source": [
    "search_words = \"#covid19 -filter:retweets\"\n",
    "date_since = \"2020-03-01\"\n",
    "# Collect tweets\n",
    "tweets = tw.Cursor(api.search,\n",
    "              q=search_words,\n",
    "              lang=\"en\",\n",
    "              since=date_since).items(7500)"
   ]
  },
  {
   "cell_type": "markdown",
   "metadata": {},
   "source": [
    "### 3.2. Retreive the tweets"
   ]
  },
  {
   "cell_type": "code",
   "execution_count": 7,
   "metadata": {
    "scrolled": false
   },
   "outputs": [
    {
     "name": "stderr",
     "output_type": "stream",
     "text": [
      "7500it [15:37,  8.00it/s]\n"
     ]
    }
   ],
   "source": [
    "tweets_copy = []\n",
    "for tweet in tqdm(tweets):\n",
    "    tweets_copy.append(tweet)"
   ]
  },
  {
   "cell_type": "code",
   "execution_count": 8,
   "metadata": {},
   "outputs": [
    {
     "name": "stdout",
     "output_type": "stream",
     "text": [
      "new tweets retrieved: 7500\n"
     ]
    }
   ],
   "source": [
    "print(f\"new tweets retrieved: {len(tweets_copy)}\")"
   ]
  },
  {
   "cell_type": "markdown",
   "metadata": {},
   "source": [
    "## 4. Populate the dataset"
   ]
  },
  {
   "cell_type": "code",
   "execution_count": 9,
   "metadata": {
    "scrolled": false
   },
   "outputs": [
    {
     "name": "stderr",
     "output_type": "stream",
     "text": [
      "100%|██████████| 7500/7500 [00:43<00:00, 173.30it/s]\n"
     ]
    }
   ],
   "source": [
    "tweets_df = pd.DataFrame()\n",
    "for tweet in tqdm(tweets_copy):\n",
    "    hashtags = []\n",
    "    try:\n",
    "        for hashtag in tweet.entities[\"hashtags\"]:\n",
    "            hashtags.append(hashtag[\"text\"])\n",
    "    except:\n",
    "        pass\n",
    "    tweets_df = tweets_df.append(pd.DataFrame({'user_name': tweet.user.name, \n",
    "                                               'user_location': tweet.user.location,\\\n",
    "                                               'user_description': tweet.user.description,\n",
    "                                               'user_created': tweet.user.created_at,\n",
    "                                               'user_followers': tweet.user.followers_count,\n",
    "                                               'user_friends': tweet.user.friends_count,\n",
    "                                               'user_favourites': tweet.user.favourites_count,\n",
    "                                               'user_verified': tweet.user.verified,\n",
    "                                               'date': tweet.created_at,\n",
    "                                               'text': tweet.text, \n",
    "                                               'hashtags': [hashtags if hashtags else None],\n",
    "                                               'source': tweet.source,\n",
    "                                               'is_retweet': tweet.retweeted}, index=[0]))"
   ]
  },
  {
   "cell_type": "code",
   "execution_count": 10,
   "metadata": {},
   "outputs": [
    {
     "data": {
      "text/html": [
       "<div>\n",
       "<style scoped>\n",
       "    .dataframe tbody tr th:only-of-type {\n",
       "        vertical-align: middle;\n",
       "    }\n",
       "\n",
       "    .dataframe tbody tr th {\n",
       "        vertical-align: top;\n",
       "    }\n",
       "\n",
       "    .dataframe thead th {\n",
       "        text-align: right;\n",
       "    }\n",
       "</style>\n",
       "<table border=\"1\" class=\"dataframe\">\n",
       "  <thead>\n",
       "    <tr style=\"text-align: right;\">\n",
       "      <th></th>\n",
       "      <th>user_name</th>\n",
       "      <th>user_location</th>\n",
       "      <th>user_description</th>\n",
       "      <th>user_created</th>\n",
       "      <th>user_followers</th>\n",
       "      <th>user_friends</th>\n",
       "      <th>user_favourites</th>\n",
       "      <th>user_verified</th>\n",
       "      <th>date</th>\n",
       "      <th>text</th>\n",
       "      <th>hashtags</th>\n",
       "      <th>source</th>\n",
       "      <th>is_retweet</th>\n",
       "    </tr>\n",
       "  </thead>\n",
       "  <tbody>\n",
       "    <tr>\n",
       "      <th>0</th>\n",
       "      <td>Time4Stream</td>\n",
       "      <td>Napoli, Campania</td>\n",
       "      <td>Time4Stream is a service company operating in ...</td>\n",
       "      <td>2015-02-26 10:33:33</td>\n",
       "      <td>275</td>\n",
       "      <td>1247</td>\n",
       "      <td>12449</td>\n",
       "      <td>False</td>\n",
       "      <td>2020-07-27 07:17:20</td>\n",
       "      <td>Post match Interview with Luca Gotti and Walte...</td>\n",
       "      <td>None</td>\n",
       "      <td>Twitter for Android</td>\n",
       "      <td>False</td>\n",
       "    </tr>\n",
       "    <tr>\n",
       "      <th>0</th>\n",
       "      <td>Bradley...</td>\n",
       "      <td>Hampshire</td>\n",
       "      <td>Creative geek, data-analyst, student of Zen, t...</td>\n",
       "      <td>2012-04-11 18:36:02</td>\n",
       "      <td>140</td>\n",
       "      <td>201</td>\n",
       "      <td>788</td>\n",
       "      <td>False</td>\n",
       "      <td>2020-07-27 07:17:19</td>\n",
       "      <td>Why continued hand-hygiene, masks and social d...</td>\n",
       "      <td>[covid19]</td>\n",
       "      <td>Twitter Web App</td>\n",
       "      <td>False</td>\n",
       "    </tr>\n",
       "    <tr>\n",
       "      <th>0</th>\n",
       "      <td>Rajesh Kshitij</td>\n",
       "      <td>hyderabad</td>\n",
       "      <td>News 18 Network</td>\n",
       "      <td>2010-07-25 10:45:13</td>\n",
       "      <td>504</td>\n",
       "      <td>980</td>\n",
       "      <td>4613</td>\n",
       "      <td>False</td>\n",
       "      <td>2020-07-27 07:17:18</td>\n",
       "      <td>#Puducherry - 86 new #COVID19 positive cases, ...</td>\n",
       "      <td>[Puducherry, COVID19]</td>\n",
       "      <td>TweetDeck</td>\n",
       "      <td>False</td>\n",
       "    </tr>\n",
       "    <tr>\n",
       "      <th>0</th>\n",
       "      <td>ANA-MPA news</td>\n",
       "      <td>Athens, Greece</td>\n",
       "      <td>Athens News Agency - Macedonian Press Agency (...</td>\n",
       "      <td>2013-02-02 00:15:07</td>\n",
       "      <td>9453</td>\n",
       "      <td>3484</td>\n",
       "      <td>36</td>\n",
       "      <td>True</td>\n",
       "      <td>2020-07-27 07:17:18</td>\n",
       "      <td>Instructions for passengers and crews on cruis...</td>\n",
       "      <td>[Greece]</td>\n",
       "      <td>Twitter Web App</td>\n",
       "      <td>False</td>\n",
       "    </tr>\n",
       "    <tr>\n",
       "      <th>0</th>\n",
       "      <td>Rosebank Killarney</td>\n",
       "      <td>Johannesburg</td>\n",
       "      <td>All your local news supplied by the Rosebank K...</td>\n",
       "      <td>2010-08-31 08:55:43</td>\n",
       "      <td>5508</td>\n",
       "      <td>1313</td>\n",
       "      <td>348</td>\n",
       "      <td>False</td>\n",
       "      <td>2020-07-27 07:17:18</td>\n",
       "      <td>#Covid19 11 233 new cases as 265 077 recover f...</td>\n",
       "      <td>[Covid19]</td>\n",
       "      <td>Fabrik.fm</td>\n",
       "      <td>False</td>\n",
       "    </tr>\n",
       "  </tbody>\n",
       "</table>\n",
       "</div>"
      ],
      "text/plain": [
       "            user_name     user_location  \\\n",
       "0         Time4Stream  Napoli, Campania   \n",
       "0          Bradley...         Hampshire   \n",
       "0      Rajesh Kshitij         hyderabad   \n",
       "0        ANA-MPA news    Athens, Greece   \n",
       "0  Rosebank Killarney      Johannesburg   \n",
       "\n",
       "                                    user_description        user_created  \\\n",
       "0  Time4Stream is a service company operating in ... 2015-02-26 10:33:33   \n",
       "0  Creative geek, data-analyst, student of Zen, t... 2012-04-11 18:36:02   \n",
       "0                                    News 18 Network 2010-07-25 10:45:13   \n",
       "0  Athens News Agency - Macedonian Press Agency (... 2013-02-02 00:15:07   \n",
       "0  All your local news supplied by the Rosebank K... 2010-08-31 08:55:43   \n",
       "\n",
       "   user_followers  user_friends  user_favourites  user_verified  \\\n",
       "0             275          1247            12449          False   \n",
       "0             140           201              788          False   \n",
       "0             504           980             4613          False   \n",
       "0            9453          3484               36           True   \n",
       "0            5508          1313              348          False   \n",
       "\n",
       "                 date                                               text  \\\n",
       "0 2020-07-27 07:17:20  Post match Interview with Luca Gotti and Walte...   \n",
       "0 2020-07-27 07:17:19  Why continued hand-hygiene, masks and social d...   \n",
       "0 2020-07-27 07:17:18  #Puducherry - 86 new #COVID19 positive cases, ...   \n",
       "0 2020-07-27 07:17:18  Instructions for passengers and crews on cruis...   \n",
       "0 2020-07-27 07:17:18  #Covid19 11 233 new cases as 265 077 recover f...   \n",
       "\n",
       "                hashtags               source  is_retweet  \n",
       "0                   None  Twitter for Android       False  \n",
       "0              [covid19]      Twitter Web App       False  \n",
       "0  [Puducherry, COVID19]            TweetDeck       False  \n",
       "0               [Greece]      Twitter Web App       False  \n",
       "0              [Covid19]            Fabrik.fm       False  "
      ]
     },
     "execution_count": 10,
     "metadata": {},
     "output_type": "execute_result"
    }
   ],
   "source": [
    "tweets_df.head()"
   ]
  },
  {
   "cell_type": "markdown",
   "metadata": {},
   "source": [
    "## 5. Save the data\n",
    "\n",
    "### 5.1. Read past data"
   ]
  },
  {
   "cell_type": "code",
   "execution_count": 11,
   "metadata": {},
   "outputs": [
    {
     "name": "stdout",
     "output_type": "stream",
     "text": [
      "past tweets: (24676, 13)\n"
     ]
    }
   ],
   "source": [
    "tweets_old_df = pd.read_csv(\"covid19_tweets.csv\")\n",
    "print(f\"past tweets: {tweets_old_df.shape}\")"
   ]
  },
  {
   "cell_type": "markdown",
   "metadata": {},
   "source": [
    "### 5.2. Merge past and present data"
   ]
  },
  {
   "cell_type": "code",
   "execution_count": 12,
   "metadata": {},
   "outputs": [
    {
     "name": "stdout",
     "output_type": "stream",
     "text": [
      "new tweets: 7500 past tweets: 24676 all tweets: 32176\n"
     ]
    }
   ],
   "source": [
    "tweets_all_df = pd.concat([tweets_old_df, tweets_df], axis=0)\n",
    "print(f\"new tweets: {tweets_df.shape[0]} past tweets: {tweets_old_df.shape[0]} all tweets: {tweets_all_df.shape[0]}\")"
   ]
  },
  {
   "cell_type": "markdown",
   "metadata": {},
   "source": [
    "### 5.3. Drop duplicates"
   ]
  },
  {
   "cell_type": "code",
   "execution_count": 13,
   "metadata": {},
   "outputs": [
    {
     "name": "stdout",
     "output_type": "stream",
     "text": [
      "all tweets: (32176, 13)\n"
     ]
    }
   ],
   "source": [
    "tweets_all_df.drop_duplicates(subset = [\"user_name\", \"date\", \"text\"], inplace=True)\n",
    "print(f\"all tweets: {tweets_all_df.shape}\")"
   ]
  },
  {
   "cell_type": "markdown",
   "metadata": {},
   "source": [
    "### 5.4. Export the updated data"
   ]
  },
  {
   "cell_type": "code",
   "execution_count": 14,
   "metadata": {},
   "outputs": [],
   "source": [
    "tweets_all_df.to_csv(\"covid19_tweets.csv\", index=False)"
   ]
  },
  {
   "cell_type": "code",
   "execution_count": null,
   "metadata": {},
   "outputs": [],
   "source": []
  }
 ],
 "metadata": {
  "kernelspec": {
   "display_name": "Python 3",
   "language": "python",
   "name": "python3"
  },
  "language_info": {
   "codemirror_mode": {
    "name": "ipython",
    "version": 3
   },
   "file_extension": ".py",
   "mimetype": "text/x-python",
   "name": "python",
   "nbconvert_exporter": "python",
   "pygments_lexer": "ipython3",
   "version": "3.7.6"
  }
 },
 "nbformat": 4,
 "nbformat_minor": 4
}
