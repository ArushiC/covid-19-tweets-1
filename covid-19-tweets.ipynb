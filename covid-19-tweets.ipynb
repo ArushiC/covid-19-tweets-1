{
 "cells": [
  {
   "cell_type": "markdown",
   "metadata": {},
   "source": [
    "## 1. Import packages"
   ]
  },
  {
   "cell_type": "code",
   "execution_count": 1,
   "metadata": {},
   "outputs": [],
   "source": [
    "#!pip install tweepy"
   ]
  },
  {
   "cell_type": "code",
   "execution_count": 2,
   "metadata": {},
   "outputs": [],
   "source": [
    "import os\n",
    "import tweepy as tw\n",
    "import pandas as pd\n",
    "from tqdm import tqdm"
   ]
  },
  {
   "cell_type": "markdown",
   "metadata": {},
   "source": [
    "## 2. Twitter API authentication"
   ]
  },
  {
   "cell_type": "code",
   "execution_count": 3,
   "metadata": {},
   "outputs": [],
   "source": [
    "consumer_api_key = os.environ[\"TWITTER_CONSUMER_API_KEY\"]\n",
    "consumer_api_secret = os.environ[\"TWITTER_CONSUMER_API_SECRET\"]"
   ]
  },
  {
   "cell_type": "code",
   "execution_count": 4,
   "metadata": {},
   "outputs": [],
   "source": [
    "auth = tw.OAuthHandler(consumer_api_key, consumer_api_secret)"
   ]
  },
  {
   "cell_type": "code",
   "execution_count": 5,
   "metadata": {},
   "outputs": [],
   "source": [
    "api = tw.API(auth, wait_on_rate_limit=True)"
   ]
  },
  {
   "cell_type": "markdown",
   "metadata": {},
   "source": [
    "## 3. Tweets query\n",
    "\n",
    "### 3.1. Define the query"
   ]
  },
  {
   "cell_type": "code",
   "execution_count": 6,
   "metadata": {},
   "outputs": [],
   "source": [
    "search_words = \"#covid19 -filter:retweets\"\n",
    "date_since = \"2020-03-01\"\n",
    "# Collect tweets\n",
    "tweets = tw.Cursor(api.search,\n",
    "              q=search_words,\n",
    "              lang=\"en\",\n",
    "              since=date_since).items(7500)"
   ]
  },
  {
   "cell_type": "markdown",
   "metadata": {},
   "source": [
    "### 3.2. Retreive the tweets"
   ]
  },
  {
   "cell_type": "code",
   "execution_count": 7,
   "metadata": {
    "scrolled": false
   },
   "outputs": [
    {
     "name": "stderr",
     "output_type": "stream",
     "text": [
      "7500it [15:26,  8.10it/s]\n"
     ]
    }
   ],
   "source": [
    "tweets_copy = []\n",
    "for tweet in tqdm(tweets):\n",
    "    tweets_copy.append(tweet)"
   ]
  },
  {
   "cell_type": "code",
   "execution_count": 8,
   "metadata": {},
   "outputs": [
    {
     "name": "stdout",
     "output_type": "stream",
     "text": [
      "new tweets retrieved: 7500\n"
     ]
    }
   ],
   "source": [
    "print(f\"new tweets retrieved: {len(tweets_copy)}\")"
   ]
  },
  {
   "cell_type": "markdown",
   "metadata": {},
   "source": [
    "## 4. Populate the dataset"
   ]
  },
  {
   "cell_type": "code",
   "execution_count": 9,
   "metadata": {
    "scrolled": false
   },
   "outputs": [
    {
     "name": "stderr",
     "output_type": "stream",
     "text": [
      "100%|██████████| 7500/7500 [00:40<00:00, 185.68it/s]\n"
     ]
    }
   ],
   "source": [
    "tweets_df = pd.DataFrame()\n",
    "for tweet in tqdm(tweets_copy):\n",
    "    hashtags = []\n",
    "    try:\n",
    "        for hashtag in tweet.entities[\"hashtags\"]:\n",
    "            hashtags.append(hashtag[\"text\"])\n",
    "    except:\n",
    "        pass\n",
    "    tweets_df = tweets_df.append(pd.DataFrame({'user_name': tweet.user.name, \n",
    "                                               'user_location': tweet.user.location,\\\n",
    "                                               'user_description': tweet.user.description,\n",
    "                                               'user_created': tweet.user.created_at,\n",
    "                                               'user_followers': tweet.user.followers_count,\n",
    "                                               'user_friends': tweet.user.friends_count,\n",
    "                                               'user_favourites': tweet.user.favourites_count,\n",
    "                                               'user_verified': tweet.user.verified,\n",
    "                                               'date': tweet.created_at,\n",
    "                                               'text': tweet.text, \n",
    "                                               'hashtags': [hashtags if hashtags else None],\n",
    "                                               'source': tweet.source,\n",
    "                                               'is_retweet': tweet.retweeted}, index=[0]))"
   ]
  },
  {
   "cell_type": "code",
   "execution_count": 10,
   "metadata": {},
   "outputs": [
    {
     "data": {
      "text/html": [
       "<div>\n",
       "<style scoped>\n",
       "    .dataframe tbody tr th:only-of-type {\n",
       "        vertical-align: middle;\n",
       "    }\n",
       "\n",
       "    .dataframe tbody tr th {\n",
       "        vertical-align: top;\n",
       "    }\n",
       "\n",
       "    .dataframe thead th {\n",
       "        text-align: right;\n",
       "    }\n",
       "</style>\n",
       "<table border=\"1\" class=\"dataframe\">\n",
       "  <thead>\n",
       "    <tr style=\"text-align: right;\">\n",
       "      <th></th>\n",
       "      <th>user_name</th>\n",
       "      <th>user_location</th>\n",
       "      <th>user_description</th>\n",
       "      <th>user_created</th>\n",
       "      <th>user_followers</th>\n",
       "      <th>user_friends</th>\n",
       "      <th>user_favourites</th>\n",
       "      <th>user_verified</th>\n",
       "      <th>date</th>\n",
       "      <th>text</th>\n",
       "      <th>hashtags</th>\n",
       "      <th>source</th>\n",
       "      <th>is_retweet</th>\n",
       "    </tr>\n",
       "  </thead>\n",
       "  <tbody>\n",
       "    <tr>\n",
       "      <th>0</th>\n",
       "      <td>IdeaConnect</td>\n",
       "      <td>Santa Clara, CA</td>\n",
       "      <td>A Silicon Valley based network connecting disr...</td>\n",
       "      <td>2019-02-18 22:30:48</td>\n",
       "      <td>1315</td>\n",
       "      <td>1702</td>\n",
       "      <td>13294</td>\n",
       "      <td>False</td>\n",
       "      <td>2020-08-18 18:27:42</td>\n",
       "      <td>.@Pontifex @NYGovCuomo @ChrisCuomo @CNN @cnnbr...</td>\n",
       "      <td>[COVID19]</td>\n",
       "      <td>Twitter for Android</td>\n",
       "      <td>False</td>\n",
       "    </tr>\n",
       "    <tr>\n",
       "      <th>0</th>\n",
       "      <td>Governor Mike DeWine</td>\n",
       "      <td>Ohio</td>\n",
       "      <td>Official Twitter account of Governor Mike DeWi...</td>\n",
       "      <td>2009-01-09 23:40:52</td>\n",
       "      <td>382269</td>\n",
       "      <td>887</td>\n",
       "      <td>269</td>\n",
       "      <td>True</td>\n",
       "      <td>2020-08-18 18:27:42</td>\n",
       "      <td>Watch live at https://t.co/90BcIYqI19 now for ...</td>\n",
       "      <td>[COVID19]</td>\n",
       "      <td>Twitter Web App</td>\n",
       "      <td>False</td>\n",
       "    </tr>\n",
       "    <tr>\n",
       "      <th>0</th>\n",
       "      <td>1TruthSeeker</td>\n",
       "      <td>Planet Earth</td>\n",
       "      <td>Stand UP. Speak OUT. Share information. 1% vs 99%</td>\n",
       "      <td>2020-04-07 01:31:48</td>\n",
       "      <td>392</td>\n",
       "      <td>363</td>\n",
       "      <td>8103</td>\n",
       "      <td>False</td>\n",
       "      <td>2020-08-18 18:27:42</td>\n",
       "      <td>Talk about paranoid! Imagine how mentally heal...</td>\n",
       "      <td>[COVID19, Corona]</td>\n",
       "      <td>Twitter for iPhone</td>\n",
       "      <td>False</td>\n",
       "    </tr>\n",
       "    <tr>\n",
       "      <th>0</th>\n",
       "      <td>mami olivarri🧬</td>\n",
       "      <td></td>\n",
       "      <td>became a mommy to Ava July 9th, 2018 &amp; Greer F...</td>\n",
       "      <td>2015-12-19 23:35:50</td>\n",
       "      <td>151</td>\n",
       "      <td>386</td>\n",
       "      <td>7204</td>\n",
       "      <td>False</td>\n",
       "      <td>2020-08-18 18:27:39</td>\n",
       "      <td>#COVID19 thoughts https://t.co/fq3eTwwjK4</td>\n",
       "      <td>[COVID19]</td>\n",
       "      <td>Twitter for iPhone</td>\n",
       "      <td>False</td>\n",
       "    </tr>\n",
       "    <tr>\n",
       "      <th>0</th>\n",
       "      <td>Ipsos Public Affairs</td>\n",
       "      <td></td>\n",
       "      <td>Ipsos Public Affairs, the global social resear...</td>\n",
       "      <td>2009-05-21 00:38:47</td>\n",
       "      <td>5030</td>\n",
       "      <td>637</td>\n",
       "      <td>340</td>\n",
       "      <td>False</td>\n",
       "      <td>2020-08-18 18:27:38</td>\n",
       "      <td>August marks the 2nd month where the #Ipsos #C...</td>\n",
       "      <td>[Ipsos, ConsumerConfidence]</td>\n",
       "      <td>Hootsuite Inc.</td>\n",
       "      <td>False</td>\n",
       "    </tr>\n",
       "  </tbody>\n",
       "</table>\n",
       "</div>"
      ],
      "text/plain": [
       "              user_name    user_location  \\\n",
       "0           IdeaConnect  Santa Clara, CA   \n",
       "0  Governor Mike DeWine             Ohio   \n",
       "0          1TruthSeeker     Planet Earth   \n",
       "0        mami olivarri🧬                    \n",
       "0  Ipsos Public Affairs                    \n",
       "\n",
       "                                    user_description        user_created  \\\n",
       "0  A Silicon Valley based network connecting disr... 2019-02-18 22:30:48   \n",
       "0  Official Twitter account of Governor Mike DeWi... 2009-01-09 23:40:52   \n",
       "0  Stand UP. Speak OUT. Share information. 1% vs 99% 2020-04-07 01:31:48   \n",
       "0  became a mommy to Ava July 9th, 2018 & Greer F... 2015-12-19 23:35:50   \n",
       "0  Ipsos Public Affairs, the global social resear... 2009-05-21 00:38:47   \n",
       "\n",
       "   user_followers  user_friends  user_favourites  user_verified  \\\n",
       "0            1315          1702            13294          False   \n",
       "0          382269           887              269           True   \n",
       "0             392           363             8103          False   \n",
       "0             151           386             7204          False   \n",
       "0            5030           637              340          False   \n",
       "\n",
       "                 date                                               text  \\\n",
       "0 2020-08-18 18:27:42  .@Pontifex @NYGovCuomo @ChrisCuomo @CNN @cnnbr...   \n",
       "0 2020-08-18 18:27:42  Watch live at https://t.co/90BcIYqI19 now for ...   \n",
       "0 2020-08-18 18:27:42  Talk about paranoid! Imagine how mentally heal...   \n",
       "0 2020-08-18 18:27:39          #COVID19 thoughts https://t.co/fq3eTwwjK4   \n",
       "0 2020-08-18 18:27:38  August marks the 2nd month where the #Ipsos #C...   \n",
       "\n",
       "                      hashtags               source  is_retweet  \n",
       "0                    [COVID19]  Twitter for Android       False  \n",
       "0                    [COVID19]      Twitter Web App       False  \n",
       "0            [COVID19, Corona]   Twitter for iPhone       False  \n",
       "0                    [COVID19]   Twitter for iPhone       False  \n",
       "0  [Ipsos, ConsumerConfidence]       Hootsuite Inc.       False  "
      ]
     },
     "execution_count": 10,
     "metadata": {},
     "output_type": "execute_result"
    }
   ],
   "source": [
    "tweets_df.head()"
   ]
  },
  {
   "cell_type": "markdown",
   "metadata": {},
   "source": [
    "## 5. Save the data\n",
    "\n",
    "### 5.1. Read past data"
   ]
  },
  {
   "cell_type": "code",
   "execution_count": 11,
   "metadata": {},
   "outputs": [
    {
     "name": "stdout",
     "output_type": "stream",
     "text": [
      "past tweets: (147601, 13)\n"
     ]
    }
   ],
   "source": [
    "tweets_old_df = pd.read_csv(\"covid19_tweets.csv\")\n",
    "print(f\"past tweets: {tweets_old_df.shape}\")"
   ]
  },
  {
   "cell_type": "markdown",
   "metadata": {},
   "source": [
    "### 5.2. Merge past and present data"
   ]
  },
  {
   "cell_type": "code",
   "execution_count": 12,
   "metadata": {},
   "outputs": [
    {
     "name": "stdout",
     "output_type": "stream",
     "text": [
      "new tweets: 7500 past tweets: 147601 all tweets: 155101\n"
     ]
    }
   ],
   "source": [
    "tweets_all_df = pd.concat([tweets_old_df, tweets_df], axis=0)\n",
    "print(f\"new tweets: {tweets_df.shape[0]} past tweets: {tweets_old_df.shape[0]} all tweets: {tweets_all_df.shape[0]}\")"
   ]
  },
  {
   "cell_type": "markdown",
   "metadata": {},
   "source": [
    "### 5.3. Drop duplicates"
   ]
  },
  {
   "cell_type": "code",
   "execution_count": 13,
   "metadata": {},
   "outputs": [
    {
     "name": "stdout",
     "output_type": "stream",
     "text": [
      "all tweets: (155101, 13)\n"
     ]
    }
   ],
   "source": [
    "tweets_all_df.drop_duplicates(subset = [\"user_name\", \"date\", \"text\"], inplace=True)\n",
    "print(f\"all tweets: {tweets_all_df.shape}\")"
   ]
  },
  {
   "cell_type": "markdown",
   "metadata": {},
   "source": [
    "### 5.4. Export the updated data"
   ]
  },
  {
   "cell_type": "code",
   "execution_count": 14,
   "metadata": {},
   "outputs": [],
   "source": [
    "tweets_all_df.to_csv(\"covid19_tweets.csv\", index=False)"
   ]
  },
  {
   "cell_type": "code",
   "execution_count": null,
   "metadata": {},
   "outputs": [],
   "source": []
  }
 ],
 "metadata": {
  "kernelspec": {
   "display_name": "Python 3",
   "language": "python",
   "name": "python3"
  },
  "language_info": {
   "codemirror_mode": {
    "name": "ipython",
    "version": 3
   },
   "file_extension": ".py",
   "mimetype": "text/x-python",
   "name": "python",
   "nbconvert_exporter": "python",
   "pygments_lexer": "ipython3",
   "version": "3.7.6"
  }
 },
 "nbformat": 4,
 "nbformat_minor": 4
}
