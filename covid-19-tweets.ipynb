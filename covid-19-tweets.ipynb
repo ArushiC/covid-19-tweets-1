{
 "cells": [
  {
   "cell_type": "markdown",
   "metadata": {},
   "source": [
    "## 1. Import packages"
   ]
  },
  {
   "cell_type": "code",
   "execution_count": 1,
   "metadata": {},
   "outputs": [],
   "source": [
    "#!pip install tweepy"
   ]
  },
  {
   "cell_type": "code",
   "execution_count": 2,
   "metadata": {},
   "outputs": [],
   "source": [
    "import os\n",
    "import tweepy as tw\n",
    "import pandas as pd\n",
    "from tqdm import tqdm"
   ]
  },
  {
   "cell_type": "markdown",
   "metadata": {},
   "source": [
    "## 2. Twitter API authentication"
   ]
  },
  {
   "cell_type": "code",
   "execution_count": 3,
   "metadata": {},
   "outputs": [],
   "source": [
    "consumer_api_key = os.environ[\"TWITTER_CONSUMER_API_KEY\"]\n",
    "consumer_api_secret = os.environ[\"TWITTER_CONSUMER_API_SECRET\"]"
   ]
  },
  {
   "cell_type": "code",
   "execution_count": 4,
   "metadata": {},
   "outputs": [],
   "source": [
    "auth = tw.OAuthHandler(consumer_api_key, consumer_api_secret)"
   ]
  },
  {
   "cell_type": "code",
   "execution_count": 5,
   "metadata": {},
   "outputs": [],
   "source": [
    "api = tw.API(auth, wait_on_rate_limit=True)"
   ]
  },
  {
   "cell_type": "markdown",
   "metadata": {},
   "source": [
    "## 3. Tweets query\n",
    "\n",
    "### 3.1. Define the query"
   ]
  },
  {
   "cell_type": "code",
   "execution_count": 6,
   "metadata": {},
   "outputs": [],
   "source": [
    "search_words = \"#covid19 -filter:retweets\"\n",
    "date_since = \"2020-03-01\"\n",
    "# Collect tweets\n",
    "tweets = tw.Cursor(api.search,\n",
    "              q=search_words,\n",
    "              lang=\"en\",\n",
    "              since=date_since).items(7500)"
   ]
  },
  {
   "cell_type": "markdown",
   "metadata": {},
   "source": [
    "### 3.2. Retreive the tweets"
   ]
  },
  {
   "cell_type": "code",
   "execution_count": 7,
   "metadata": {
    "scrolled": false
   },
   "outputs": [
    {
     "name": "stderr",
     "output_type": "stream",
     "text": [
      "7500it [15:37,  8.00it/s]\n"
     ]
    }
   ],
   "source": [
    "tweets_copy = []\n",
    "for tweet in tqdm(tweets):\n",
    "    tweets_copy.append(tweet)"
   ]
  },
  {
   "cell_type": "code",
   "execution_count": 8,
   "metadata": {},
   "outputs": [
    {
     "name": "stdout",
     "output_type": "stream",
     "text": [
      "new tweets retrieved: 7500\n"
     ]
    }
   ],
   "source": [
    "print(f\"new tweets retrieved: {len(tweets_copy)}\")"
   ]
  },
  {
   "cell_type": "markdown",
   "metadata": {},
   "source": [
    "## 4. Populate the dataset"
   ]
  },
  {
   "cell_type": "code",
   "execution_count": 9,
   "metadata": {
    "scrolled": false
   },
   "outputs": [
    {
     "name": "stderr",
     "output_type": "stream",
     "text": [
      "100%|██████████| 7500/7500 [00:37<00:00, 198.99it/s]\n"
     ]
    }
   ],
   "source": [
    "tweets_df = pd.DataFrame()\n",
    "for tweet in tqdm(tweets_copy):\n",
    "    hashtags = []\n",
    "    try:\n",
    "        for hashtag in tweet.entities[\"hashtags\"]:\n",
    "            hashtags.append(hashtag[\"text\"])\n",
    "    except:\n",
    "        pass\n",
    "    tweets_df = tweets_df.append(pd.DataFrame({'user_name': tweet.user.name, \n",
    "                                               'user_location': tweet.user.location,\\\n",
    "                                               'user_description': tweet.user.description,\n",
    "                                               'user_created': tweet.user.created_at,\n",
    "                                               'user_followers': tweet.user.followers_count,\n",
    "                                               'user_friends': tweet.user.friends_count,\n",
    "                                               'user_favourites': tweet.user.favourites_count,\n",
    "                                               'user_verified': tweet.user.verified,\n",
    "                                               'date': tweet.created_at,\n",
    "                                               'text': tweet.text, \n",
    "                                               'hashtags': [hashtags if hashtags else None],\n",
    "                                               'source': tweet.source,\n",
    "                                               'is_retweet': tweet.retweeted}, index=[0]))"
   ]
  },
  {
   "cell_type": "code",
   "execution_count": 10,
   "metadata": {},
   "outputs": [
    {
     "data": {
      "text/html": [
       "<div>\n",
       "<style scoped>\n",
       "    .dataframe tbody tr th:only-of-type {\n",
       "        vertical-align: middle;\n",
       "    }\n",
       "\n",
       "    .dataframe tbody tr th {\n",
       "        vertical-align: top;\n",
       "    }\n",
       "\n",
       "    .dataframe thead th {\n",
       "        text-align: right;\n",
       "    }\n",
       "</style>\n",
       "<table border=\"1\" class=\"dataframe\">\n",
       "  <thead>\n",
       "    <tr style=\"text-align: right;\">\n",
       "      <th></th>\n",
       "      <th>user_name</th>\n",
       "      <th>user_location</th>\n",
       "      <th>user_description</th>\n",
       "      <th>user_created</th>\n",
       "      <th>user_followers</th>\n",
       "      <th>user_friends</th>\n",
       "      <th>user_favourites</th>\n",
       "      <th>user_verified</th>\n",
       "      <th>date</th>\n",
       "      <th>text</th>\n",
       "      <th>hashtags</th>\n",
       "      <th>source</th>\n",
       "      <th>is_retweet</th>\n",
       "    </tr>\n",
       "  </thead>\n",
       "  <tbody>\n",
       "    <tr>\n",
       "      <th>0</th>\n",
       "      <td>Marley</td>\n",
       "      <td></td>\n",
       "      <td></td>\n",
       "      <td>2020-01-27 01:17:53</td>\n",
       "      <td>56</td>\n",
       "      <td>587</td>\n",
       "      <td>50037</td>\n",
       "      <td>False</td>\n",
       "      <td>2020-08-01 19:21:48</td>\n",
       "      <td>@SenCoryGardner While Colorado turns 144 today...</td>\n",
       "      <td>[COVID19]</td>\n",
       "      <td>Twitter for iPhone</td>\n",
       "      <td>False</td>\n",
       "    </tr>\n",
       "    <tr>\n",
       "      <th>0</th>\n",
       "      <td>Revolution Is Human Evolution 🌹</td>\n",
       "      <td></td>\n",
       "      <td>a.k.a. CuriosityKilledtheCat@9Times Later &amp; Ma...</td>\n",
       "      <td>2020-06-11 04:12:23</td>\n",
       "      <td>309</td>\n",
       "      <td>822</td>\n",
       "      <td>4411</td>\n",
       "      <td>False</td>\n",
       "      <td>2020-08-01 19:21:47</td>\n",
       "      <td>Obscene is the word for it. So are corrupt, av...</td>\n",
       "      <td>None</td>\n",
       "      <td>Twitter for Android</td>\n",
       "      <td>False</td>\n",
       "    </tr>\n",
       "    <tr>\n",
       "      <th>0</th>\n",
       "      <td>HarryQuim</td>\n",
       "      <td></td>\n",
       "      <td>Retweets not necessarily an endorsement.</td>\n",
       "      <td>2017-06-15 12:33:30</td>\n",
       "      <td>490</td>\n",
       "      <td>546</td>\n",
       "      <td>3873</td>\n",
       "      <td>False</td>\n",
       "      <td>2020-08-01 19:21:47</td>\n",
       "      <td>Meet another knob head. Labour MP @JonAshworth...</td>\n",
       "      <td>None</td>\n",
       "      <td>Twitter Web App</td>\n",
       "      <td>False</td>\n",
       "    </tr>\n",
       "    <tr>\n",
       "      <th>0</th>\n",
       "      <td>Suzanne Winchester</td>\n",
       "      <td>Salt Lake City, UT</td>\n",
       "      <td>Media Relations focusing on the world of healt...</td>\n",
       "      <td>2009-07-14 19:43:18</td>\n",
       "      <td>519</td>\n",
       "      <td>921</td>\n",
       "      <td>6196</td>\n",
       "      <td>False</td>\n",
       "      <td>2020-08-01 19:21:45</td>\n",
       "      <td>In triple-digit temperatures, hospitals ramp u...</td>\n",
       "      <td>None</td>\n",
       "      <td>Twitter for iPhone</td>\n",
       "      <td>False</td>\n",
       "    </tr>\n",
       "    <tr>\n",
       "      <th>0</th>\n",
       "      <td>70 Million Jobs</td>\n",
       "      <td>Los Angeles, CA</td>\n",
       "      <td>First national, for-profit employment platform...</td>\n",
       "      <td>2016-06-15 15:43:48</td>\n",
       "      <td>1281</td>\n",
       "      <td>798</td>\n",
       "      <td>2432</td>\n",
       "      <td>False</td>\n",
       "      <td>2020-08-01 19:21:41</td>\n",
       "      <td>As of July 28, nearly 79,000 people in prison ...</td>\n",
       "      <td>[COVID19]</td>\n",
       "      <td>TweetDeck</td>\n",
       "      <td>False</td>\n",
       "    </tr>\n",
       "  </tbody>\n",
       "</table>\n",
       "</div>"
      ],
      "text/plain": [
       "                         user_name       user_location  \\\n",
       "0                           Marley                       \n",
       "0  Revolution Is Human Evolution 🌹                       \n",
       "0                        HarryQuim                       \n",
       "0               Suzanne Winchester  Salt Lake City, UT   \n",
       "0                  70 Million Jobs     Los Angeles, CA   \n",
       "\n",
       "                                    user_description        user_created  \\\n",
       "0                                                    2020-01-27 01:17:53   \n",
       "0  a.k.a. CuriosityKilledtheCat@9Times Later & Ma... 2020-06-11 04:12:23   \n",
       "0           Retweets not necessarily an endorsement. 2017-06-15 12:33:30   \n",
       "0  Media Relations focusing on the world of healt... 2009-07-14 19:43:18   \n",
       "0  First national, for-profit employment platform... 2016-06-15 15:43:48   \n",
       "\n",
       "   user_followers  user_friends  user_favourites  user_verified  \\\n",
       "0              56           587            50037          False   \n",
       "0             309           822             4411          False   \n",
       "0             490           546             3873          False   \n",
       "0             519           921             6196          False   \n",
       "0            1281           798             2432          False   \n",
       "\n",
       "                 date                                               text  \\\n",
       "0 2020-08-01 19:21:48  @SenCoryGardner While Colorado turns 144 today...   \n",
       "0 2020-08-01 19:21:47  Obscene is the word for it. So are corrupt, av...   \n",
       "0 2020-08-01 19:21:47  Meet another knob head. Labour MP @JonAshworth...   \n",
       "0 2020-08-01 19:21:45  In triple-digit temperatures, hospitals ramp u...   \n",
       "0 2020-08-01 19:21:41  As of July 28, nearly 79,000 people in prison ...   \n",
       "\n",
       "    hashtags               source  is_retweet  \n",
       "0  [COVID19]   Twitter for iPhone       False  \n",
       "0       None  Twitter for Android       False  \n",
       "0       None      Twitter Web App       False  \n",
       "0       None   Twitter for iPhone       False  \n",
       "0  [COVID19]            TweetDeck       False  "
      ]
     },
     "execution_count": 10,
     "metadata": {},
     "output_type": "execute_result"
    }
   ],
   "source": [
    "tweets_df.head()"
   ]
  },
  {
   "cell_type": "markdown",
   "metadata": {},
   "source": [
    "## 5. Save the data\n",
    "\n",
    "### 5.1. Read past data"
   ]
  },
  {
   "cell_type": "code",
   "execution_count": 11,
   "metadata": {},
   "outputs": [
    {
     "name": "stdout",
     "output_type": "stream",
     "text": [
      "past tweets: (51936, 13)\n"
     ]
    }
   ],
   "source": [
    "tweets_old_df = pd.read_csv(\"covid19_tweets.csv\")\n",
    "print(f\"past tweets: {tweets_old_df.shape}\")"
   ]
  },
  {
   "cell_type": "markdown",
   "metadata": {},
   "source": [
    "### 5.2. Merge past and present data"
   ]
  },
  {
   "cell_type": "code",
   "execution_count": 12,
   "metadata": {},
   "outputs": [
    {
     "name": "stdout",
     "output_type": "stream",
     "text": [
      "new tweets: 7500 past tweets: 51936 all tweets: 59436\n"
     ]
    }
   ],
   "source": [
    "tweets_all_df = pd.concat([tweets_old_df, tweets_df], axis=0)\n",
    "print(f\"new tweets: {tweets_df.shape[0]} past tweets: {tweets_old_df.shape[0]} all tweets: {tweets_all_df.shape[0]}\")"
   ]
  },
  {
   "cell_type": "markdown",
   "metadata": {},
   "source": [
    "### 5.3. Drop duplicates"
   ]
  },
  {
   "cell_type": "code",
   "execution_count": 13,
   "metadata": {},
   "outputs": [
    {
     "name": "stdout",
     "output_type": "stream",
     "text": [
      "all tweets: (59436, 13)\n"
     ]
    }
   ],
   "source": [
    "tweets_all_df.drop_duplicates(subset = [\"user_name\", \"date\", \"text\"], inplace=True)\n",
    "print(f\"all tweets: {tweets_all_df.shape}\")"
   ]
  },
  {
   "cell_type": "markdown",
   "metadata": {},
   "source": [
    "### 5.4. Export the updated data"
   ]
  },
  {
   "cell_type": "code",
   "execution_count": 14,
   "metadata": {},
   "outputs": [],
   "source": [
    "tweets_all_df.to_csv(\"covid19_tweets.csv\", index=False)"
   ]
  },
  {
   "cell_type": "code",
   "execution_count": null,
   "metadata": {},
   "outputs": [],
   "source": []
  }
 ],
 "metadata": {
  "kernelspec": {
   "display_name": "Python 3",
   "language": "python",
   "name": "python3"
  },
  "language_info": {
   "codemirror_mode": {
    "name": "ipython",
    "version": 3
   },
   "file_extension": ".py",
   "mimetype": "text/x-python",
   "name": "python",
   "nbconvert_exporter": "python",
   "pygments_lexer": "ipython3",
   "version": "3.7.6"
  }
 },
 "nbformat": 4,
 "nbformat_minor": 4
}
