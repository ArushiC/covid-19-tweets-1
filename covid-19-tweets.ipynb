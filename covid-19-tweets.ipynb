{
 "cells": [
  {
   "cell_type": "markdown",
   "metadata": {},
   "source": [
    "## 1. Import packages"
   ]
  },
  {
   "cell_type": "code",
   "execution_count": 1,
   "metadata": {},
   "outputs": [],
   "source": [
    "#!pip install tweepy"
   ]
  },
  {
   "cell_type": "code",
   "execution_count": 2,
   "metadata": {},
   "outputs": [],
   "source": [
    "import os\n",
    "import tweepy as tw\n",
    "import pandas as pd\n",
    "from tqdm import tqdm"
   ]
  },
  {
   "cell_type": "markdown",
   "metadata": {},
   "source": [
    "## 2. Twitter API authentication"
   ]
  },
  {
   "cell_type": "code",
   "execution_count": 3,
   "metadata": {},
   "outputs": [],
   "source": [
    "consumer_api_key = os.environ[\"TWITTER_CONSUMER_API_KEY\"]\n",
    "consumer_api_secret = os.environ[\"TWITTER_CONSUMER_API_SECRET\"]"
   ]
  },
  {
   "cell_type": "code",
   "execution_count": 4,
   "metadata": {},
   "outputs": [],
   "source": [
    "auth = tw.OAuthHandler(consumer_api_key, consumer_api_secret)"
   ]
  },
  {
   "cell_type": "code",
   "execution_count": 5,
   "metadata": {},
   "outputs": [],
   "source": [
    "api = tw.API(auth, wait_on_rate_limit=True)"
   ]
  },
  {
   "cell_type": "markdown",
   "metadata": {},
   "source": [
    "## 3. Tweets query\n",
    "\n",
    "### 3.1. Define the query"
   ]
  },
  {
   "cell_type": "code",
   "execution_count": 6,
   "metadata": {},
   "outputs": [],
   "source": [
    "search_words = \"#covid19 -filter:retweets\"\n",
    "date_since = \"2020-03-01\"\n",
    "# Collect tweets\n",
    "tweets = tw.Cursor(api.search,\n",
    "              q=search_words,\n",
    "              lang=\"en\",\n",
    "              since=date_since).items(7500)"
   ]
  },
  {
   "cell_type": "markdown",
   "metadata": {},
   "source": [
    "### 3.2. Retreive the tweets"
   ]
  },
  {
   "cell_type": "code",
   "execution_count": 7,
   "metadata": {
    "scrolled": false
   },
   "outputs": [
    {
     "name": "stderr",
     "output_type": "stream",
     "text": [
      "7500it [15:31,  8.05it/s]\n"
     ]
    }
   ],
   "source": [
    "tweets_copy = []\n",
    "for tweet in tqdm(tweets):\n",
    "    tweets_copy.append(tweet)"
   ]
  },
  {
   "cell_type": "code",
   "execution_count": 8,
   "metadata": {},
   "outputs": [
    {
     "name": "stdout",
     "output_type": "stream",
     "text": [
      "new tweets retrieved: 7500\n"
     ]
    }
   ],
   "source": [
    "print(f\"new tweets retrieved: {len(tweets_copy)}\")"
   ]
  },
  {
   "cell_type": "markdown",
   "metadata": {},
   "source": [
    "## 4. Populate the dataset"
   ]
  },
  {
   "cell_type": "code",
   "execution_count": 9,
   "metadata": {
    "scrolled": false
   },
   "outputs": [
    {
     "name": "stderr",
     "output_type": "stream",
     "text": [
      "100%|██████████| 7500/7500 [00:39<00:00, 189.51it/s]\n"
     ]
    }
   ],
   "source": [
    "tweets_df = pd.DataFrame()\n",
    "for tweet in tqdm(tweets_copy):\n",
    "    hashtags = []\n",
    "    try:\n",
    "        for hashtag in tweet.entities[\"hashtags\"]:\n",
    "            hashtags.append(hashtag[\"text\"])\n",
    "    except:\n",
    "        pass\n",
    "    tweets_df = tweets_df.append(pd.DataFrame({'user_name': tweet.user.name, \n",
    "                                               'user_location': tweet.user.location,\\\n",
    "                                               'user_description': tweet.user.description,\n",
    "                                               'user_created': tweet.user.created_at,\n",
    "                                               'user_followers': tweet.user.followers_count,\n",
    "                                               'user_friends': tweet.user.friends_count,\n",
    "                                               'user_favourites': tweet.user.favourites_count,\n",
    "                                               'user_verified': tweet.user.verified,\n",
    "                                               'date': tweet.created_at,\n",
    "                                               'text': tweet.text, \n",
    "                                               'hashtags': [hashtags if hashtags else None],\n",
    "                                               'source': tweet.source,\n",
    "                                               'is_retweet': tweet.retweeted}, index=[0]))"
   ]
  },
  {
   "cell_type": "code",
   "execution_count": 10,
   "metadata": {},
   "outputs": [
    {
     "data": {
      "text/html": [
       "<div>\n",
       "<style scoped>\n",
       "    .dataframe tbody tr th:only-of-type {\n",
       "        vertical-align: middle;\n",
       "    }\n",
       "\n",
       "    .dataframe tbody tr th {\n",
       "        vertical-align: top;\n",
       "    }\n",
       "\n",
       "    .dataframe thead th {\n",
       "        text-align: right;\n",
       "    }\n",
       "</style>\n",
       "<table border=\"1\" class=\"dataframe\">\n",
       "  <thead>\n",
       "    <tr style=\"text-align: right;\">\n",
       "      <th></th>\n",
       "      <th>user_name</th>\n",
       "      <th>user_location</th>\n",
       "      <th>user_description</th>\n",
       "      <th>user_created</th>\n",
       "      <th>user_followers</th>\n",
       "      <th>user_friends</th>\n",
       "      <th>user_favourites</th>\n",
       "      <th>user_verified</th>\n",
       "      <th>date</th>\n",
       "      <th>text</th>\n",
       "      <th>hashtags</th>\n",
       "      <th>source</th>\n",
       "      <th>is_retweet</th>\n",
       "    </tr>\n",
       "  </thead>\n",
       "  <tbody>\n",
       "    <tr>\n",
       "      <th>0</th>\n",
       "      <td>Insurance Fraud Enforcement Department</td>\n",
       "      <td>City of London</td>\n",
       "      <td>We’re the @CityPoliceFraud unit that tackles U...</td>\n",
       "      <td>2012-02-03 13:57:48</td>\n",
       "      <td>3707</td>\n",
       "      <td>547</td>\n",
       "      <td>291</td>\n",
       "      <td>True</td>\n",
       "      <td>2020-08-12 09:49:46</td>\n",
       "      <td>Criminals will use whatever means they can to ...</td>\n",
       "      <td>None</td>\n",
       "      <td>Twitter Web App</td>\n",
       "      <td>False</td>\n",
       "    </tr>\n",
       "    <tr>\n",
       "      <th>0</th>\n",
       "      <td>AmigaRules 🇦🇺🇬🇧 #DefundBBC #BREXIT2021</td>\n",
       "      <td>United Kingdom</td>\n",
       "      <td>\"The internet is good at bringing people toget...</td>\n",
       "      <td>2013-05-12 08:43:32</td>\n",
       "      <td>233</td>\n",
       "      <td>365</td>\n",
       "      <td>1290</td>\n",
       "      <td>False</td>\n",
       "      <td>2020-08-12 09:49:46</td>\n",
       "      <td>@piersmorgan Ah you might say that Piers,\\n\\nB...</td>\n",
       "      <td>None</td>\n",
       "      <td>Twitter Web App</td>\n",
       "      <td>False</td>\n",
       "    </tr>\n",
       "    <tr>\n",
       "      <th>0</th>\n",
       "      <td>Novel Coronavirus - Covid19</td>\n",
       "      <td></td>\n",
       "      <td>Global Coronavirus news from journals, media, ...</td>\n",
       "      <td>2020-01-06 17:09:38</td>\n",
       "      <td>44435</td>\n",
       "      <td>36</td>\n",
       "      <td>6</td>\n",
       "      <td>False</td>\n",
       "      <td>2020-08-12 09:49:45</td>\n",
       "      <td>Association Between Statewide School Closure a...</td>\n",
       "      <td>[COVID19]</td>\n",
       "      <td>Twitter Web App</td>\n",
       "      <td>False</td>\n",
       "    </tr>\n",
       "    <tr>\n",
       "      <th>0</th>\n",
       "      <td>John Cornelius</td>\n",
       "      <td></td>\n",
       "      <td>Languages, the arts, politics &amp; current affair...</td>\n",
       "      <td>2015-06-13 19:51:12</td>\n",
       "      <td>174</td>\n",
       "      <td>269</td>\n",
       "      <td>8592</td>\n",
       "      <td>False</td>\n",
       "      <td>2020-08-12 09:49:45</td>\n",
       "      <td>I suspect we’re going to be seeing a lot of th...</td>\n",
       "      <td>[Covid19]</td>\n",
       "      <td>Twitter for iPad</td>\n",
       "      <td>False</td>\n",
       "    </tr>\n",
       "    <tr>\n",
       "      <th>0</th>\n",
       "      <td>MochaParties</td>\n",
       "      <td>Universal</td>\n",
       "      <td>#Lifestyle events with a NO PRESSURE ENVIRONME...</td>\n",
       "      <td>2010-07-16 05:10:54</td>\n",
       "      <td>2396</td>\n",
       "      <td>1836</td>\n",
       "      <td>4</td>\n",
       "      <td>False</td>\n",
       "      <td>2020-08-12 09:49:44</td>\n",
       "      <td>The latest The Interracial Swingers Daily! htt...</td>\n",
       "      <td>[technology, covid19]</td>\n",
       "      <td>Paper.li</td>\n",
       "      <td>False</td>\n",
       "    </tr>\n",
       "  </tbody>\n",
       "</table>\n",
       "</div>"
      ],
      "text/plain": [
       "                                user_name   user_location  \\\n",
       "0  Insurance Fraud Enforcement Department  City of London   \n",
       "0  AmigaRules 🇦🇺🇬🇧 #DefundBBC #BREXIT2021  United Kingdom   \n",
       "0             Novel Coronavirus - Covid19                   \n",
       "0                          John Cornelius                   \n",
       "0                            MochaParties       Universal   \n",
       "\n",
       "                                    user_description        user_created  \\\n",
       "0  We’re the @CityPoliceFraud unit that tackles U... 2012-02-03 13:57:48   \n",
       "0  \"The internet is good at bringing people toget... 2013-05-12 08:43:32   \n",
       "0  Global Coronavirus news from journals, media, ... 2020-01-06 17:09:38   \n",
       "0  Languages, the arts, politics & current affair... 2015-06-13 19:51:12   \n",
       "0  #Lifestyle events with a NO PRESSURE ENVIRONME... 2010-07-16 05:10:54   \n",
       "\n",
       "   user_followers  user_friends  user_favourites  user_verified  \\\n",
       "0            3707           547              291           True   \n",
       "0             233           365             1290          False   \n",
       "0           44435            36                6          False   \n",
       "0             174           269             8592          False   \n",
       "0            2396          1836                4          False   \n",
       "\n",
       "                 date                                               text  \\\n",
       "0 2020-08-12 09:49:46  Criminals will use whatever means they can to ...   \n",
       "0 2020-08-12 09:49:46  @piersmorgan Ah you might say that Piers,\\n\\nB...   \n",
       "0 2020-08-12 09:49:45  Association Between Statewide School Closure a...   \n",
       "0 2020-08-12 09:49:45  I suspect we’re going to be seeing a lot of th...   \n",
       "0 2020-08-12 09:49:44  The latest The Interracial Swingers Daily! htt...   \n",
       "\n",
       "                hashtags            source  is_retweet  \n",
       "0                   None   Twitter Web App       False  \n",
       "0                   None   Twitter Web App       False  \n",
       "0              [COVID19]   Twitter Web App       False  \n",
       "0              [Covid19]  Twitter for iPad       False  \n",
       "0  [technology, covid19]          Paper.li       False  "
      ]
     },
     "execution_count": 10,
     "metadata": {},
     "output_type": "execute_result"
    }
   ],
   "source": [
    "tweets_df.head()"
   ]
  },
  {
   "cell_type": "markdown",
   "metadata": {},
   "source": [
    "## 5. Save the data\n",
    "\n",
    "### 5.1. Read past data"
   ]
  },
  {
   "cell_type": "code",
   "execution_count": 11,
   "metadata": {},
   "outputs": [
    {
     "name": "stdout",
     "output_type": "stream",
     "text": [
      "past tweets: (110101, 13)\n"
     ]
    }
   ],
   "source": [
    "tweets_old_df = pd.read_csv(\"covid19_tweets.csv\")\n",
    "print(f\"past tweets: {tweets_old_df.shape}\")"
   ]
  },
  {
   "cell_type": "markdown",
   "metadata": {},
   "source": [
    "### 5.2. Merge past and present data"
   ]
  },
  {
   "cell_type": "code",
   "execution_count": 12,
   "metadata": {},
   "outputs": [
    {
     "name": "stdout",
     "output_type": "stream",
     "text": [
      "new tweets: 7500 past tweets: 110101 all tweets: 117601\n"
     ]
    }
   ],
   "source": [
    "tweets_all_df = pd.concat([tweets_old_df, tweets_df], axis=0)\n",
    "print(f\"new tweets: {tweets_df.shape[0]} past tweets: {tweets_old_df.shape[0]} all tweets: {tweets_all_df.shape[0]}\")"
   ]
  },
  {
   "cell_type": "markdown",
   "metadata": {},
   "source": [
    "### 5.3. Drop duplicates"
   ]
  },
  {
   "cell_type": "code",
   "execution_count": 13,
   "metadata": {},
   "outputs": [
    {
     "name": "stdout",
     "output_type": "stream",
     "text": [
      "all tweets: (117601, 13)\n"
     ]
    }
   ],
   "source": [
    "tweets_all_df.drop_duplicates(subset = [\"user_name\", \"date\", \"text\"], inplace=True)\n",
    "print(f\"all tweets: {tweets_all_df.shape}\")"
   ]
  },
  {
   "cell_type": "markdown",
   "metadata": {},
   "source": [
    "### 5.4. Export the updated data"
   ]
  },
  {
   "cell_type": "code",
   "execution_count": 14,
   "metadata": {},
   "outputs": [],
   "source": [
    "tweets_all_df.to_csv(\"covid19_tweets.csv\", index=False)"
   ]
  },
  {
   "cell_type": "code",
   "execution_count": null,
   "metadata": {},
   "outputs": [],
   "source": []
  }
 ],
 "metadata": {
  "kernelspec": {
   "display_name": "Python 3",
   "language": "python",
   "name": "python3"
  },
  "language_info": {
   "codemirror_mode": {
    "name": "ipython",
    "version": 3
   },
   "file_extension": ".py",
   "mimetype": "text/x-python",
   "name": "python",
   "nbconvert_exporter": "python",
   "pygments_lexer": "ipython3",
   "version": "3.7.6"
  }
 },
 "nbformat": 4,
 "nbformat_minor": 4
}
